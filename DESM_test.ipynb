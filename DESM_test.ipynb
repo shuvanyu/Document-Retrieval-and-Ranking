{
 "cells": [
  {
   "cell_type": "code",
   "execution_count": 1,
   "metadata": {},
   "outputs": [
    {
     "name": "stdout",
     "output_type": "stream",
     "text": [
      "Working Directory:  /scratch/ss15592/NLP-Project\n"
     ]
    }
   ],
   "source": [
    "path = !pwd\n",
    "path = path[0]\n",
    "\n",
    "if path != '/scratch/ss15592/NLP-Project':\n",
    "    %cd '/scratch/ss15592/NLP-Project'\n",
    "\n",
    "print('Working Directory: ', path)"
   ]
  },
  {
   "cell_type": "code",
   "execution_count": 2,
   "metadata": {
    "colab": {
     "base_uri": "https://localhost:8080/",
     "height": 109
    },
    "executionInfo": {
     "elapsed": 26060,
     "status": "ok",
     "timestamp": 1682173668567,
     "user": {
      "displayName": "Shuvadeep Saha",
      "userId": "08894137925001480230"
     },
     "user_tz": 240
    },
    "id": "GER_6G65OkCH",
    "outputId": "0fb1b4bb-3323-47b5-9c07-a982a920493a"
   },
   "outputs": [
    {
     "name": "stderr",
     "output_type": "stream",
     "text": [
      "[nltk_data] Downloading package punkt to /home/ss15592/nltk_data...\n",
      "[nltk_data]   Package punkt is already up-to-date!\n"
     ]
    },
    {
     "data": {
      "text/plain": [
       "' Dual Embedding Space Testing '"
      ]
     },
     "execution_count": 2,
     "metadata": {},
     "output_type": "execute_result"
    }
   ],
   "source": [
    "import sys, os, csv, glob, json, uuid, pickle, math\n",
    "import gensim, logging\n",
    "import numpy as np, scipy, pandas as pd\n",
    "import nltk\n",
    "nltk.download('punkt')\n",
    "from operator import itemgetter\n",
    "import re\n",
    "\n",
    "''' Dual Embedding Space Testing '''"
   ]
  },
  {
   "cell_type": "code",
   "execution_count": 3,
   "metadata": {
    "executionInfo": {
     "elapsed": 8,
     "status": "ok",
     "timestamp": 1682173668568,
     "user": {
      "displayName": "Shuvadeep Saha",
      "userId": "08894137925001480230"
     },
     "user_tz": 240
    },
    "id": "RPnZIYZdT3JG"
   },
   "outputs": [],
   "source": [
    "def get_embedding(x, vector_size, model, out=False):\n",
    "    if x in model.wv and out == True:\n",
    "        return model.syn1neg[model.wv.key_to_index[x]]\n",
    "    \n",
    "    elif x in model.wv and out == False:\n",
    "        return model.wv[x]\n",
    "    \n",
    "    else:\n",
    "        return np.zeros(vector_size)"
   ]
  },
  {
   "cell_type": "code",
   "execution_count": 4,
   "metadata": {
    "executionInfo": {
     "elapsed": 1904,
     "status": "ok",
     "timestamp": 1682173670466,
     "user": {
      "displayName": "Shuvadeep Saha",
      "userId": "08894137925001480230"
     },
     "user_tz": 240
    },
    "id": "4QAtcDp6OocB"
   },
   "outputs": [],
   "source": [
    "query = 'veal'\n",
    "query_tokens = nltk.word_tokenize(query.lower())\n",
    "model = gensim.models.Word2Vec.load(\"./model/w2v-lc.model\")"
   ]
  },
  {
   "cell_type": "code",
   "execution_count": 5,
   "metadata": {
    "colab": {
     "base_uri": "https://localhost:8080/"
    },
    "executionInfo": {
     "elapsed": 12,
     "status": "ok",
     "timestamp": 1682173670467,
     "user": {
      "displayName": "Shuvadeep Saha",
      "userId": "08894137925001480230"
     },
     "user_tz": 240
    },
    "id": "LAdfzO9zOtbo",
    "outputId": "42015720-2f4c-4d47-e4fb-b13c2e7c2ab7"
   },
   "outputs": [
    {
     "name": "stdout",
     "output_type": "stream",
     "text": [
      "Num words in query: 1 \n",
      "Num query word in vectors: 1\n"
     ]
    }
   ],
   "source": [
    "query_embed = [get_embedding(x, model.vector_size, model) for x in query_tokens]\n",
    "query_len = len(query_embed)\n",
    "\n",
    "print('Num words in query:', len(query_tokens), \n",
    "      '\\nNum query word in vectors:', query_len)"
   ]
  },
  {
   "cell_type": "code",
   "execution_count": 6,
   "metadata": {
    "executionInfo": {
     "elapsed": 66832,
     "status": "ok",
     "timestamp": 1682173737290,
     "user": {
      "displayName": "Shuvadeep Saha",
      "userId": "08894137925001480230"
     },
     "user_tz": 240
    },
    "id": "ynXa9XxbOwr4"
   },
   "outputs": [],
   "source": [
    "centroid_dict = {}\n",
    "for fname in glob.iglob('./inputs/centroids/*.p', recursive=False):\n",
    "    centroid_dict.update(pickle.load(open(fname, \"rb\")))\n",
    "    \n",
    "clean_centroid_dict = {k: centroid_dict[k] for k in centroid_dict \n",
    "                       if np.isnan(centroid_dict[k][0]).any()==False}"
   ]
  },
  {
   "cell_type": "code",
   "execution_count": 7,
   "metadata": {
    "executionInfo": {
     "elapsed": 31,
     "status": "ok",
     "timestamp": 1682173737291,
     "user": {
      "displayName": "Shuvadeep Saha",
      "userId": "08894137925001480230"
     },
     "user_tz": 240
    },
    "id": "SQQLSAkEOyfh"
   },
   "outputs": [],
   "source": [
    "def score_document(query_embed, doc_centroid):\n",
    "    cos_similarity = [(1 - scipy.spatial.distance.cosine(qin, doc_centroid)) \n",
    "                        for qin in query_embed]\n",
    "    \n",
    "    return (sum(cos_similarity)/len(query_embed))"
   ]
  },
  {
   "cell_type": "code",
   "execution_count": 8,
   "metadata": {
    "executionInfo": {
     "elapsed": 29,
     "status": "ok",
     "timestamp": 1682173737292,
     "user": {
      "displayName": "Shuvadeep Saha",
      "userId": "08894137925001480230"
     },
     "user_tz": 240
    },
    "id": "41WjGklQO8Qp"
   },
   "outputs": [],
   "source": [
    "def view_files(doc_list):\n",
    "    for path in doc_list:\n",
    "        num = re.findall(r'\\d+', path)[0]\n",
    "        doc_path = './inputs/doc_num/'+ num +'.txt'\n",
    "        f = open(doc_path, \"r\", encoding='utf-8')\n",
    "        print('\\033[1m' + 'DOCUMENT NUMBER: ' + '\\033[0m', f.read())\n",
    "        f.close()\n",
    "        \n",
    "        doc_path = './inputs/contents/'+ num +'.txt'\n",
    "        f = open(doc_path, \"r\", encoding='utf-8')\n",
    "        print(f.read())\n",
    "        f.close()\n",
    "        print()"
   ]
  },
  {
   "cell_type": "code",
   "execution_count": 9,
   "metadata": {
    "executionInfo": {
     "elapsed": 472,
     "status": "ok",
     "timestamp": 1682173737736,
     "user": {
      "displayName": "Shuvadeep Saha",
      "userId": "08894137925001480230"
     },
     "user_tz": 240
    },
    "id": "Vv8NaZm8Oz9p"
   },
   "outputs": [],
   "source": [
    "scores_in_in = []\n",
    "scores_in_out = []\n",
    "\n",
    "for k,v in clean_centroid_dict.items():\n",
    "    scores_in_in.append((k, score_document(query_embed, v[0])))\n",
    "    scores_in_out.append((k, score_document(query_embed, v[1])))\n",
    "\n",
    "scores_in_in = sorted(scores_in_in, key=itemgetter(1), reverse=True)\n",
    "scores_in_out = sorted(scores_in_out, key=itemgetter(1), reverse=True)"
   ]
  },
  {
   "cell_type": "code",
   "execution_count": 10,
   "metadata": {
    "executionInfo": {
     "elapsed": 12,
     "status": "ok",
     "timestamp": 1682173737738,
     "user": {
      "displayName": "Shuvadeep Saha",
      "userId": "08894137925001480230"
     },
     "user_tz": 240
    },
    "id": "E4tYai4cO1n4"
   },
   "outputs": [],
   "source": [
    "top_5_in_in = [x[0] for x in scores_in_in[:5]]\n",
    "top_5_in_out = [x[0] for x in scores_in_out[:5]]\n",
    "\n",
    "in_in_top5 = []\n",
    "in_out_top5 = []\n",
    "\n",
    "for fname in top_5_in_in:\n",
    "    in_in_top5.append(fname)\n",
    "for fname in top_5_in_out:\n",
    "    in_out_top5.append(fname)"
   ]
  },
  {
   "cell_type": "code",
   "execution_count": 11,
   "metadata": {
    "colab": {
     "base_uri": "https://localhost:8080/"
    },
    "executionInfo": {
     "elapsed": 36606,
     "status": "ok",
     "timestamp": 1682173774334,
     "user": {
      "displayName": "Shuvadeep Saha",
      "userId": "08894137925001480230"
     },
     "user_tz": 240
    },
    "id": "KYIL6HnUO_We",
    "outputId": "a55edf59-df9b-44ea-dda1-9993616d4c32",
    "scrolled": false
   },
   "outputs": [
    {
     "name": "stdout",
     "output_type": "stream",
     "text": [
      "[('./inputs/tokens/1400.tokens', 0.8747051954269409), ('./inputs/tokens/79.tokens', 0.823441743850708), ('./inputs/tokens/3323.tokens', 0.818074107170105), ('./inputs/tokens/2214.tokens', 0.8144202828407288), ('./inputs/tokens/1662.tokens', 0.8114814758300781)]\n",
      "\u001b[1mDOCUMENT NUMBER: \u001b[0m MED-2468\n",
      "BACKGROUND AND METHODS: We estimated the prevalence of self-reported asthma in adult Indians and examined several risk factors influencing disease prevalence. Analysis is based on 99 574 women and 56 742 men aged 20–49 years included in India’s third National Family Health Survey, 2005–2006. Multiple logistic regression analysis was used to estimate the prevalence odds ratios for asthma, adjusting for various risk factors. RESULTS: The prevalence of self-reported asthma was 1.8% (95%CI 1.6–2.0) among men and 1.9% (95%CI 1.8–2.0) among women, with higher rates in rural than in urban areas and marked geographic differences. After adjustment for known asthma risk factors, women were 1.2 times more likely to have asthma than men. Daily/weekly consumption of milk/milk products, green leafy vegetables and fruits were associated with a lower asthma risk, whereas consumption of chicken/meat, a lower body mass index (BMI; <16 kg/m2, OR 2.08, 95%CI 1.73–2.50) as well as a higher BMI (>30 kg/m2, OR 1.67, 95%CI 1.36–2.06), current tobacco smoking (OR 1.30, 95%CI 1.12–1.50) and ever use of alcohol (OR 1.21, 95%CI 1.05–1.39) were associated with an increased asthma risk. CONCLUSIONS: There are wide regional variations in the prevalence of asthma in India. With the exception of the findings for BMI, however, most of the associations of asthma with the risk factors are relatively weak and account for only a small proportion of cases. RÉSUMÉ CONTEXTE ET MÉTHODES: Nous avons estimé la prévalence auto-rapportée de l’asthme chez les Indiens adultes et examiné plusieurs facteurs de risque influençant la prévalence de la maladie. L’analyse repose sur 99 574 femmes et 56 742 hommes âgés de 20 à 49 ans et inclus dans la troisième Enquête Nationale des Familles en Inde, 2005–2006. On a utilisé l’analyse de régression logistique multiple pour estimer les odds ratio de prévalence pour l’asthme, après ajustement pour divers facteurs de risque. RÉSULTATS: La prévalence auto-rapportée de l’asthme est de 1,8% (IC95% 1,6–2,0) parmi les hommes et de 1,9% (IC95% 1,8–2,0) parmi les femmes, les taux étant plus élevés dans les zones rurales que dans les zones urbaines, et les différences géographiques étant marquées. Après ajustement pour les facteurs de risque d’asthme connus, les femmes sont 1,2 fois plus susceptibles de souffrir de l’asthme que les hommes. La consommation quotidienne ou hebdomadaire de lait/produits laitiers, de légumes à feuilles vertes et de fruits est en association avec un risque plus faible d’asthme alors que la consommation de poulet ou de viande, un index de masse corporelle (BMI) plus bas (<16 kg/m2, OR 2,08 ; IC95% 1,73–2,50) ainsi qu’un BMI plus élevé (>30 kg/m2, OR 1,67 ; IC95% 1,36–2,06), le fait de fumer du tabac actuellement (OR 1,30 ; IC95% 1,12–1,50) et l’utilisation de l’alcool à un moment quelconque (OR 1,21 ; IC95% 1,05–1,39) sont en association avec un risque accru d’asthme. La prévalence de l’asthme en Inde varie largement selon les régions. Toutefois, à l’exception des observations sur le BMI, l’association de l’asthme avec les facteurs de risque est relativement faible et ne rend compte que d’une petite proportion des cas seulement. RESUMEN MARCO DE REFERENCIA Y MÉTODOS: Se calculó la prevalencia de asma autorreferida en los adultos en la India y se evaluaron varios factores de riesgo que influyen sobre la prevalencia de la enfermedad. El estudio se basó en las 99 574 mujeres y los 56 742 hombres de 20 a 49 años de edad que participaron en la tercera Encuesta Nacional sobre la Salud de la Familia en la India entre el 2005 y el 2006. Mediante un análisis de regresión logística multifactorial se calculó la prevalencia de asma y el cociente de posibilidades de padecerla, al corregir diversos factores de riesgo. RESULTADOS: La prevalencia de asma autorreferida fue 1,8% en los hombres (intervalo de confianza [IC] del 95% 1,6 a 2,0) y 1,9% en las mujeres (IC95% 1,8 a 2,0); se observaron tasas más altas en las zonas rurales que en las zonas urbanas y se presentaron diferencias geográficas considerables. Tras corregir en función de algunos factores de riesgo de padecer asma conocidos, las mujeres presentaron una probabilidad 1,2 veces superior a los hombres de sufrir la enfermedad. El consumo diario o semanal de leche o productos lácteos, hortalizas de hojas verdes y frutas se asoció con un menor riesgo de asma y el consumo de carne de pollo o de res, un bajo índice de masa corporal (<16 kg/m2; OR 2,08; IC95% 1,73 a 2,50) igual que un alto índice de masa corporal (>30 kg/m2; OR 1,67; IC95% 1,36 a 2,06), el tabaquismo actual (OR 1,30; IC95% 1,12 a 1,50) y el consumo de alcohol en algún momento de la vida (OR 1,21; IC95% 1,05 a 1,39) se asociaron con un mayor riesgo de padecer la enfermedad. CONCLUSIÓN: Existen amplias variaciones geográficas en la prevalencia de asma en la India. Sin embargo, con la excepción del índice de masa corporal, la mayor parte de las asociaciones del asma con los factores de riesgo fueron débiles y explican solo una pequeña proporción de los casos.\n",
      "\n",
      "\u001b[1mDOCUMENT NUMBER: \u001b[0m MED-834\n",
      "Polycystic ovarian syndrome (PCOS) affects 18–22% of women at reproductive age. We conducted a systematic review and meta-analysis evaluating the expected benefits of lifestyle (exercise plus diet) interventions on the reproductive endocrine profile in women with PCOS. Potential studies were identified by systematically searching PubMed, CINAHL and the Cochrane Controlled Trials Registry (1966–April 30, 2013) systematically using key concepts of PCOS. Significant improvements were seen in women receiving lifestyle intervention vs usual care in follicle-stimulating hormone (FSH) levels, mean difference (MD) 0.39 IU/l (95% CI 0.09 to 0.70, P=0.01), sex hormone-binding globulin (SHBG) levels, MD 2.37 nmol/l (95% CI 1.27 to 3.47, P<0.0001), total testosterone levels, MD −0.13 nmol/l (95% CI −0.22 to −0.03, P=0.008), androstenedione levels, MD −0.09 ng/dl (95% CI −0.15 to −0.03, P=0.005), free androgen index (FAI) levels, MD −1.64 (95% CI −2.94 to −0.35, P=0.01) and Ferriman–Gallwey (FG) score, MD −1.01 (95% CI −1.54 to −0.48, P=0.0002). Significant improvements were also observed in women who received exercise-alone intervention vs usual care in FSH levels, MD 0.42 IU/l (95% CI 0.11 to 0.73, P=0.009), SHBG levels, MD 3.42 nmol/l (95% CI 0.11 to 6.73, P=0.04), total testosterone levels, MD −0.16 nmol/l (95% CI −0.29 to −0.04, P=0.01), androstenedione levels, MD −0.09 ng/dl (95% CI −0.16 to −0.03, P=0.004) and FG score, MD −1.13 (95% CI −1.88 to −0.38, P=0.003). Our analyses suggest that lifestyle (diet and exercise) intervention improves levels of FSH, SHBG, total testosterone, androstenedione and FAI, and FG score in women with PCOS.\n",
      "\n",
      "\u001b[1mDOCUMENT NUMBER: \u001b[0m MED-5080\n",
      "Bioactivity-guided fractionation of black bean (Phaseolus vulgaris) seed coats was used to determine the chemical identity of bioactive constituents, which showed potent antiproliferative and antioxidative activities. Twenty-four compounds including 12 triterpenoids, 7 flavonoids, and 5 other phytochemicals were isolated using gradient solvent fractionation, silica gel and ODS columns, and semipreparative and preparative HPLC. Their chemical structures were identified using MS, NMR, and X-ray diffraction analysis. Antiproliferative activities of isolated compounds against Caco-2 human colon cancer cells, HepG2 human liver cancer cells, and MCF-7 human breast cancer cells were evaluated. Among the compounds isolated, compounds 1, 2, 6, 7, 8, 13, 14, 15, 16, 19, and 20 showed potent inhibitory activities against the proliferation of HepG2 cells, with EC50 values of 238.8 +/- 19.2, 120.6 +/- 7.3, 94.4 +/- 3.4, 98.9 +/- 3.3, 32.1 +/- 6.3, 306.4 +/- 131.3, 156.9 +/- 11.8, 410.3 +/- 17.4, 435.9 +/- 47.7, 202.3 +/- 42.9, and 779.3 +/- 37.4 microM, respectively. Compounds 1, 2, 3, 5, 6, 7, 8, 9, 10, 11, 14, 15, 19, and 20 showed potent antiproliferative activities against Caco-2 cell growth, with EC50 values of 179.9 +/- 16.9, 128.8 +/- 11.6, 197.8 +/- 4.2, 105.9 +/- 4.7, 13.9 +/- 2.8, 35.1 +/- 2.9, 31.2 +/- 0.5, 71.1 +/- 11.9, 40.8 +/- 4.1, 55.7 +/- 8.1, 299.8 +/- 17.3, 533.3 +/- 126.0, 291.2 +/- 1.0, and 717.2 +/- 104.8 microM, respectively. Compounds 5, 7, 8, 9, 11, 19, 20 showed potent antiproliferative activities against MCF-7 cell growth in a dose-dependent manner, with EC50 values of 129.4 +/- 9.0, 79.5 +/- 1.0, 140.1 +/- 31.8, 119.0 +/- 7.2, 84.6 +/- 1.7, 186.6 +/- 21.1, and 1308 +/- 69.9 microM, respectively. Six flavonoids (compounds 14-19) showed potent antioxidant activity. These results showed the phytochemical extracts of black bean seed coats have potent antioxidant and antiproliferative activities.\n",
      "\n",
      "\u001b[1mDOCUMENT NUMBER: \u001b[0m MED-3714\n",
      "The present study was conducted to determine differences in antioxidant levels of fresh, frozen, and freeze-dried strawberries, and strawberry jam. Hydrophilic antioxidant activity (HAA) and lipophilic antioxidant activity (LAA) were measured using the ABTS/H₂O₂/HRP decoloration method. HAA and LAA were then summed to calculate the total antioxidant activity (TAA). Mean differences in HAA and LAA were analyzed using one-way analysis of variance and Dunnett's T3 pairwise comparisons. The mean TAA for freeze-dried strawberries based on an 'as consumed' weight (95% confidence interval [CI]: 29.58, 30.58) was significantly higher than for fresh (95% CI: 3.18, 3.66), frozen (95% CI: 2.58, 2.79), and jam (95% CI: 1.10, 1.22). The mean TAA based on dry weight for fresh strawberries (95% CI: 40.48, 46.67) was significantly higher than for freeze-dried (95% CI: 29.58, 30.58), frozen (95% CI: 24.62, 26.59), and jam (95% CI: 1.48, 1.64). Results agree with previous studies reporting that strawberries are a valuable source of antioxidants for consumers.\n",
      "\n",
      "\u001b[1mDOCUMENT NUMBER: \u001b[0m MED-2896\n",
      "The relation between dietary antioxidant intake and primary open-angle glaucoma risk was examined in participants aged over 40 years in the Nurses' Health Study (n = 76,200) and the Health Professionals Follow-up Study (n = 40,284). They were followed biennially from 1980 and 1986, respectively, to 1996, during periods when they received an eye examination. Dietary intakes were measured repeatedly from 1980 in the Nurses' Health Study and from 1986 in the Health Professionals Follow-up Study using validated food frequency questionnaires. The authors analyzed 474 self-reported glaucoma cases confirmed by medical chart review to have primary open-angle glaucoma with visual field loss. The authors used Cox proportional hazards models for cohort-specific multivariate analyses, and results were pooled using random effects models. The pooled multivariate rate ratios for primary open-angle glaucoma comparing the highest versus lowest quintile of cumulative updated intake were 1.17 (95% confidence interval (CI): 0.87, 1.58) for alpha-carotene, 1.10 (95% CI: 0.82, 1.48) for beta-carotene, 0.95 (95% CI: 0.70, 1.29) for beta-cryptoxanthin, 0.82 (95% CI: 0.60, 1.12) for lycopene, 0.92 (95% CI: 0.69, 1.24) for lutein/zeaxanthin, 1.05 (95% CI: 0.59, 1.89) for vitamin C, 0.97 (95% CI: 0.62, 1.52) for vitamin E, and 1.11 (95% CI: 0.82, 1.51) for vitamin A. In conclusion, the authors did not observe any strong associations between antioxidant consumption and the risk of primary open-angle glaucoma.\n",
      "\n"
     ]
    }
   ],
   "source": [
    "'''IN-IN Results'''\n",
    "print(scores_in_in[:5])\n",
    "view_files(in_in_top5)"
   ]
  },
  {
   "cell_type": "code",
   "execution_count": 12,
   "metadata": {
    "colab": {
     "base_uri": "https://localhost:8080/"
    },
    "executionInfo": {
     "elapsed": 2462,
     "status": "ok",
     "timestamp": 1682173776777,
     "user": {
      "displayName": "Shuvadeep Saha",
      "userId": "08894137925001480230"
     },
     "user_tz": 240
    },
    "id": "6timDrv9POUA",
    "outputId": "3b97c388-344b-499e-ebf6-2670f68f962a"
   },
   "outputs": [
    {
     "name": "stdout",
     "output_type": "stream",
     "text": [
      "[('./inputs/tokens/3412.tokens', -0.609987199306488), ('./inputs/tokens/1880.tokens', -0.624422013759613), ('./inputs/tokens/3067.tokens', -0.6299903988838196), ('./inputs/tokens/1046.tokens', -0.6389977931976318), ('./inputs/tokens/1525.tokens', -0.645818293094635)]\n",
      "\u001b[1mDOCUMENT NUMBER: \u001b[0m MED-5171\n",
      "The objective of this study was to determine the prevalence of enterohemorrhagic Escherichia coli (EHEC), E. coli O157, Salmonella, and Listeria monocytogenes in retail food samples from Seattle, Wash. A total of 2,050 samples of ground beef (1,750 samples), mushrooms (100 samples), and sprouts (200 samples) were collected over a 12-month period and analyzed for the presence of these pathogens. PCR assays, followed by culture confirmation were used to determine the presence or absence of each organism. Of the 1,750 ground beef samples analyzed, 61 (3.5%) were positive for EHEC, and 20 (1.1%) of these were positive for E. coli O157. Salmonella was present in 67 (3.8%) of the 1,750 ground beef samples. Of 512 ground beef samples analyzed, 18 (3.5%) were positive for L. monocytogenes. EHEC was found in 12 (6.0%) of the 200 sprout samples, and 3 (1.5%) of these yielded E. coli O157. Of the 200 total sprout samples, 14 (7.0%) were positive for Salmonella and none were positive for L. monocytogenes. Among the 100 mushroom samples, 4 (4.0%) were positive for EHEC but none of these 4 samples were positive for E. coli O157. Salmonella was detected in 5 (5.0%) of the mushroom samples, and L. monocytogenes was found in 1 (1.0%) of the samples.\n",
      "\n",
      "\u001b[1mDOCUMENT NUMBER: \u001b[0m MED-3275\n",
      "In tissue cultures of normal adult and malignant mammalian cells, homocystine has been substituted for methionine in a medium rich in folic acid and cyanocobalamin. Normal adult cells thrive. Three highly malignant cell types from three different species, including man, die.\n",
      "\n",
      "\u001b[1mDOCUMENT NUMBER: \u001b[0m MED-4803\n",
      "We investigated the prevalence of Staphylococcus aureus and methicillin-resistant S. aureus (MRSA) in 120 retail meat samples from 30 grocery stores in Baton Rouge, LA. S. aureus strains were recovered from 45.6% of pork samples and 20% of beef samples, whereas MRSA strains were isolated from six meat samples (five pork samples and one beef sample). The MRSA isolates were of two strain types (clones), one harboring Panton-Valentine leucocidin and belonging to pulsed-field gel electrophoresis type USA300 and the other one belonging to USA100.\n",
      "\n",
      "\u001b[1mDOCUMENT NUMBER: \u001b[0m MED-2043\n",
      "Natural killer (NK) cell activity and concentration of CD16+ cells (NK cells) and CD20+ cells (monocytes) in peripheral blood were measured in highly trained racing cyclists and in age- and sex-matched untrained controls. Median NK cell activity was 38.1% (range 20.0%-57.1%) in trained vs 30.3% (range 19.7%-43.1%) in untrained (P = 0.008). Median %CD16+ cells was 17% (range 7%-33%) in trained vs 11% (3%-29%) in untrained (P = 0.007). Indomethacin in vitro enhanced the NK cell activity in both groups. There was, however, no significant difference between the NK cell activity in trained and untrained after exposure to indomethacin in vitro. Indomethacin-enhanced NK cell activity was 45.9% (range 24.4%-67.5%) in trained and 40.0% (range 23.9%-68.5%) in untrained (P = 0.138). Mean %CD14+ cells was 8.3% (range 2%-15%) in trained vs 3.8% (2%-8%) in untrained (P less than 0.0001). The increased NK cell function thus demonstrated in highly trained persons might result in better resistance against infectious disease.\n",
      "\n",
      "\u001b[1mDOCUMENT NUMBER: \u001b[0m MED-2678\n",
      "Smoked foods including turkey, pork, chicken, beef and fish products were screened for the presence of carcinogenic and non-carcinogenic polycyclic aromatic hydrocarbons (PAHs). Eighteen commercial liquid smoke flavourings and seasonings were also analysed. Total PAH concentrations in smoked meat products ranged from 2.6 micrograms/kg in a cooked ham sample to 29.8 micrograms/kg in grilled pork chops, while those in fish products ranged from 9.3 micrograms/kg in smoked shrimp to 86.6 micrograms/kg in smoked salmon. Total concentrations of the carcinogenic PAHs (benzo[a]anthracene, benzo[b]fluoranthene, benzo[a]pyrene, dibenzo[a,h]anthracene, and indeno[1,2,3-c,d]pyrene) ranged from non-detectable in several meat products to 7.4 micrograms/kg in grilled pork chops, and from 0.2 micrograms/kg in trout to 16.0 micrograms/kg in salmon. In liquid smoke flavourings and seasonings, total PAH concentrations ranged from 6.3 to 43.7 micrograms/kg, with the carcinogenic PAHs ranging from 0.3 to 10.2 micrograms/kg.\n",
      "\n"
     ]
    }
   ],
   "source": [
    "'''IN-OUT Results'''\n",
    "print(scores_in_out[:5])\n",
    "view_files(in_out_top5)"
   ]
  }
 ],
 "metadata": {
  "colab": {
   "authorship_tag": "ABX9TyMB5+fK1bppi3ZcHg51e6Yr",
   "provenance": []
  },
  "kernelspec": {
   "display_name": "Python 3 (ipykernel)",
   "language": "python",
   "name": "python3"
  },
  "language_info": {
   "codemirror_mode": {
    "name": "ipython",
    "version": 3
   },
   "file_extension": ".py",
   "mimetype": "text/x-python",
   "name": "python",
   "nbconvert_exporter": "python",
   "pygments_lexer": "ipython3",
   "version": "3.8.10"
  }
 },
 "nbformat": 4,
 "nbformat_minor": 1
}
