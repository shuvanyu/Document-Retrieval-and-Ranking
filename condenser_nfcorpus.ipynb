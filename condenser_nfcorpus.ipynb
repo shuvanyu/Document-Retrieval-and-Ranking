{
  "nbformat": 4,
  "nbformat_minor": 0,
  "metadata": {
    "colab": {
      "provenance": [],
      "collapsed_sections": [
        "Yu34CR5hk0KS"
      ],
      "include_colab_link": true
    },
    "kernelspec": {
      "name": "python3",
      "display_name": "Python 3"
    },
    "language_info": {
      "name": "python"
    },
    "widgets": {
      "application/vnd.jupyter.widget-state+json": {
        "4c834169ee0c4f10a31c59bdf797bae8": {
          "model_module": "@jupyter-widgets/controls",
          "model_name": "HBoxModel",
          "model_module_version": "1.5.0",
          "state": {
            "_dom_classes": [],
            "_model_module": "@jupyter-widgets/controls",
            "_model_module_version": "1.5.0",
            "_model_name": "HBoxModel",
            "_view_count": null,
            "_view_module": "@jupyter-widgets/controls",
            "_view_module_version": "1.5.0",
            "_view_name": "HBoxView",
            "box_style": "",
            "children": [
              "IPY_MODEL_1403b067f8d341949786e7d21fe7ff6b",
              "IPY_MODEL_89a37b3ac37e4c8281349f775f822523",
              "IPY_MODEL_09a7a18c06dc4900bb56bf19e0a841e3"
            ],
            "layout": "IPY_MODEL_11bf69f4747e4273a392ea33fea51b3c"
          }
        },
        "1403b067f8d341949786e7d21fe7ff6b": {
          "model_module": "@jupyter-widgets/controls",
          "model_name": "HTMLModel",
          "model_module_version": "1.5.0",
          "state": {
            "_dom_classes": [],
            "_model_module": "@jupyter-widgets/controls",
            "_model_module_version": "1.5.0",
            "_model_name": "HTMLModel",
            "_view_count": null,
            "_view_module": "@jupyter-widgets/controls",
            "_view_module_version": "1.5.0",
            "_view_name": "HTMLView",
            "description": "",
            "description_tooltip": null,
            "layout": "IPY_MODEL_503df36cfb884fa38086c7929649e104",
            "placeholder": "​",
            "style": "IPY_MODEL_2caf9b486d2645cb8705c26b454ad82f",
            "value": "100%"
          }
        },
        "89a37b3ac37e4c8281349f775f822523": {
          "model_module": "@jupyter-widgets/controls",
          "model_name": "FloatProgressModel",
          "model_module_version": "1.5.0",
          "state": {
            "_dom_classes": [],
            "_model_module": "@jupyter-widgets/controls",
            "_model_module_version": "1.5.0",
            "_model_name": "FloatProgressModel",
            "_view_count": null,
            "_view_module": "@jupyter-widgets/controls",
            "_view_module_version": "1.5.0",
            "_view_name": "ProgressView",
            "bar_style": "success",
            "description": "",
            "description_tooltip": null,
            "layout": "IPY_MODEL_afa8c37297ec4306873494af17e9eaed",
            "max": 3633,
            "min": 0,
            "orientation": "horizontal",
            "style": "IPY_MODEL_a219495688b74d66980e8cd4e1247887",
            "value": 3633
          }
        },
        "09a7a18c06dc4900bb56bf19e0a841e3": {
          "model_module": "@jupyter-widgets/controls",
          "model_name": "HTMLModel",
          "model_module_version": "1.5.0",
          "state": {
            "_dom_classes": [],
            "_model_module": "@jupyter-widgets/controls",
            "_model_module_version": "1.5.0",
            "_model_name": "HTMLModel",
            "_view_count": null,
            "_view_module": "@jupyter-widgets/controls",
            "_view_module_version": "1.5.0",
            "_view_name": "HTMLView",
            "description": "",
            "description_tooltip": null,
            "layout": "IPY_MODEL_a132776ab0cd4a2bb02b7e27ec95af51",
            "placeholder": "​",
            "style": "IPY_MODEL_7287969f55114b338d1324b2019bea3d",
            "value": " 3633/3633 [00:00&lt;00:00, 54294.09it/s]"
          }
        },
        "11bf69f4747e4273a392ea33fea51b3c": {
          "model_module": "@jupyter-widgets/base",
          "model_name": "LayoutModel",
          "model_module_version": "1.2.0",
          "state": {
            "_model_module": "@jupyter-widgets/base",
            "_model_module_version": "1.2.0",
            "_model_name": "LayoutModel",
            "_view_count": null,
            "_view_module": "@jupyter-widgets/base",
            "_view_module_version": "1.2.0",
            "_view_name": "LayoutView",
            "align_content": null,
            "align_items": null,
            "align_self": null,
            "border": null,
            "bottom": null,
            "display": null,
            "flex": null,
            "flex_flow": null,
            "grid_area": null,
            "grid_auto_columns": null,
            "grid_auto_flow": null,
            "grid_auto_rows": null,
            "grid_column": null,
            "grid_gap": null,
            "grid_row": null,
            "grid_template_areas": null,
            "grid_template_columns": null,
            "grid_template_rows": null,
            "height": null,
            "justify_content": null,
            "justify_items": null,
            "left": null,
            "margin": null,
            "max_height": null,
            "max_width": null,
            "min_height": null,
            "min_width": null,
            "object_fit": null,
            "object_position": null,
            "order": null,
            "overflow": null,
            "overflow_x": null,
            "overflow_y": null,
            "padding": null,
            "right": null,
            "top": null,
            "visibility": null,
            "width": null
          }
        },
        "503df36cfb884fa38086c7929649e104": {
          "model_module": "@jupyter-widgets/base",
          "model_name": "LayoutModel",
          "model_module_version": "1.2.0",
          "state": {
            "_model_module": "@jupyter-widgets/base",
            "_model_module_version": "1.2.0",
            "_model_name": "LayoutModel",
            "_view_count": null,
            "_view_module": "@jupyter-widgets/base",
            "_view_module_version": "1.2.0",
            "_view_name": "LayoutView",
            "align_content": null,
            "align_items": null,
            "align_self": null,
            "border": null,
            "bottom": null,
            "display": null,
            "flex": null,
            "flex_flow": null,
            "grid_area": null,
            "grid_auto_columns": null,
            "grid_auto_flow": null,
            "grid_auto_rows": null,
            "grid_column": null,
            "grid_gap": null,
            "grid_row": null,
            "grid_template_areas": null,
            "grid_template_columns": null,
            "grid_template_rows": null,
            "height": null,
            "justify_content": null,
            "justify_items": null,
            "left": null,
            "margin": null,
            "max_height": null,
            "max_width": null,
            "min_height": null,
            "min_width": null,
            "object_fit": null,
            "object_position": null,
            "order": null,
            "overflow": null,
            "overflow_x": null,
            "overflow_y": null,
            "padding": null,
            "right": null,
            "top": null,
            "visibility": null,
            "width": null
          }
        },
        "2caf9b486d2645cb8705c26b454ad82f": {
          "model_module": "@jupyter-widgets/controls",
          "model_name": "DescriptionStyleModel",
          "model_module_version": "1.5.0",
          "state": {
            "_model_module": "@jupyter-widgets/controls",
            "_model_module_version": "1.5.0",
            "_model_name": "DescriptionStyleModel",
            "_view_count": null,
            "_view_module": "@jupyter-widgets/base",
            "_view_module_version": "1.2.0",
            "_view_name": "StyleView",
            "description_width": ""
          }
        },
        "afa8c37297ec4306873494af17e9eaed": {
          "model_module": "@jupyter-widgets/base",
          "model_name": "LayoutModel",
          "model_module_version": "1.2.0",
          "state": {
            "_model_module": "@jupyter-widgets/base",
            "_model_module_version": "1.2.0",
            "_model_name": "LayoutModel",
            "_view_count": null,
            "_view_module": "@jupyter-widgets/base",
            "_view_module_version": "1.2.0",
            "_view_name": "LayoutView",
            "align_content": null,
            "align_items": null,
            "align_self": null,
            "border": null,
            "bottom": null,
            "display": null,
            "flex": null,
            "flex_flow": null,
            "grid_area": null,
            "grid_auto_columns": null,
            "grid_auto_flow": null,
            "grid_auto_rows": null,
            "grid_column": null,
            "grid_gap": null,
            "grid_row": null,
            "grid_template_areas": null,
            "grid_template_columns": null,
            "grid_template_rows": null,
            "height": null,
            "justify_content": null,
            "justify_items": null,
            "left": null,
            "margin": null,
            "max_height": null,
            "max_width": null,
            "min_height": null,
            "min_width": null,
            "object_fit": null,
            "object_position": null,
            "order": null,
            "overflow": null,
            "overflow_x": null,
            "overflow_y": null,
            "padding": null,
            "right": null,
            "top": null,
            "visibility": null,
            "width": null
          }
        },
        "a219495688b74d66980e8cd4e1247887": {
          "model_module": "@jupyter-widgets/controls",
          "model_name": "ProgressStyleModel",
          "model_module_version": "1.5.0",
          "state": {
            "_model_module": "@jupyter-widgets/controls",
            "_model_module_version": "1.5.0",
            "_model_name": "ProgressStyleModel",
            "_view_count": null,
            "_view_module": "@jupyter-widgets/base",
            "_view_module_version": "1.2.0",
            "_view_name": "StyleView",
            "bar_color": null,
            "description_width": ""
          }
        },
        "a132776ab0cd4a2bb02b7e27ec95af51": {
          "model_module": "@jupyter-widgets/base",
          "model_name": "LayoutModel",
          "model_module_version": "1.2.0",
          "state": {
            "_model_module": "@jupyter-widgets/base",
            "_model_module_version": "1.2.0",
            "_model_name": "LayoutModel",
            "_view_count": null,
            "_view_module": "@jupyter-widgets/base",
            "_view_module_version": "1.2.0",
            "_view_name": "LayoutView",
            "align_content": null,
            "align_items": null,
            "align_self": null,
            "border": null,
            "bottom": null,
            "display": null,
            "flex": null,
            "flex_flow": null,
            "grid_area": null,
            "grid_auto_columns": null,
            "grid_auto_flow": null,
            "grid_auto_rows": null,
            "grid_column": null,
            "grid_gap": null,
            "grid_row": null,
            "grid_template_areas": null,
            "grid_template_columns": null,
            "grid_template_rows": null,
            "height": null,
            "justify_content": null,
            "justify_items": null,
            "left": null,
            "margin": null,
            "max_height": null,
            "max_width": null,
            "min_height": null,
            "min_width": null,
            "object_fit": null,
            "object_position": null,
            "order": null,
            "overflow": null,
            "overflow_x": null,
            "overflow_y": null,
            "padding": null,
            "right": null,
            "top": null,
            "visibility": null,
            "width": null
          }
        },
        "7287969f55114b338d1324b2019bea3d": {
          "model_module": "@jupyter-widgets/controls",
          "model_name": "DescriptionStyleModel",
          "model_module_version": "1.5.0",
          "state": {
            "_model_module": "@jupyter-widgets/controls",
            "_model_module_version": "1.5.0",
            "_model_name": "DescriptionStyleModel",
            "_view_count": null,
            "_view_module": "@jupyter-widgets/base",
            "_view_module_version": "1.2.0",
            "_view_name": "StyleView",
            "description_width": ""
          }
        },
        "357fc25b79794586b9f5928cd01d34f2": {
          "model_module": "@jupyter-widgets/controls",
          "model_name": "HBoxModel",
          "model_module_version": "1.5.0",
          "state": {
            "_dom_classes": [],
            "_model_module": "@jupyter-widgets/controls",
            "_model_module_version": "1.5.0",
            "_model_name": "HBoxModel",
            "_view_count": null,
            "_view_module": "@jupyter-widgets/controls",
            "_view_module_version": "1.5.0",
            "_view_name": "HBoxView",
            "box_style": "",
            "children": [
              "IPY_MODEL_490866a58d114a84a152c8e6c5be65ad",
              "IPY_MODEL_453839c9a9e446a4962e9034f455d36f",
              "IPY_MODEL_5f106ef57c82457890e55a4becf236de"
            ],
            "layout": "IPY_MODEL_76f0a14fbc504f16b406923d209429ab"
          }
        },
        "490866a58d114a84a152c8e6c5be65ad": {
          "model_module": "@jupyter-widgets/controls",
          "model_name": "HTMLModel",
          "model_module_version": "1.5.0",
          "state": {
            "_dom_classes": [],
            "_model_module": "@jupyter-widgets/controls",
            "_model_module_version": "1.5.0",
            "_model_name": "HTMLModel",
            "_view_count": null,
            "_view_module": "@jupyter-widgets/controls",
            "_view_module_version": "1.5.0",
            "_view_name": "HTMLView",
            "description": "",
            "description_tooltip": null,
            "layout": "IPY_MODEL_1d430d32b31b4333919b29cbe692d57e",
            "placeholder": "​",
            "style": "IPY_MODEL_9ae63a0a4b824cd9a563c2c6c2fb5368",
            "value": "Batches: 100%"
          }
        },
        "453839c9a9e446a4962e9034f455d36f": {
          "model_module": "@jupyter-widgets/controls",
          "model_name": "FloatProgressModel",
          "model_module_version": "1.5.0",
          "state": {
            "_dom_classes": [],
            "_model_module": "@jupyter-widgets/controls",
            "_model_module_version": "1.5.0",
            "_model_name": "FloatProgressModel",
            "_view_count": null,
            "_view_module": "@jupyter-widgets/controls",
            "_view_module_version": "1.5.0",
            "_view_name": "ProgressView",
            "bar_style": "success",
            "description": "",
            "description_tooltip": null,
            "layout": "IPY_MODEL_7fd5074a81aa4099b0c714b4109439bb",
            "max": 21,
            "min": 0,
            "orientation": "horizontal",
            "style": "IPY_MODEL_102c79acdc804309a1938ebd6240538e",
            "value": 21
          }
        },
        "5f106ef57c82457890e55a4becf236de": {
          "model_module": "@jupyter-widgets/controls",
          "model_name": "HTMLModel",
          "model_module_version": "1.5.0",
          "state": {
            "_dom_classes": [],
            "_model_module": "@jupyter-widgets/controls",
            "_model_module_version": "1.5.0",
            "_model_name": "HTMLModel",
            "_view_count": null,
            "_view_module": "@jupyter-widgets/controls",
            "_view_module_version": "1.5.0",
            "_view_name": "HTMLView",
            "description": "",
            "description_tooltip": null,
            "layout": "IPY_MODEL_7a75c9e1c08944ef9c166089549485e5",
            "placeholder": "​",
            "style": "IPY_MODEL_8b5960d9d8ca4c43a5abd2340dff3f76",
            "value": " 21/21 [00:00&lt;00:00, 32.69it/s]"
          }
        },
        "76f0a14fbc504f16b406923d209429ab": {
          "model_module": "@jupyter-widgets/base",
          "model_name": "LayoutModel",
          "model_module_version": "1.2.0",
          "state": {
            "_model_module": "@jupyter-widgets/base",
            "_model_module_version": "1.2.0",
            "_model_name": "LayoutModel",
            "_view_count": null,
            "_view_module": "@jupyter-widgets/base",
            "_view_module_version": "1.2.0",
            "_view_name": "LayoutView",
            "align_content": null,
            "align_items": null,
            "align_self": null,
            "border": null,
            "bottom": null,
            "display": null,
            "flex": null,
            "flex_flow": null,
            "grid_area": null,
            "grid_auto_columns": null,
            "grid_auto_flow": null,
            "grid_auto_rows": null,
            "grid_column": null,
            "grid_gap": null,
            "grid_row": null,
            "grid_template_areas": null,
            "grid_template_columns": null,
            "grid_template_rows": null,
            "height": null,
            "justify_content": null,
            "justify_items": null,
            "left": null,
            "margin": null,
            "max_height": null,
            "max_width": null,
            "min_height": null,
            "min_width": null,
            "object_fit": null,
            "object_position": null,
            "order": null,
            "overflow": null,
            "overflow_x": null,
            "overflow_y": null,
            "padding": null,
            "right": null,
            "top": null,
            "visibility": null,
            "width": null
          }
        },
        "1d430d32b31b4333919b29cbe692d57e": {
          "model_module": "@jupyter-widgets/base",
          "model_name": "LayoutModel",
          "model_module_version": "1.2.0",
          "state": {
            "_model_module": "@jupyter-widgets/base",
            "_model_module_version": "1.2.0",
            "_model_name": "LayoutModel",
            "_view_count": null,
            "_view_module": "@jupyter-widgets/base",
            "_view_module_version": "1.2.0",
            "_view_name": "LayoutView",
            "align_content": null,
            "align_items": null,
            "align_self": null,
            "border": null,
            "bottom": null,
            "display": null,
            "flex": null,
            "flex_flow": null,
            "grid_area": null,
            "grid_auto_columns": null,
            "grid_auto_flow": null,
            "grid_auto_rows": null,
            "grid_column": null,
            "grid_gap": null,
            "grid_row": null,
            "grid_template_areas": null,
            "grid_template_columns": null,
            "grid_template_rows": null,
            "height": null,
            "justify_content": null,
            "justify_items": null,
            "left": null,
            "margin": null,
            "max_height": null,
            "max_width": null,
            "min_height": null,
            "min_width": null,
            "object_fit": null,
            "object_position": null,
            "order": null,
            "overflow": null,
            "overflow_x": null,
            "overflow_y": null,
            "padding": null,
            "right": null,
            "top": null,
            "visibility": null,
            "width": null
          }
        },
        "9ae63a0a4b824cd9a563c2c6c2fb5368": {
          "model_module": "@jupyter-widgets/controls",
          "model_name": "DescriptionStyleModel",
          "model_module_version": "1.5.0",
          "state": {
            "_model_module": "@jupyter-widgets/controls",
            "_model_module_version": "1.5.0",
            "_model_name": "DescriptionStyleModel",
            "_view_count": null,
            "_view_module": "@jupyter-widgets/base",
            "_view_module_version": "1.2.0",
            "_view_name": "StyleView",
            "description_width": ""
          }
        },
        "7fd5074a81aa4099b0c714b4109439bb": {
          "model_module": "@jupyter-widgets/base",
          "model_name": "LayoutModel",
          "model_module_version": "1.2.0",
          "state": {
            "_model_module": "@jupyter-widgets/base",
            "_model_module_version": "1.2.0",
            "_model_name": "LayoutModel",
            "_view_count": null,
            "_view_module": "@jupyter-widgets/base",
            "_view_module_version": "1.2.0",
            "_view_name": "LayoutView",
            "align_content": null,
            "align_items": null,
            "align_self": null,
            "border": null,
            "bottom": null,
            "display": null,
            "flex": null,
            "flex_flow": null,
            "grid_area": null,
            "grid_auto_columns": null,
            "grid_auto_flow": null,
            "grid_auto_rows": null,
            "grid_column": null,
            "grid_gap": null,
            "grid_row": null,
            "grid_template_areas": null,
            "grid_template_columns": null,
            "grid_template_rows": null,
            "height": null,
            "justify_content": null,
            "justify_items": null,
            "left": null,
            "margin": null,
            "max_height": null,
            "max_width": null,
            "min_height": null,
            "min_width": null,
            "object_fit": null,
            "object_position": null,
            "order": null,
            "overflow": null,
            "overflow_x": null,
            "overflow_y": null,
            "padding": null,
            "right": null,
            "top": null,
            "visibility": null,
            "width": null
          }
        },
        "102c79acdc804309a1938ebd6240538e": {
          "model_module": "@jupyter-widgets/controls",
          "model_name": "ProgressStyleModel",
          "model_module_version": "1.5.0",
          "state": {
            "_model_module": "@jupyter-widgets/controls",
            "_model_module_version": "1.5.0",
            "_model_name": "ProgressStyleModel",
            "_view_count": null,
            "_view_module": "@jupyter-widgets/base",
            "_view_module_version": "1.2.0",
            "_view_name": "StyleView",
            "bar_color": null,
            "description_width": ""
          }
        },
        "7a75c9e1c08944ef9c166089549485e5": {
          "model_module": "@jupyter-widgets/base",
          "model_name": "LayoutModel",
          "model_module_version": "1.2.0",
          "state": {
            "_model_module": "@jupyter-widgets/base",
            "_model_module_version": "1.2.0",
            "_model_name": "LayoutModel",
            "_view_count": null,
            "_view_module": "@jupyter-widgets/base",
            "_view_module_version": "1.2.0",
            "_view_name": "LayoutView",
            "align_content": null,
            "align_items": null,
            "align_self": null,
            "border": null,
            "bottom": null,
            "display": null,
            "flex": null,
            "flex_flow": null,
            "grid_area": null,
            "grid_auto_columns": null,
            "grid_auto_flow": null,
            "grid_auto_rows": null,
            "grid_column": null,
            "grid_gap": null,
            "grid_row": null,
            "grid_template_areas": null,
            "grid_template_columns": null,
            "grid_template_rows": null,
            "height": null,
            "justify_content": null,
            "justify_items": null,
            "left": null,
            "margin": null,
            "max_height": null,
            "max_width": null,
            "min_height": null,
            "min_width": null,
            "object_fit": null,
            "object_position": null,
            "order": null,
            "overflow": null,
            "overflow_x": null,
            "overflow_y": null,
            "padding": null,
            "right": null,
            "top": null,
            "visibility": null,
            "width": null
          }
        },
        "8b5960d9d8ca4c43a5abd2340dff3f76": {
          "model_module": "@jupyter-widgets/controls",
          "model_name": "DescriptionStyleModel",
          "model_module_version": "1.5.0",
          "state": {
            "_model_module": "@jupyter-widgets/controls",
            "_model_module_version": "1.5.0",
            "_model_name": "DescriptionStyleModel",
            "_view_count": null,
            "_view_module": "@jupyter-widgets/base",
            "_view_module_version": "1.2.0",
            "_view_name": "StyleView",
            "description_width": ""
          }
        },
        "45ffaf575c4c4ddda1336ccb95677e82": {
          "model_module": "@jupyter-widgets/controls",
          "model_name": "HBoxModel",
          "model_module_version": "1.5.0",
          "state": {
            "_dom_classes": [],
            "_model_module": "@jupyter-widgets/controls",
            "_model_module_version": "1.5.0",
            "_model_name": "HBoxModel",
            "_view_count": null,
            "_view_module": "@jupyter-widgets/controls",
            "_view_module_version": "1.5.0",
            "_view_name": "HBoxView",
            "box_style": "",
            "children": [
              "IPY_MODEL_b6eff9cf34af48f6b844bdd8fc2618e7",
              "IPY_MODEL_980cf53ba487464e9001cba22a067cd3",
              "IPY_MODEL_65d4821caf354b0db42b068869e66046"
            ],
            "layout": "IPY_MODEL_cfba03808ee844d5908ebb96b325fc9e"
          }
        },
        "b6eff9cf34af48f6b844bdd8fc2618e7": {
          "model_module": "@jupyter-widgets/controls",
          "model_name": "HTMLModel",
          "model_module_version": "1.5.0",
          "state": {
            "_dom_classes": [],
            "_model_module": "@jupyter-widgets/controls",
            "_model_module_version": "1.5.0",
            "_model_name": "HTMLModel",
            "_view_count": null,
            "_view_module": "@jupyter-widgets/controls",
            "_view_module_version": "1.5.0",
            "_view_name": "HTMLView",
            "description": "",
            "description_tooltip": null,
            "layout": "IPY_MODEL_25db310dba30423cafcf8e7887e468c7",
            "placeholder": "​",
            "style": "IPY_MODEL_5d0c0e70361a4d7d903a57eaa12ac82e",
            "value": "Batches: 100%"
          }
        },
        "980cf53ba487464e9001cba22a067cd3": {
          "model_module": "@jupyter-widgets/controls",
          "model_name": "FloatProgressModel",
          "model_module_version": "1.5.0",
          "state": {
            "_dom_classes": [],
            "_model_module": "@jupyter-widgets/controls",
            "_model_module_version": "1.5.0",
            "_model_name": "FloatProgressModel",
            "_view_count": null,
            "_view_module": "@jupyter-widgets/controls",
            "_view_module_version": "1.5.0",
            "_view_name": "ProgressView",
            "bar_style": "success",
            "description": "",
            "description_tooltip": null,
            "layout": "IPY_MODEL_9dec4fb5e86c490989a41078b4ef46cc",
            "max": 228,
            "min": 0,
            "orientation": "horizontal",
            "style": "IPY_MODEL_c15d3c5fbe7647888b229b33cdbadd50",
            "value": 228
          }
        },
        "65d4821caf354b0db42b068869e66046": {
          "model_module": "@jupyter-widgets/controls",
          "model_name": "HTMLModel",
          "model_module_version": "1.5.0",
          "state": {
            "_dom_classes": [],
            "_model_module": "@jupyter-widgets/controls",
            "_model_module_version": "1.5.0",
            "_model_name": "HTMLModel",
            "_view_count": null,
            "_view_module": "@jupyter-widgets/controls",
            "_view_module_version": "1.5.0",
            "_view_name": "HTMLView",
            "description": "",
            "description_tooltip": null,
            "layout": "IPY_MODEL_49787d9816fe48658fb08412579551c9",
            "placeholder": "​",
            "style": "IPY_MODEL_fde03933e95a409187e33f17d401d048",
            "value": " 228/228 [00:51&lt;00:00,  8.51it/s]"
          }
        },
        "cfba03808ee844d5908ebb96b325fc9e": {
          "model_module": "@jupyter-widgets/base",
          "model_name": "LayoutModel",
          "model_module_version": "1.2.0",
          "state": {
            "_model_module": "@jupyter-widgets/base",
            "_model_module_version": "1.2.0",
            "_model_name": "LayoutModel",
            "_view_count": null,
            "_view_module": "@jupyter-widgets/base",
            "_view_module_version": "1.2.0",
            "_view_name": "LayoutView",
            "align_content": null,
            "align_items": null,
            "align_self": null,
            "border": null,
            "bottom": null,
            "display": null,
            "flex": null,
            "flex_flow": null,
            "grid_area": null,
            "grid_auto_columns": null,
            "grid_auto_flow": null,
            "grid_auto_rows": null,
            "grid_column": null,
            "grid_gap": null,
            "grid_row": null,
            "grid_template_areas": null,
            "grid_template_columns": null,
            "grid_template_rows": null,
            "height": null,
            "justify_content": null,
            "justify_items": null,
            "left": null,
            "margin": null,
            "max_height": null,
            "max_width": null,
            "min_height": null,
            "min_width": null,
            "object_fit": null,
            "object_position": null,
            "order": null,
            "overflow": null,
            "overflow_x": null,
            "overflow_y": null,
            "padding": null,
            "right": null,
            "top": null,
            "visibility": null,
            "width": null
          }
        },
        "25db310dba30423cafcf8e7887e468c7": {
          "model_module": "@jupyter-widgets/base",
          "model_name": "LayoutModel",
          "model_module_version": "1.2.0",
          "state": {
            "_model_module": "@jupyter-widgets/base",
            "_model_module_version": "1.2.0",
            "_model_name": "LayoutModel",
            "_view_count": null,
            "_view_module": "@jupyter-widgets/base",
            "_view_module_version": "1.2.0",
            "_view_name": "LayoutView",
            "align_content": null,
            "align_items": null,
            "align_self": null,
            "border": null,
            "bottom": null,
            "display": null,
            "flex": null,
            "flex_flow": null,
            "grid_area": null,
            "grid_auto_columns": null,
            "grid_auto_flow": null,
            "grid_auto_rows": null,
            "grid_column": null,
            "grid_gap": null,
            "grid_row": null,
            "grid_template_areas": null,
            "grid_template_columns": null,
            "grid_template_rows": null,
            "height": null,
            "justify_content": null,
            "justify_items": null,
            "left": null,
            "margin": null,
            "max_height": null,
            "max_width": null,
            "min_height": null,
            "min_width": null,
            "object_fit": null,
            "object_position": null,
            "order": null,
            "overflow": null,
            "overflow_x": null,
            "overflow_y": null,
            "padding": null,
            "right": null,
            "top": null,
            "visibility": null,
            "width": null
          }
        },
        "5d0c0e70361a4d7d903a57eaa12ac82e": {
          "model_module": "@jupyter-widgets/controls",
          "model_name": "DescriptionStyleModel",
          "model_module_version": "1.5.0",
          "state": {
            "_model_module": "@jupyter-widgets/controls",
            "_model_module_version": "1.5.0",
            "_model_name": "DescriptionStyleModel",
            "_view_count": null,
            "_view_module": "@jupyter-widgets/base",
            "_view_module_version": "1.2.0",
            "_view_name": "StyleView",
            "description_width": ""
          }
        },
        "9dec4fb5e86c490989a41078b4ef46cc": {
          "model_module": "@jupyter-widgets/base",
          "model_name": "LayoutModel",
          "model_module_version": "1.2.0",
          "state": {
            "_model_module": "@jupyter-widgets/base",
            "_model_module_version": "1.2.0",
            "_model_name": "LayoutModel",
            "_view_count": null,
            "_view_module": "@jupyter-widgets/base",
            "_view_module_version": "1.2.0",
            "_view_name": "LayoutView",
            "align_content": null,
            "align_items": null,
            "align_self": null,
            "border": null,
            "bottom": null,
            "display": null,
            "flex": null,
            "flex_flow": null,
            "grid_area": null,
            "grid_auto_columns": null,
            "grid_auto_flow": null,
            "grid_auto_rows": null,
            "grid_column": null,
            "grid_gap": null,
            "grid_row": null,
            "grid_template_areas": null,
            "grid_template_columns": null,
            "grid_template_rows": null,
            "height": null,
            "justify_content": null,
            "justify_items": null,
            "left": null,
            "margin": null,
            "max_height": null,
            "max_width": null,
            "min_height": null,
            "min_width": null,
            "object_fit": null,
            "object_position": null,
            "order": null,
            "overflow": null,
            "overflow_x": null,
            "overflow_y": null,
            "padding": null,
            "right": null,
            "top": null,
            "visibility": null,
            "width": null
          }
        },
        "c15d3c5fbe7647888b229b33cdbadd50": {
          "model_module": "@jupyter-widgets/controls",
          "model_name": "ProgressStyleModel",
          "model_module_version": "1.5.0",
          "state": {
            "_model_module": "@jupyter-widgets/controls",
            "_model_module_version": "1.5.0",
            "_model_name": "ProgressStyleModel",
            "_view_count": null,
            "_view_module": "@jupyter-widgets/base",
            "_view_module_version": "1.2.0",
            "_view_name": "StyleView",
            "bar_color": null,
            "description_width": ""
          }
        },
        "49787d9816fe48658fb08412579551c9": {
          "model_module": "@jupyter-widgets/base",
          "model_name": "LayoutModel",
          "model_module_version": "1.2.0",
          "state": {
            "_model_module": "@jupyter-widgets/base",
            "_model_module_version": "1.2.0",
            "_model_name": "LayoutModel",
            "_view_count": null,
            "_view_module": "@jupyter-widgets/base",
            "_view_module_version": "1.2.0",
            "_view_name": "LayoutView",
            "align_content": null,
            "align_items": null,
            "align_self": null,
            "border": null,
            "bottom": null,
            "display": null,
            "flex": null,
            "flex_flow": null,
            "grid_area": null,
            "grid_auto_columns": null,
            "grid_auto_flow": null,
            "grid_auto_rows": null,
            "grid_column": null,
            "grid_gap": null,
            "grid_row": null,
            "grid_template_areas": null,
            "grid_template_columns": null,
            "grid_template_rows": null,
            "height": null,
            "justify_content": null,
            "justify_items": null,
            "left": null,
            "margin": null,
            "max_height": null,
            "max_width": null,
            "min_height": null,
            "min_width": null,
            "object_fit": null,
            "object_position": null,
            "order": null,
            "overflow": null,
            "overflow_x": null,
            "overflow_y": null,
            "padding": null,
            "right": null,
            "top": null,
            "visibility": null,
            "width": null
          }
        },
        "fde03933e95a409187e33f17d401d048": {
          "model_module": "@jupyter-widgets/controls",
          "model_name": "DescriptionStyleModel",
          "model_module_version": "1.5.0",
          "state": {
            "_model_module": "@jupyter-widgets/controls",
            "_model_module_version": "1.5.0",
            "_model_name": "DescriptionStyleModel",
            "_view_count": null,
            "_view_module": "@jupyter-widgets/base",
            "_view_module_version": "1.2.0",
            "_view_name": "StyleView",
            "description_width": ""
          }
        }
      }
    },
    "accelerator": "GPU",
    "gpuClass": "standard"
  },
  "cells": [
    {
      "cell_type": "markdown",
      "metadata": {
        "id": "view-in-github",
        "colab_type": "text"
      },
      "source": [
        "<a href=\"https://colab.research.google.com/github/shuvanyu/Document-Retrieval-and-Ranking/blob/main/condenser_nfcorpus.ipynb\" target=\"_parent\"><img src=\"https://colab.research.google.com/assets/colab-badge.svg\" alt=\"Open In Colab\"/></a>"
      ]
    },
    {
      "cell_type": "markdown",
      "source": [
        "# Prerequisites"
      ],
      "metadata": {
        "id": "Yu34CR5hk0KS"
      }
    },
    {
      "cell_type": "code",
      "execution_count": 1,
      "metadata": {
        "id": "lFBTtaBpg-u4"
      },
      "outputs": [],
      "source": [
        "!pip install sentence-transformers > /dev/null\n",
        "!pip install beir > /dev/null\n",
        "!pip install tensorflow_text > /dev/null"
      ]
    },
    {
      "cell_type": "markdown",
      "source": [
        "# Testing beir"
      ],
      "metadata": {
        "id": "JaUoiciZmO2D"
      }
    },
    {
      "cell_type": "code",
      "source": [
        "from beir import util, LoggingHandler\n",
        "from beir.retrieval import models\n",
        "from beir.datasets.data_loader import GenericDataLoader\n",
        "from beir.retrieval.evaluation import EvaluateRetrieval\n",
        "from beir.retrieval.search.dense import DenseRetrievalExactSearch as DRES\n",
        "\n",
        "import logging\n",
        "import pathlib, os\n",
        "\n",
        "#### Just some code to print debug information to stdout\n",
        "logging.basicConfig(format='%(asctime)s - %(message)s',\n",
        "                    datefmt='%Y-%m-%d %H:%M:%S',\n",
        "                    level=logging.INFO,\n",
        "                    handlers=[LoggingHandler()])\n",
        "#### /print debug information to stdout\n",
        "\n",
        "#### Download scifact.zip dataset and unzip the dataset\n",
        "dataset = \"nfcorpus\"\n",
        "url = \"https://public.ukp.informatik.tu-darmstadt.de/thakur/BEIR/datasets/{}.zip\".format(dataset)\n",
        "out_dir = os.path.join('drive', 'MyDrive',  \"nlp_datashare\")"
      ],
      "metadata": {
        "id": "_fIXiccNk6PU",
        "colab": {
          "base_uri": "https://localhost:8080/"
        },
        "outputId": "6057e856-9458-4799-b04a-3065f4b91f07"
      },
      "execution_count": 2,
      "outputs": [
        {
          "output_type": "stream",
          "name": "stderr",
          "text": [
            "/usr/local/lib/python3.9/dist-packages/beir/util.py:2: TqdmExperimentalWarning: Using `tqdm.autonotebook.tqdm` in notebook mode. Use `tqdm.tqdm` instead to force console mode (e.g. in jupyter console)\n",
            "  from tqdm.autonotebook import tqdm\n"
          ]
        }
      ]
    },
    {
      "cell_type": "code",
      "source": [
        "\n",
        "data_path = util.download_and_unzip(url, out_dir)\n",
        "corpus, queries, qrels = GenericDataLoader(data_path).load(split=\"test\") # or split = \"train\" or \"dev\"\n"
      ],
      "metadata": {
        "colab": {
          "base_uri": "https://localhost:8080/",
          "height": 49,
          "referenced_widgets": [
            "4c834169ee0c4f10a31c59bdf797bae8",
            "1403b067f8d341949786e7d21fe7ff6b",
            "89a37b3ac37e4c8281349f775f822523",
            "09a7a18c06dc4900bb56bf19e0a841e3",
            "11bf69f4747e4273a392ea33fea51b3c",
            "503df36cfb884fa38086c7929649e104",
            "2caf9b486d2645cb8705c26b454ad82f",
            "afa8c37297ec4306873494af17e9eaed",
            "a219495688b74d66980e8cd4e1247887",
            "a132776ab0cd4a2bb02b7e27ec95af51",
            "7287969f55114b338d1324b2019bea3d"
          ]
        },
        "id": "2Aq22lsp_jUt",
        "outputId": "38d05649-926c-4d60-edc3-2f865340c0bf"
      },
      "execution_count": 3,
      "outputs": [
        {
          "output_type": "display_data",
          "data": {
            "text/plain": [
              "  0%|          | 0/3633 [00:00<?, ?it/s]"
            ],
            "application/vnd.jupyter.widget-view+json": {
              "version_major": 2,
              "version_minor": 0,
              "model_id": "4c834169ee0c4f10a31c59bdf797bae8"
            }
          },
          "metadata": {}
        }
      ]
    },
    {
      "cell_type": "code",
      "source": [
        "sorted(list(corpus.keys()))[3]"
      ],
      "metadata": {
        "colab": {
          "base_uri": "https://localhost:8080/",
          "height": 36
        },
        "id": "bDmjvOLz7yK9",
        "outputId": "51f64eee-59e9-4caa-ca04-2e5669a44708"
      },
      "execution_count": 4,
      "outputs": [
        {
          "output_type": "execute_result",
          "data": {
            "text/plain": [
              "'MED-1003'"
            ],
            "application/vnd.google.colaboratory.intrinsic+json": {
              "type": "string"
            }
          },
          "metadata": {},
          "execution_count": 4
        }
      ]
    },
    {
      "cell_type": "markdown",
      "source": [
        "# Co-condensor"
      ],
      "metadata": {
        "id": "XDjURS7z2EYX"
      }
    },
    {
      "cell_type": "code",
      "source": [
        "len(corpus)"
      ],
      "metadata": {
        "colab": {
          "base_uri": "https://localhost:8080/"
        },
        "id": "BaNknLw61rRb",
        "outputId": "1e4f74ca-69eb-4823-ae34-98233ba700d8"
      },
      "execution_count": 5,
      "outputs": [
        {
          "output_type": "execute_result",
          "data": {
            "text/plain": [
              "3633"
            ]
          },
          "metadata": {},
          "execution_count": 5
        }
      ]
    },
    {
      "cell_type": "code",
      "source": [
        "model_path = \"sentence-transformers/msmarco-bert-co-condensor\"\n",
        "model = models.SentenceBERT(model_path=model_path)\n",
        "normalize = True\n"
      ],
      "metadata": {
        "id": "4zfYMaRC2e8X"
      },
      "execution_count": 6,
      "outputs": []
    },
    {
      "cell_type": "code",
      "source": [
        "model = DRES(model, batch_size=16)\n",
        "retriever = EvaluateRetrieval(model, score_function=\"dot\") # or \"cos_sim\" for cosine similarity\n",
        "results = retriever.retrieve(corpus, queries)"
      ],
      "metadata": {
        "colab": {
          "base_uri": "https://localhost:8080/",
          "height": 81,
          "referenced_widgets": [
            "357fc25b79794586b9f5928cd01d34f2",
            "490866a58d114a84a152c8e6c5be65ad",
            "453839c9a9e446a4962e9034f455d36f",
            "5f106ef57c82457890e55a4becf236de",
            "76f0a14fbc504f16b406923d209429ab",
            "1d430d32b31b4333919b29cbe692d57e",
            "9ae63a0a4b824cd9a563c2c6c2fb5368",
            "7fd5074a81aa4099b0c714b4109439bb",
            "102c79acdc804309a1938ebd6240538e",
            "7a75c9e1c08944ef9c166089549485e5",
            "8b5960d9d8ca4c43a5abd2340dff3f76",
            "45ffaf575c4c4ddda1336ccb95677e82",
            "b6eff9cf34af48f6b844bdd8fc2618e7",
            "980cf53ba487464e9001cba22a067cd3",
            "65d4821caf354b0db42b068869e66046",
            "cfba03808ee844d5908ebb96b325fc9e",
            "25db310dba30423cafcf8e7887e468c7",
            "5d0c0e70361a4d7d903a57eaa12ac82e",
            "9dec4fb5e86c490989a41078b4ef46cc",
            "c15d3c5fbe7647888b229b33cdbadd50",
            "49787d9816fe48658fb08412579551c9",
            "fde03933e95a409187e33f17d401d048"
          ]
        },
        "id": "C1knWU-W3WFv",
        "outputId": "3a7f2de5-8d43-4888-9559-d6d37ed1ac0d"
      },
      "execution_count": 7,
      "outputs": [
        {
          "output_type": "display_data",
          "data": {
            "text/plain": [
              "Batches:   0%|          | 0/21 [00:00<?, ?it/s]"
            ],
            "application/vnd.jupyter.widget-view+json": {
              "version_major": 2,
              "version_minor": 0,
              "model_id": "357fc25b79794586b9f5928cd01d34f2"
            }
          },
          "metadata": {}
        },
        {
          "output_type": "display_data",
          "data": {
            "text/plain": [
              "Batches:   0%|          | 0/228 [00:00<?, ?it/s]"
            ],
            "application/vnd.jupyter.widget-view+json": {
              "version_major": 2,
              "version_minor": 0,
              "model_id": "45ffaf575c4c4ddda1336ccb95677e82"
            }
          },
          "metadata": {}
        }
      ]
    },
    {
      "cell_type": "code",
      "source": [
        "ndcg, _map, recall, precision = retriever.evaluate(qrels, results, retriever.k_values)"
      ],
      "metadata": {
        "id": "LRb_rrpc_X2I"
      },
      "execution_count": 8,
      "outputs": []
    },
    {
      "cell_type": "code",
      "source": [
        "ndcg"
      ],
      "metadata": {
        "colab": {
          "base_uri": "https://localhost:8080/"
        },
        "id": "3hHNeWjzAN4U",
        "outputId": "2e090183-3567-48dc-f020-b2ed22224447"
      },
      "execution_count": 9,
      "outputs": [
        {
          "output_type": "execute_result",
          "data": {
            "text/plain": [
              "{'NDCG@1': 0.43498,\n",
              " 'NDCG@3': 0.37308,\n",
              " 'NDCG@5': 0.34707,\n",
              " 'NDCG@10': 0.31806,\n",
              " 'NDCG@100': 0.28839,\n",
              " 'NDCG@1000': 0.37973}"
            ]
          },
          "metadata": {},
          "execution_count": 9
        }
      ]
    },
    {
      "cell_type": "code",
      "source": [
        "_map"
      ],
      "metadata": {
        "colab": {
          "base_uri": "https://localhost:8080/"
        },
        "id": "ngojYqkCAPUk",
        "outputId": "eddd3e82-586f-429a-b980-6b097b49801b"
      },
      "execution_count": 10,
      "outputs": [
        {
          "output_type": "execute_result",
          "data": {
            "text/plain": [
              "{'MAP@1': 0.05594,\n",
              " 'MAP@3': 0.0861,\n",
              " 'MAP@5': 0.10042,\n",
              " 'MAP@10': 0.11702,\n",
              " 'MAP@100': 0.14415,\n",
              " 'MAP@1000': 0.15778}"
            ]
          },
          "metadata": {},
          "execution_count": 10
        }
      ]
    },
    {
      "cell_type": "code",
      "source": [
        "recall"
      ],
      "metadata": {
        "colab": {
          "base_uri": "https://localhost:8080/"
        },
        "id": "cZW7pNQCAcfp",
        "outputId": "6e354757-d24c-4c0b-f665-21165dbd4be1"
      },
      "execution_count": 11,
      "outputs": [
        {
          "output_type": "execute_result",
          "data": {
            "text/plain": [
              "{'Recall@1': 0.05594,\n",
              " 'Recall@3': 0.09794,\n",
              " 'Recall@5': 0.12224,\n",
              " 'Recall@10': 0.15288,\n",
              " 'Recall@100': 0.28486,\n",
              " 'Recall@1000': 0.6152}"
            ]
          },
          "metadata": {},
          "execution_count": 11
        }
      ]
    },
    {
      "cell_type": "code",
      "source": [
        "precision"
      ],
      "metadata": {
        "colab": {
          "base_uri": "https://localhost:8080/"
        },
        "id": "BLS0bvS7AfiN",
        "outputId": "84e874a2-739f-47e5-ccb7-c58258736582"
      },
      "execution_count": 12,
      "outputs": [
        {
          "output_type": "execute_result",
          "data": {
            "text/plain": [
              "{'P@1': 0.44892,\n",
              " 'P@3': 0.34675,\n",
              " 'P@5': 0.29474,\n",
              " 'P@10': 0.23158,\n",
              " 'P@100': 0.07241,\n",
              " 'P@1000': 0.02027}"
            ]
          },
          "metadata": {},
          "execution_count": 12
        }
      ]
    },
    {
      "cell_type": "code",
      "source": [
        "import random\n",
        "random.seed(250)\n",
        "\n",
        "#### Print top-k documents retrieved ####\n",
        "top_k = 10\n",
        "\n",
        "query_id, ranking_scores = random.choice(list(results.items()))\n"
      ],
      "metadata": {
        "id": "CK37sk3NAgGU"
      },
      "execution_count": 13,
      "outputs": []
    },
    {
      "cell_type": "code",
      "source": [
        "query_id"
      ],
      "metadata": {
        "colab": {
          "base_uri": "https://localhost:8080/",
          "height": 36
        },
        "id": "G5U5zfcRAwRi",
        "outputId": "31255e68-1034-4216-baf8-ef77f1ad4f8b"
      },
      "execution_count": 14,
      "outputs": [
        {
          "output_type": "execute_result",
          "data": {
            "text/plain": [
              "'PLAIN-2177'"
            ],
            "application/vnd.google.colaboratory.intrinsic+json": {
              "type": "string"
            }
          },
          "metadata": {},
          "execution_count": 14
        }
      ]
    },
    {
      "cell_type": "code",
      "source": [
        "len(ranking_scores)"
      ],
      "metadata": {
        "colab": {
          "base_uri": "https://localhost:8080/"
        },
        "id": "gxNEJtBDBXvI",
        "outputId": "f2249613-ecd1-4a3b-ab99-37754a2a32ab"
      },
      "execution_count": 15,
      "outputs": [
        {
          "output_type": "execute_result",
          "data": {
            "text/plain": [
              "1001"
            ]
          },
          "metadata": {},
          "execution_count": 15
        }
      ]
    },
    {
      "cell_type": "code",
      "source": [
        "scores_sorted = sorted(ranking_scores.items(), key=lambda item: item[1], reverse=True)\n",
        "print(\"Query : %s\\n\" % queries[query_id])\n",
        "\n",
        "for rank in range(min(top_k, len(ranking_scores))):\n",
        "    doc_id = scores_sorted[rank][0]\n",
        "    # Format: Rank x: ID [Title] Body\n",
        "    print(\"Rank %d: %s [%s] - %s\\n\" % (rank+1, doc_id, corpus[doc_id].get(\"title\"), corpus[doc_id].get(\"text\")))"
      ],
      "metadata": {
        "colab": {
          "base_uri": "https://localhost:8080/"
        },
        "id": "YRlfrq5dAsZh",
        "outputId": "c63f8ac5-edf4-4e4b-e6c8-4ba7fad6c8bd"
      },
      "execution_count": 16,
      "outputs": [
        {
          "output_type": "stream",
          "name": "stdout",
          "text": [
            "Query : sulfur\n",
            "\n",
            "Rank 1: MED-3282 [Generation of gaseous sulfur-containing compounds in tumour tissue and suppression of gas diffusion as an antitumour treatment.] - BACKGROUND AND AIMS: The mechanisms of cancer cell growth and metastasis are still not entirely understood, especially from the viewpoint of chemical reactions in tumours. Glycolytic metabolism is markedly accelerated in cancer cells, causing the accumulation of glucose (a reducing sugar) and methionine (an amino acid), which can non-enzymatically react and form carcinogenic substances. There is speculation that this reaction produces gaseous sulfur-containing compounds in tumour tissue. The aims of this study were to clarify the products in tumour and to investigate their effect on tumour proliferation. METHODS: Products formed in the reaction between glucose and methionine or its metabolites were analysed in vitro using gas chromatography. Flatus samples from patients with colon cancer and exhaled air samples from patients with lung cancer were analysed using near-edge x-ray fine adsorption structure spectroscopy and compared with those from healthy individuals. The tumour proliferation rates of mice into which HT29 human colon cancer cells had been implanted were compared with those of mice in which the cancer cells were surrounded by sodium hyaluronate gel to prevent diffusion of gaseous material into the healthy cells. RESULTS: Gaseous sulfur-containing compounds such as methanethiol and hydrogen sulfide were produced when glucose was allowed to react with methionine or its metabolites homocysteine or cysteine. Near-edge x-ray fine adsorption structure spectroscopy showed that the concentrations of sulfur-containing compounds in the samples of flatus from patients with colon cancer and in the samples of exhaled air from patients with lung cancer were significantly higher than in those from healthy individuals. Animal experiments showed that preventing the diffusion of sulfur-containing compounds had a pronounced antitumour effect. CONCLUSIONS: Gaseous sulfur-containing compounds are the main products in tumours and preventing the diffusion of these compounds reduces the tumour proliferation rate, which suggests the possibility of a new approach to cancer treatment.\n",
            "\n",
            "Rank 2: MED-1421 [Contribution of dietary protein to sulfide production in the large intestine: an in vitro and a controlled feeding study in humans.] - BACKGROUND: Hydrogen sulfide is a luminally acting, bacterially derived cell poison that has been implicated in ulcerative colitis. Sulfide generation in the colon is probably driven by dietary components such as sulfur-containing amino acids (SAAs) and inorganic sulfur (eg, sulfite). OBJECTIVE: We assessed the contribution of SAAs from meat to sulfide production by intestinal bacteria with use of both a model culture system in vitro and an in vivo human feeding study. DESIGN: Five healthy men were housed in a metabolic suite and fed a sequence of 5 diets for 10 d each. Meat intake ranged from 0 g/d with a vegetarian diet to 600 g/d with a high-meat diet. Fecal sulfide and urinary sulfate were measured in samples collected on days 9 and 10 of each diet period. Additionally, 5 or 10 g bovine serum albumin or casein/L was added to batch cultures inoculated with feces from 4 healthy volunteers. Concentrations of sulfide, ammonia, and Lowry-reactive substances were measured over 48 h. RESULTS: Mean (+/-SEM) fecal sulfide concentrations ranged from 0.22 +/- 0.02 mmol/kg with the 0-g/d diet to 3.38 +/- 0.31 mmol/kg with the 600-g/d diet and were significantly related to meat intake (P: < 0.001). Sulfide formation in fecal batch cultures supplemented with both bovine serum albumin and casein correlated with protein digestion, as measured by the disappearance of Lowry-reactive substances and the appearance of ammonia. CONCLUSION: Dietary protein from meat is an important substrate for sulfide generation by bacteria in the human large intestine.\n",
            "\n",
            "Rank 3: MED-4499 [Investigating Antibacterial Effects of Garlic (Allium sativum) Concentrate and Garlic-Derived Organosulfur Compounds on Campylobacter jejuni by Using Fourier Transform Infrared Spectroscopy, Raman Spectroscopy, and Electron Microscopy] - Fourier transform infrared (FT-IR) spectroscopy and Raman spectroscopy were used to study the cell injury and inactivation of Campylobacter jejuni from exposure to antioxidants from garlic. C. jejuni was treated with various concentrations of garlic concentrate and garlic-derived organosulfur compounds in growth media and saline at 4, 22, and 35°C. The antimicrobial activities of the diallyl sulfides increased with the number of sulfur atoms (diallyl sulfide < diallyl disulfide < diallyl trisulfide). FT-IR spectroscopy confirmed that organosulfur compounds are responsible for the substantial antimicrobial activity of garlic, much greater than those of garlic phenolic compounds, as indicated by changes in the spectral features of proteins, lipids, and polysaccharides in the bacterial cell membranes. Confocal Raman microscopy (532-nm-gold-particle substrate) and Raman mapping of a single bacterium confirmed the intracellular uptake of sulfur and phenolic components. Scanning electron microscopy (SEM) and transmission electron microscopy (TEM) were employed to verify cell damage. Principal-component analysis (PCA), discriminant function analysis (DFA), and soft independent modeling of class analogs (SIMCA) were performed, and results were cross validated to differentiate bacteria based upon the degree of cell injury. Partial least-squares regression (PLSR) was employed to quantify and predict actual numbers of healthy and injured bacterial cells remaining following treatment. PLSR-based loading plots were investigated to further verify the changes in the cell membrane of C. jejuni treated with organosulfur compounds. We demonstrated that bacterial injury and inactivation could be accurately investigated by complementary infrared and Raman spectroscopies using a chemical-based, “whole-organism fingerprint” with the aid of chemometrics and electron microscopy.\n",
            "\n",
            "Rank 4: MED-4995 [Salicylic Acid sans Aspirin in Animals and Man: Persistence in Fasting and Biosynthesis from Benzoic Acid] - Salicylic acid (SA), which is central to defense mechanisms in plants and the principal metabolite of aspirin, occurs naturally in man with higher levels of SA and its urinary metabolite salicyluric acid (SU) in vegetarians overlapping with levels in patients on low-dose aspirin regimens. SA is widely distributed in animal blood. Fasting for major colorectal surgery did not cause disappearance of SA from plasma, even in patients following total proctocolectomy. A 13C6 benzoic acid load ingested by six volunteers led, between 8 and 16 h, to a median 33.9% labeling of urinary salicyluric acid. The overall contribution of benzoic acid (and its salts) to the turnover of circulating SA thus requires further assessment. However, that SA appears to be, at least partially, an endogenous compound should lead to reassessment of its role in human (and animal) pathophysiology.\n",
            "\n",
            "Rank 5: MED-1002 [Polybrominated diphenyl ethers (PBDEs), hydroxylated PBDEs (OH-PBDEs), and measures of thyroid function in second trimester pregnant women in California] - Prenatal exposure to polybrominated diphenyl ethers (PBDEs) may disrupt thyroid function and contribute to adverse neurodevelopmental outcomes. We conducted a pilot study to explore the relationship between serum concentrations of lower-brominated PBDEs (BDE-17 to -154), higher-brominated PBDEs (BDE-183 to -209), and hydroxylated PBDE metabolites (OH-PBDEs) with measures of thyroid function in pregnant women. Concentrations of PBDEs, OH-PBDEs, thyroid-stimulating hormone (TSH), total thyroxine (T4), and free T4 were measured in serum samples collected between 2008 and 2009 from 25 second trimester pregnant women in California. Median concentrations of lower-brominated PBDEs and OH-PBDEs were the highest reported to date in pregnant women. Median concentrations of BDE-47 and the sum of lower-brominated PBDEs (ΣPBDE5) were 43.1 ng/g lipid and 85.8 ng/g lipid; and 0.084 ng/mL for the sum of OH-PBDEs (ΣOH-PBDE4). We observed a positive association between the weighted sum of chemicals known to bind to transthyretin (ΣTTR binders) and TSH levels. We also found positive associations between TSH and ΣPBDE5, ΣOH-PBDE4, BDE-47, BDE-85, 5-OH-BDE47, and 4′-OH-BDE49; and an inverse association with BDE-207. Relationships with free and total T4 were weak and inconsistent. Our results indicate that PBDE exposures are elevated in pregnant women in California, and suggest a relationship with thyroid function. Further investigation is warranted to characterize the risks of PBDE exposures during pregnancy.\n",
            "\n",
            "Rank 6: MED-1418 [Hydrogen sulfide induces direct radical-associated DNA damage.] - Hydrogen sulfide (H(2)S) is produced by indigenous sulfate-reducing bacteria in the large intestine and represents an environmental insult to the colonic epithelium. Clinical studies have linked the presence of either sulfate-reducing bacteria or H(2)S in the colon with chronic disorders such as ulcerative colitis and colorectal cancer, although at this point, the evidence is circumstantial and underlying mechanisms remain undefined. We showed previously that sulfide at concentrations similar to those found in the human colon induced genomic DNA damage in mammalian cells. The present study addressed the nature of the DNA damage by determining if sulfide is directly genotoxic or if genotoxicity requires cellular metabolism. We also questioned if sulfide genotoxicity is mediated by free radicals and if DNA base oxidation is involved. Naked nuclei from untreated Chinese hamster ovary cells were treated with sulfide; DNA damage was induced by concentrations as low as 1 micromol/L. This damage was effectively quenched by cotreatment with butylhydroxyanisole. Furthermore, sulfide treatment increased the number of oxidized bases recognized by formamidopyrimidine [fapy]-DNA glycosylase. These results confirm the genotoxicity of sulfide and strongly implicate that this genotoxicity is mediated by free radicals. These observations highlight the possible role of sulfide as an environmental insult that, given a predisposing genetic background, may lead to genomic instability or the cumulative mutations characteristic of colorectal cancer.\n",
            "\n",
            "Rank 7: MED-1184 [Antagonistic effects of sulfide and butyrate on proliferation of colonic mucosa: a potential role for these agents in the pathogenesis of ulcerativ...] - It has been shown that feces of patients with ulcerative colitis uniformly contain sulfate reducing bacteria. Sulfide produced by these bacteria interferes with butyrate-dependent energy metabolism of cultured colonocytes and may be involved in the pathogenesis of ulcerative colitis. Mucosal biopsies from the sigmoid rectum of 10 patients (no caner, polyps, inflammatory bowel disease) were incubated with either NaCl, sodium hydrogen sulfide (1 mmol/L), a combination of both sodium hydrogen sulfide and butyrate (10 mmol/L), or butyrate. Mucosal proliferation was assessed by bromodeoxyuridine labeling of cells in S-phase. Compared to NaCl, sulfide increased the labeling of the entire crypt significantly, by 19% (p < 0.05). This effect was due to an expansion of the proliferative zone to the upper crypt (compartments 3-5), where the increase in proliferation was 54%. Sulfide-induced hyperproliferation was reversed when samples were coincubated with sulfide and butyrate. The study shows that sodium hydrogen sulfide induces mucosal hyperproliferation. Our data support a possible role of sulfide in the pathogenesis of UC and confirm the role of butyrate in the regulation of colonic proliferation and in the treatment of UC.\n",
            "\n",
            "Rank 8: MED-723 [Effectiveness of devices purported to reduce flatus odor.] - OBJECTIVE: A variety of charcoal-containing devices are purported to minimize problems with odoriferous rectal gas; however, the evidence supporting the efficacy of these products is virtually all anecdotal. We objectively evaluated the ability of these devices to adsorb two malodorous, sulfide gases (hydrogen sulfide and methylmercaptan) instilled at the anus. METHODS: Via a tube, 100 ml of nitrogen containing 40 ppm of sulfide gases and 0.5% H(2) was instilled at the anus of six healthy volunteers who wore gas impermeable Mylar pantaloons over their garments. Since H(2) is not adsorbed by charcoal, the fraction of the sulfide gases removed could be determined from the concentration ratio of sulfide gas: H(2) in the pantaloon space relative to the ratio in instilled gas. RESULTS: Measurements with no device in place showed that subjects' garments removed 22.0 +/- 5.3% of the sulfide gases, and results obtained with each device were corrected for this removal. The only product that adsorbed virtually all of the sulfide gases was briefs constructed from an activated carbon fiber fabric. Pads worn inside the underwear removed 55-77% of the sulfide gases. Most cushions were relatively ineffective, adsorbing about 20% of the gases. CONCLUSIONS: The ability of charcoal-containing devices to adsorb odoriferous rectal gases is limited by incomplete exposure of the activated carbon to the gases. Briefs made from carbon fiber are highly effective; pads are less effective, removing 55-77% of the odor; cushions are relatively ineffective.\n",
            "\n",
            "Rank 9: MED-1185 [Sulfite sensitivity: significance in human health.] - Endogenous sulfite is generated as a consequence of the body's normal processing of sulfur-containing amino acids. Sulfites occur as a consequence of fermentation and also occur naturally in a number of foods and beverages. As food additives, sulfiting agents were first used in 1664 and approved in the United States as long ago as the 1800s. With such long experience with their use, it is easy to understand why these substances have been regarded as safe. They are currently used for a variety of preservative properties, including controlling microbial growth, preventing browning and spoilage, and bleaching some foods. It is estimated that up to 500,000 (< .05% of the population) sulfite-sensitive individuals live in the United States. Sulfite sensitivity occurs most often in asthmatic adults--predominantly women; it is uncommonly reported in preschool children. Adverse reactions to sulfites in nonasthmatics are extremely rare. Asthmatics who are steroid-dependent or who have a higher degree of airway hyperreactivity may be at greater risk of experiencing a reaction to sulfite-containing foods. Even within this limited population, sulfite sensitivity reactions vary widely, ranging from no reaction to severe. The majority of reactions are mild. These manifestations may include dermatologic, respiratory, or gastrointestinal signs and symptoms. Severe nonspecific signs and symptoms occur less commonly. Broncho-constriction is the most common sensitivity response in asthmatics. The precise mechanisms of the sensitivity responses have not been completely elucidated. Inhalation of sulfur dioxide (SO2) generated in the stomach following ingestion of sulfite-containing foods or beverages, a deficiency in a mitochondrial enzyme, and an IgE-mediated immune response have all been implicated.(ABSTRACT TRUNCATED AT 250 WORDS)\n",
            "\n",
            "Rank 10: MED-4176 [Perfluorooctanesulfonate and related fluorochemicals in human blood samples from China.] - Perfluorooctanesulfonylfluoride (POSF)-based compounds have been manufactured and used in a variety of industrial applications. These compounds degrade to perfluorooctanesulfonate (PFOS) which is regarded as a persistent end-stage metabolite and is found to accumulate in tissues of humans and wildlife. PFOS, perfluorohexanesulfonate (PFHxS), perfluorooctanoate (PFOA), and perfluorooctanesulfonamide (PFOSA) have been found in human sera from the United States. In this study, concentrations of PFHxS, perfluorobutanesulfonate (PFBS), PFOS, perfluorohexanoic acid (PFHxA), PFOA, perfluorononanoic acid (PFNA), perfluorodecanoic acid (PFDA), perfluoroundecanoic acid (PFUnDA), perfluorododecanoic acid (PFDoDA), and PFOSA were measured in 85 samples of whole human blood collected from nine cities (eight provinces) in China, including Shenyang (Liaoning), Beijing (Hebei), Zhengzhou (Henan), Jintan (Jiangsu), Wuhan (Hubei), Zhoushan (Zhejiang), Guiyang (Guizhou), Xiamen (Fujian), and Fuzhou (Fujian). Among the 10 perfluorinated compounds (PFCs) measured, PFOS was the predominant compound. The mean concentration of PFOS was greatest in samples collected from Shenyang (79.2 ng/mL) and least in samples from Jintan (3.72 ng/mL). PFHxS was the next most abundant perfluorochemical in the samples. No age-related differences in the concentrations of PFOA, PFOS, PFOSA, and PFHxS were observed. Gender-related differences were found,with males higher for PFOS and PFHxS, and females higher in PFUnDA. Concentrations of PFHxS were positively correlated with those of PFOS, while concentrations of PFNA, PFDA, and PFUnDA were positively correlated with those of PFOA. There were differences in the concentration profiles (percentage composition) of various PFCs in the samples among the nine cities.\n",
            "\n"
          ]
        }
      ]
    },
    {
      "cell_type": "markdown",
      "source": [
        "# Random Query"
      ],
      "metadata": {
        "id": "YuUF75624wy6"
      }
    },
    {
      "cell_type": "code",
      "source": [
        "# import torch"
      ],
      "metadata": {
        "id": "UL3mFyru7iGS"
      },
      "execution_count": 17,
      "outputs": []
    },
    {
      "cell_type": "code",
      "source": [
        "# if normalize:\n",
        "#     corpus_embs = model.encode_corpus(reduced_corpus, batch_size=128, convert_to_tensor=True, normalize_embeddings=True)\n",
        "# else:\n",
        "#     corpus_embs = model.encode_corpus(reduced_corpus, batch_size=128, convert_to_tensor=True)"
      ],
      "metadata": {
        "id": "9YhlC4Ny3VVY"
      },
      "execution_count": 18,
      "outputs": []
    },
    {
      "cell_type": "code",
      "source": [
        "# query = ''"
      ],
      "metadata": {
        "id": "-vK-p0F37EOc"
      },
      "execution_count": 19,
      "outputs": []
    },
    {
      "cell_type": "code",
      "source": [
        "# start = datetime.datetime.now()\n",
        "# if normalize:\n",
        "#     query_emb = model.encode_queries([query], batch_size=1, convert_to_tensor=True, normalize_embeddings=True, show_progress_bar=False)\n",
        "# else:\n",
        "#     query_emb = model.encode_queries([query], batch_size=1, convert_to_tensor=True, show_progress_bar=False)\n",
        "\n",
        "# #### Dot product for normalized embeddings is equal to cosine similarity\n",
        "# sim_scores = utils.dot_score(query_emb, corpus_embs)\n",
        "# sim_scores_top_k_values, sim_scores_top_k_idx = torch.topk(sim_scores, 10, dim=1, largest=True, sorted=True)\n",
        "# end = datetime.datetime.now()\n",
        "\n",
        "# #### Measuring time taken in ms (milliseconds)\n",
        "# time_taken = (end - start)\n",
        "# time_taken = time_taken.total_seconds() * 1000\n",
        "# time_taken_all[query_id] = time_taken\n",
        "# print(\"{}: {} {:.2f}ms\".format(query_id, query, time_taken))"
      ],
      "metadata": {
        "id": "iOQmuyVd7DUY"
      },
      "execution_count": 20,
      "outputs": []
    }
  ]
}