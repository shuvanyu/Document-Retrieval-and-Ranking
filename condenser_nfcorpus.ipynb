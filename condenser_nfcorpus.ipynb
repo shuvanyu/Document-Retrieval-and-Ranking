{
  "nbformat": 4,
  "nbformat_minor": 0,
  "metadata": {
    "colab": {
      "provenance": [],
      "collapsed_sections": [
        "Yu34CR5hk0KS"
      ],
      "include_colab_link": true
    },
    "kernelspec": {
      "name": "python3",
      "display_name": "Python 3"
    },
    "language_info": {
      "name": "python"
    },
    "widgets": {
      "application/vnd.jupyter.widget-state+json": {
        "d41d670972424b93a994e544ad0126f2": {
          "model_module": "@jupyter-widgets/controls",
          "model_name": "HBoxModel",
          "model_module_version": "1.5.0",
          "state": {
            "_dom_classes": [],
            "_model_module": "@jupyter-widgets/controls",
            "_model_module_version": "1.5.0",
            "_model_name": "HBoxModel",
            "_view_count": null,
            "_view_module": "@jupyter-widgets/controls",
            "_view_module_version": "1.5.0",
            "_view_name": "HBoxView",
            "box_style": "",
            "children": [
              "IPY_MODEL_a7de7cff787b4b09a1af9814e480006f",
              "IPY_MODEL_cf54c40ea3e440a0ab0dc042a474983c",
              "IPY_MODEL_a3be4d72af1840cea0a0b59411225aa9"
            ],
            "layout": "IPY_MODEL_f9b6d6cbb8c847e7a361e7d74b326558"
          }
        },
        "a7de7cff787b4b09a1af9814e480006f": {
          "model_module": "@jupyter-widgets/controls",
          "model_name": "HTMLModel",
          "model_module_version": "1.5.0",
          "state": {
            "_dom_classes": [],
            "_model_module": "@jupyter-widgets/controls",
            "_model_module_version": "1.5.0",
            "_model_name": "HTMLModel",
            "_view_count": null,
            "_view_module": "@jupyter-widgets/controls",
            "_view_module_version": "1.5.0",
            "_view_name": "HTMLView",
            "description": "",
            "description_tooltip": null,
            "layout": "IPY_MODEL_4353ed648451451b99077291658e66fb",
            "placeholder": "​",
            "style": "IPY_MODEL_9d75090313c047418d31ee47e40c8cd5",
            "value": "100%"
          }
        },
        "cf54c40ea3e440a0ab0dc042a474983c": {
          "model_module": "@jupyter-widgets/controls",
          "model_name": "FloatProgressModel",
          "model_module_version": "1.5.0",
          "state": {
            "_dom_classes": [],
            "_model_module": "@jupyter-widgets/controls",
            "_model_module_version": "1.5.0",
            "_model_name": "FloatProgressModel",
            "_view_count": null,
            "_view_module": "@jupyter-widgets/controls",
            "_view_module_version": "1.5.0",
            "_view_name": "ProgressView",
            "bar_style": "success",
            "description": "",
            "description_tooltip": null,
            "layout": "IPY_MODEL_839e3504b2494b00bb13253bd4bd6fec",
            "max": 3633,
            "min": 0,
            "orientation": "horizontal",
            "style": "IPY_MODEL_aa3867fa0c6c43de82451287e79b0886",
            "value": 3633
          }
        },
        "a3be4d72af1840cea0a0b59411225aa9": {
          "model_module": "@jupyter-widgets/controls",
          "model_name": "HTMLModel",
          "model_module_version": "1.5.0",
          "state": {
            "_dom_classes": [],
            "_model_module": "@jupyter-widgets/controls",
            "_model_module_version": "1.5.0",
            "_model_name": "HTMLModel",
            "_view_count": null,
            "_view_module": "@jupyter-widgets/controls",
            "_view_module_version": "1.5.0",
            "_view_name": "HTMLView",
            "description": "",
            "description_tooltip": null,
            "layout": "IPY_MODEL_dbc9067dfb634de2836734e91b09efc8",
            "placeholder": "​",
            "style": "IPY_MODEL_046e6dbd76124c6ca5d9267529c8e68c",
            "value": " 3633/3633 [00:00&lt;00:00, 31282.80it/s]"
          }
        },
        "f9b6d6cbb8c847e7a361e7d74b326558": {
          "model_module": "@jupyter-widgets/base",
          "model_name": "LayoutModel",
          "model_module_version": "1.2.0",
          "state": {
            "_model_module": "@jupyter-widgets/base",
            "_model_module_version": "1.2.0",
            "_model_name": "LayoutModel",
            "_view_count": null,
            "_view_module": "@jupyter-widgets/base",
            "_view_module_version": "1.2.0",
            "_view_name": "LayoutView",
            "align_content": null,
            "align_items": null,
            "align_self": null,
            "border": null,
            "bottom": null,
            "display": null,
            "flex": null,
            "flex_flow": null,
            "grid_area": null,
            "grid_auto_columns": null,
            "grid_auto_flow": null,
            "grid_auto_rows": null,
            "grid_column": null,
            "grid_gap": null,
            "grid_row": null,
            "grid_template_areas": null,
            "grid_template_columns": null,
            "grid_template_rows": null,
            "height": null,
            "justify_content": null,
            "justify_items": null,
            "left": null,
            "margin": null,
            "max_height": null,
            "max_width": null,
            "min_height": null,
            "min_width": null,
            "object_fit": null,
            "object_position": null,
            "order": null,
            "overflow": null,
            "overflow_x": null,
            "overflow_y": null,
            "padding": null,
            "right": null,
            "top": null,
            "visibility": null,
            "width": null
          }
        },
        "4353ed648451451b99077291658e66fb": {
          "model_module": "@jupyter-widgets/base",
          "model_name": "LayoutModel",
          "model_module_version": "1.2.0",
          "state": {
            "_model_module": "@jupyter-widgets/base",
            "_model_module_version": "1.2.0",
            "_model_name": "LayoutModel",
            "_view_count": null,
            "_view_module": "@jupyter-widgets/base",
            "_view_module_version": "1.2.0",
            "_view_name": "LayoutView",
            "align_content": null,
            "align_items": null,
            "align_self": null,
            "border": null,
            "bottom": null,
            "display": null,
            "flex": null,
            "flex_flow": null,
            "grid_area": null,
            "grid_auto_columns": null,
            "grid_auto_flow": null,
            "grid_auto_rows": null,
            "grid_column": null,
            "grid_gap": null,
            "grid_row": null,
            "grid_template_areas": null,
            "grid_template_columns": null,
            "grid_template_rows": null,
            "height": null,
            "justify_content": null,
            "justify_items": null,
            "left": null,
            "margin": null,
            "max_height": null,
            "max_width": null,
            "min_height": null,
            "min_width": null,
            "object_fit": null,
            "object_position": null,
            "order": null,
            "overflow": null,
            "overflow_x": null,
            "overflow_y": null,
            "padding": null,
            "right": null,
            "top": null,
            "visibility": null,
            "width": null
          }
        },
        "9d75090313c047418d31ee47e40c8cd5": {
          "model_module": "@jupyter-widgets/controls",
          "model_name": "DescriptionStyleModel",
          "model_module_version": "1.5.0",
          "state": {
            "_model_module": "@jupyter-widgets/controls",
            "_model_module_version": "1.5.0",
            "_model_name": "DescriptionStyleModel",
            "_view_count": null,
            "_view_module": "@jupyter-widgets/base",
            "_view_module_version": "1.2.0",
            "_view_name": "StyleView",
            "description_width": ""
          }
        },
        "839e3504b2494b00bb13253bd4bd6fec": {
          "model_module": "@jupyter-widgets/base",
          "model_name": "LayoutModel",
          "model_module_version": "1.2.0",
          "state": {
            "_model_module": "@jupyter-widgets/base",
            "_model_module_version": "1.2.0",
            "_model_name": "LayoutModel",
            "_view_count": null,
            "_view_module": "@jupyter-widgets/base",
            "_view_module_version": "1.2.0",
            "_view_name": "LayoutView",
            "align_content": null,
            "align_items": null,
            "align_self": null,
            "border": null,
            "bottom": null,
            "display": null,
            "flex": null,
            "flex_flow": null,
            "grid_area": null,
            "grid_auto_columns": null,
            "grid_auto_flow": null,
            "grid_auto_rows": null,
            "grid_column": null,
            "grid_gap": null,
            "grid_row": null,
            "grid_template_areas": null,
            "grid_template_columns": null,
            "grid_template_rows": null,
            "height": null,
            "justify_content": null,
            "justify_items": null,
            "left": null,
            "margin": null,
            "max_height": null,
            "max_width": null,
            "min_height": null,
            "min_width": null,
            "object_fit": null,
            "object_position": null,
            "order": null,
            "overflow": null,
            "overflow_x": null,
            "overflow_y": null,
            "padding": null,
            "right": null,
            "top": null,
            "visibility": null,
            "width": null
          }
        },
        "aa3867fa0c6c43de82451287e79b0886": {
          "model_module": "@jupyter-widgets/controls",
          "model_name": "ProgressStyleModel",
          "model_module_version": "1.5.0",
          "state": {
            "_model_module": "@jupyter-widgets/controls",
            "_model_module_version": "1.5.0",
            "_model_name": "ProgressStyleModel",
            "_view_count": null,
            "_view_module": "@jupyter-widgets/base",
            "_view_module_version": "1.2.0",
            "_view_name": "StyleView",
            "bar_color": null,
            "description_width": ""
          }
        },
        "dbc9067dfb634de2836734e91b09efc8": {
          "model_module": "@jupyter-widgets/base",
          "model_name": "LayoutModel",
          "model_module_version": "1.2.0",
          "state": {
            "_model_module": "@jupyter-widgets/base",
            "_model_module_version": "1.2.0",
            "_model_name": "LayoutModel",
            "_view_count": null,
            "_view_module": "@jupyter-widgets/base",
            "_view_module_version": "1.2.0",
            "_view_name": "LayoutView",
            "align_content": null,
            "align_items": null,
            "align_self": null,
            "border": null,
            "bottom": null,
            "display": null,
            "flex": null,
            "flex_flow": null,
            "grid_area": null,
            "grid_auto_columns": null,
            "grid_auto_flow": null,
            "grid_auto_rows": null,
            "grid_column": null,
            "grid_gap": null,
            "grid_row": null,
            "grid_template_areas": null,
            "grid_template_columns": null,
            "grid_template_rows": null,
            "height": null,
            "justify_content": null,
            "justify_items": null,
            "left": null,
            "margin": null,
            "max_height": null,
            "max_width": null,
            "min_height": null,
            "min_width": null,
            "object_fit": null,
            "object_position": null,
            "order": null,
            "overflow": null,
            "overflow_x": null,
            "overflow_y": null,
            "padding": null,
            "right": null,
            "top": null,
            "visibility": null,
            "width": null
          }
        },
        "046e6dbd76124c6ca5d9267529c8e68c": {
          "model_module": "@jupyter-widgets/controls",
          "model_name": "DescriptionStyleModel",
          "model_module_version": "1.5.0",
          "state": {
            "_model_module": "@jupyter-widgets/controls",
            "_model_module_version": "1.5.0",
            "_model_name": "DescriptionStyleModel",
            "_view_count": null,
            "_view_module": "@jupyter-widgets/base",
            "_view_module_version": "1.2.0",
            "_view_name": "StyleView",
            "description_width": ""
          }
        },
        "ae31bc1a3b424fd1b224cd1f6b7cbd50": {
          "model_module": "@jupyter-widgets/controls",
          "model_name": "HBoxModel",
          "model_module_version": "1.5.0",
          "state": {
            "_dom_classes": [],
            "_model_module": "@jupyter-widgets/controls",
            "_model_module_version": "1.5.0",
            "_model_name": "HBoxModel",
            "_view_count": null,
            "_view_module": "@jupyter-widgets/controls",
            "_view_module_version": "1.5.0",
            "_view_name": "HBoxView",
            "box_style": "",
            "children": [
              "IPY_MODEL_c57d260c7ee34ff4bb578a7f0b3181db",
              "IPY_MODEL_16e6d67e33f341e19ea6994dd7d4c2b8",
              "IPY_MODEL_74c415032ba5410f922e66f9ae6831fb"
            ],
            "layout": "IPY_MODEL_bec81618324943958225b6eabac1b666"
          }
        },
        "c57d260c7ee34ff4bb578a7f0b3181db": {
          "model_module": "@jupyter-widgets/controls",
          "model_name": "HTMLModel",
          "model_module_version": "1.5.0",
          "state": {
            "_dom_classes": [],
            "_model_module": "@jupyter-widgets/controls",
            "_model_module_version": "1.5.0",
            "_model_name": "HTMLModel",
            "_view_count": null,
            "_view_module": "@jupyter-widgets/controls",
            "_view_module_version": "1.5.0",
            "_view_name": "HTMLView",
            "description": "",
            "description_tooltip": null,
            "layout": "IPY_MODEL_926c652dc47d4746ad940b444feb2c92",
            "placeholder": "​",
            "style": "IPY_MODEL_22247bc2211342219a603a202d077694",
            "value": "Batches: 100%"
          }
        },
        "16e6d67e33f341e19ea6994dd7d4c2b8": {
          "model_module": "@jupyter-widgets/controls",
          "model_name": "FloatProgressModel",
          "model_module_version": "1.5.0",
          "state": {
            "_dom_classes": [],
            "_model_module": "@jupyter-widgets/controls",
            "_model_module_version": "1.5.0",
            "_model_name": "FloatProgressModel",
            "_view_count": null,
            "_view_module": "@jupyter-widgets/controls",
            "_view_module_version": "1.5.0",
            "_view_name": "ProgressView",
            "bar_style": "success",
            "description": "",
            "description_tooltip": null,
            "layout": "IPY_MODEL_d31ba53075b84e0880e6e04cb8ed8200",
            "max": 21,
            "min": 0,
            "orientation": "horizontal",
            "style": "IPY_MODEL_1273b9e4beb34bf99d28c4497f5d081f",
            "value": 21
          }
        },
        "74c415032ba5410f922e66f9ae6831fb": {
          "model_module": "@jupyter-widgets/controls",
          "model_name": "HTMLModel",
          "model_module_version": "1.5.0",
          "state": {
            "_dom_classes": [],
            "_model_module": "@jupyter-widgets/controls",
            "_model_module_version": "1.5.0",
            "_model_name": "HTMLModel",
            "_view_count": null,
            "_view_module": "@jupyter-widgets/controls",
            "_view_module_version": "1.5.0",
            "_view_name": "HTMLView",
            "description": "",
            "description_tooltip": null,
            "layout": "IPY_MODEL_b13f4ac97d644262a1be0244f46cce56",
            "placeholder": "​",
            "style": "IPY_MODEL_baa8cc11b65245628e95328dc72501b4",
            "value": " 21/21 [00:00&lt;00:00, 40.14it/s]"
          }
        },
        "bec81618324943958225b6eabac1b666": {
          "model_module": "@jupyter-widgets/base",
          "model_name": "LayoutModel",
          "model_module_version": "1.2.0",
          "state": {
            "_model_module": "@jupyter-widgets/base",
            "_model_module_version": "1.2.0",
            "_model_name": "LayoutModel",
            "_view_count": null,
            "_view_module": "@jupyter-widgets/base",
            "_view_module_version": "1.2.0",
            "_view_name": "LayoutView",
            "align_content": null,
            "align_items": null,
            "align_self": null,
            "border": null,
            "bottom": null,
            "display": null,
            "flex": null,
            "flex_flow": null,
            "grid_area": null,
            "grid_auto_columns": null,
            "grid_auto_flow": null,
            "grid_auto_rows": null,
            "grid_column": null,
            "grid_gap": null,
            "grid_row": null,
            "grid_template_areas": null,
            "grid_template_columns": null,
            "grid_template_rows": null,
            "height": null,
            "justify_content": null,
            "justify_items": null,
            "left": null,
            "margin": null,
            "max_height": null,
            "max_width": null,
            "min_height": null,
            "min_width": null,
            "object_fit": null,
            "object_position": null,
            "order": null,
            "overflow": null,
            "overflow_x": null,
            "overflow_y": null,
            "padding": null,
            "right": null,
            "top": null,
            "visibility": null,
            "width": null
          }
        },
        "926c652dc47d4746ad940b444feb2c92": {
          "model_module": "@jupyter-widgets/base",
          "model_name": "LayoutModel",
          "model_module_version": "1.2.0",
          "state": {
            "_model_module": "@jupyter-widgets/base",
            "_model_module_version": "1.2.0",
            "_model_name": "LayoutModel",
            "_view_count": null,
            "_view_module": "@jupyter-widgets/base",
            "_view_module_version": "1.2.0",
            "_view_name": "LayoutView",
            "align_content": null,
            "align_items": null,
            "align_self": null,
            "border": null,
            "bottom": null,
            "display": null,
            "flex": null,
            "flex_flow": null,
            "grid_area": null,
            "grid_auto_columns": null,
            "grid_auto_flow": null,
            "grid_auto_rows": null,
            "grid_column": null,
            "grid_gap": null,
            "grid_row": null,
            "grid_template_areas": null,
            "grid_template_columns": null,
            "grid_template_rows": null,
            "height": null,
            "justify_content": null,
            "justify_items": null,
            "left": null,
            "margin": null,
            "max_height": null,
            "max_width": null,
            "min_height": null,
            "min_width": null,
            "object_fit": null,
            "object_position": null,
            "order": null,
            "overflow": null,
            "overflow_x": null,
            "overflow_y": null,
            "padding": null,
            "right": null,
            "top": null,
            "visibility": null,
            "width": null
          }
        },
        "22247bc2211342219a603a202d077694": {
          "model_module": "@jupyter-widgets/controls",
          "model_name": "DescriptionStyleModel",
          "model_module_version": "1.5.0",
          "state": {
            "_model_module": "@jupyter-widgets/controls",
            "_model_module_version": "1.5.0",
            "_model_name": "DescriptionStyleModel",
            "_view_count": null,
            "_view_module": "@jupyter-widgets/base",
            "_view_module_version": "1.2.0",
            "_view_name": "StyleView",
            "description_width": ""
          }
        },
        "d31ba53075b84e0880e6e04cb8ed8200": {
          "model_module": "@jupyter-widgets/base",
          "model_name": "LayoutModel",
          "model_module_version": "1.2.0",
          "state": {
            "_model_module": "@jupyter-widgets/base",
            "_model_module_version": "1.2.0",
            "_model_name": "LayoutModel",
            "_view_count": null,
            "_view_module": "@jupyter-widgets/base",
            "_view_module_version": "1.2.0",
            "_view_name": "LayoutView",
            "align_content": null,
            "align_items": null,
            "align_self": null,
            "border": null,
            "bottom": null,
            "display": null,
            "flex": null,
            "flex_flow": null,
            "grid_area": null,
            "grid_auto_columns": null,
            "grid_auto_flow": null,
            "grid_auto_rows": null,
            "grid_column": null,
            "grid_gap": null,
            "grid_row": null,
            "grid_template_areas": null,
            "grid_template_columns": null,
            "grid_template_rows": null,
            "height": null,
            "justify_content": null,
            "justify_items": null,
            "left": null,
            "margin": null,
            "max_height": null,
            "max_width": null,
            "min_height": null,
            "min_width": null,
            "object_fit": null,
            "object_position": null,
            "order": null,
            "overflow": null,
            "overflow_x": null,
            "overflow_y": null,
            "padding": null,
            "right": null,
            "top": null,
            "visibility": null,
            "width": null
          }
        },
        "1273b9e4beb34bf99d28c4497f5d081f": {
          "model_module": "@jupyter-widgets/controls",
          "model_name": "ProgressStyleModel",
          "model_module_version": "1.5.0",
          "state": {
            "_model_module": "@jupyter-widgets/controls",
            "_model_module_version": "1.5.0",
            "_model_name": "ProgressStyleModel",
            "_view_count": null,
            "_view_module": "@jupyter-widgets/base",
            "_view_module_version": "1.2.0",
            "_view_name": "StyleView",
            "bar_color": null,
            "description_width": ""
          }
        },
        "b13f4ac97d644262a1be0244f46cce56": {
          "model_module": "@jupyter-widgets/base",
          "model_name": "LayoutModel",
          "model_module_version": "1.2.0",
          "state": {
            "_model_module": "@jupyter-widgets/base",
            "_model_module_version": "1.2.0",
            "_model_name": "LayoutModel",
            "_view_count": null,
            "_view_module": "@jupyter-widgets/base",
            "_view_module_version": "1.2.0",
            "_view_name": "LayoutView",
            "align_content": null,
            "align_items": null,
            "align_self": null,
            "border": null,
            "bottom": null,
            "display": null,
            "flex": null,
            "flex_flow": null,
            "grid_area": null,
            "grid_auto_columns": null,
            "grid_auto_flow": null,
            "grid_auto_rows": null,
            "grid_column": null,
            "grid_gap": null,
            "grid_row": null,
            "grid_template_areas": null,
            "grid_template_columns": null,
            "grid_template_rows": null,
            "height": null,
            "justify_content": null,
            "justify_items": null,
            "left": null,
            "margin": null,
            "max_height": null,
            "max_width": null,
            "min_height": null,
            "min_width": null,
            "object_fit": null,
            "object_position": null,
            "order": null,
            "overflow": null,
            "overflow_x": null,
            "overflow_y": null,
            "padding": null,
            "right": null,
            "top": null,
            "visibility": null,
            "width": null
          }
        },
        "baa8cc11b65245628e95328dc72501b4": {
          "model_module": "@jupyter-widgets/controls",
          "model_name": "DescriptionStyleModel",
          "model_module_version": "1.5.0",
          "state": {
            "_model_module": "@jupyter-widgets/controls",
            "_model_module_version": "1.5.0",
            "_model_name": "DescriptionStyleModel",
            "_view_count": null,
            "_view_module": "@jupyter-widgets/base",
            "_view_module_version": "1.2.0",
            "_view_name": "StyleView",
            "description_width": ""
          }
        },
        "414576952d0f47f692ba0d8d1add388f": {
          "model_module": "@jupyter-widgets/controls",
          "model_name": "HBoxModel",
          "model_module_version": "1.5.0",
          "state": {
            "_dom_classes": [],
            "_model_module": "@jupyter-widgets/controls",
            "_model_module_version": "1.5.0",
            "_model_name": "HBoxModel",
            "_view_count": null,
            "_view_module": "@jupyter-widgets/controls",
            "_view_module_version": "1.5.0",
            "_view_name": "HBoxView",
            "box_style": "",
            "children": [
              "IPY_MODEL_cd459569cd06481ba9fc694d48fe513a",
              "IPY_MODEL_84cf817b6a584c7e9cb3fadf89b2bd70",
              "IPY_MODEL_d258bf89056a4592a1010c689d038ed8"
            ],
            "layout": "IPY_MODEL_c43736f51e5c4e5fac325fac790afbda"
          }
        },
        "cd459569cd06481ba9fc694d48fe513a": {
          "model_module": "@jupyter-widgets/controls",
          "model_name": "HTMLModel",
          "model_module_version": "1.5.0",
          "state": {
            "_dom_classes": [],
            "_model_module": "@jupyter-widgets/controls",
            "_model_module_version": "1.5.0",
            "_model_name": "HTMLModel",
            "_view_count": null,
            "_view_module": "@jupyter-widgets/controls",
            "_view_module_version": "1.5.0",
            "_view_name": "HTMLView",
            "description": "",
            "description_tooltip": null,
            "layout": "IPY_MODEL_c1418c80e6054b57bd24fd795f9ccbe4",
            "placeholder": "​",
            "style": "IPY_MODEL_c7cf5640fd7e4fa584cbcaed13b1389e",
            "value": "Batches: 100%"
          }
        },
        "84cf817b6a584c7e9cb3fadf89b2bd70": {
          "model_module": "@jupyter-widgets/controls",
          "model_name": "FloatProgressModel",
          "model_module_version": "1.5.0",
          "state": {
            "_dom_classes": [],
            "_model_module": "@jupyter-widgets/controls",
            "_model_module_version": "1.5.0",
            "_model_name": "FloatProgressModel",
            "_view_count": null,
            "_view_module": "@jupyter-widgets/controls",
            "_view_module_version": "1.5.0",
            "_view_name": "ProgressView",
            "bar_style": "success",
            "description": "",
            "description_tooltip": null,
            "layout": "IPY_MODEL_6ec300c1356b42b3a602f80a2d14a5c4",
            "max": 228,
            "min": 0,
            "orientation": "horizontal",
            "style": "IPY_MODEL_d526ec36cea543b6a43e635bfe68690c",
            "value": 228
          }
        },
        "d258bf89056a4592a1010c689d038ed8": {
          "model_module": "@jupyter-widgets/controls",
          "model_name": "HTMLModel",
          "model_module_version": "1.5.0",
          "state": {
            "_dom_classes": [],
            "_model_module": "@jupyter-widgets/controls",
            "_model_module_version": "1.5.0",
            "_model_name": "HTMLModel",
            "_view_count": null,
            "_view_module": "@jupyter-widgets/controls",
            "_view_module_version": "1.5.0",
            "_view_name": "HTMLView",
            "description": "",
            "description_tooltip": null,
            "layout": "IPY_MODEL_9937fa70dc8445369a4bc81e2d023f67",
            "placeholder": "​",
            "style": "IPY_MODEL_4089164e334b4f529d2a6624db75e4ae",
            "value": " 228/228 [00:47&lt;00:00,  9.21it/s]"
          }
        },
        "c43736f51e5c4e5fac325fac790afbda": {
          "model_module": "@jupyter-widgets/base",
          "model_name": "LayoutModel",
          "model_module_version": "1.2.0",
          "state": {
            "_model_module": "@jupyter-widgets/base",
            "_model_module_version": "1.2.0",
            "_model_name": "LayoutModel",
            "_view_count": null,
            "_view_module": "@jupyter-widgets/base",
            "_view_module_version": "1.2.0",
            "_view_name": "LayoutView",
            "align_content": null,
            "align_items": null,
            "align_self": null,
            "border": null,
            "bottom": null,
            "display": null,
            "flex": null,
            "flex_flow": null,
            "grid_area": null,
            "grid_auto_columns": null,
            "grid_auto_flow": null,
            "grid_auto_rows": null,
            "grid_column": null,
            "grid_gap": null,
            "grid_row": null,
            "grid_template_areas": null,
            "grid_template_columns": null,
            "grid_template_rows": null,
            "height": null,
            "justify_content": null,
            "justify_items": null,
            "left": null,
            "margin": null,
            "max_height": null,
            "max_width": null,
            "min_height": null,
            "min_width": null,
            "object_fit": null,
            "object_position": null,
            "order": null,
            "overflow": null,
            "overflow_x": null,
            "overflow_y": null,
            "padding": null,
            "right": null,
            "top": null,
            "visibility": null,
            "width": null
          }
        },
        "c1418c80e6054b57bd24fd795f9ccbe4": {
          "model_module": "@jupyter-widgets/base",
          "model_name": "LayoutModel",
          "model_module_version": "1.2.0",
          "state": {
            "_model_module": "@jupyter-widgets/base",
            "_model_module_version": "1.2.0",
            "_model_name": "LayoutModel",
            "_view_count": null,
            "_view_module": "@jupyter-widgets/base",
            "_view_module_version": "1.2.0",
            "_view_name": "LayoutView",
            "align_content": null,
            "align_items": null,
            "align_self": null,
            "border": null,
            "bottom": null,
            "display": null,
            "flex": null,
            "flex_flow": null,
            "grid_area": null,
            "grid_auto_columns": null,
            "grid_auto_flow": null,
            "grid_auto_rows": null,
            "grid_column": null,
            "grid_gap": null,
            "grid_row": null,
            "grid_template_areas": null,
            "grid_template_columns": null,
            "grid_template_rows": null,
            "height": null,
            "justify_content": null,
            "justify_items": null,
            "left": null,
            "margin": null,
            "max_height": null,
            "max_width": null,
            "min_height": null,
            "min_width": null,
            "object_fit": null,
            "object_position": null,
            "order": null,
            "overflow": null,
            "overflow_x": null,
            "overflow_y": null,
            "padding": null,
            "right": null,
            "top": null,
            "visibility": null,
            "width": null
          }
        },
        "c7cf5640fd7e4fa584cbcaed13b1389e": {
          "model_module": "@jupyter-widgets/controls",
          "model_name": "DescriptionStyleModel",
          "model_module_version": "1.5.0",
          "state": {
            "_model_module": "@jupyter-widgets/controls",
            "_model_module_version": "1.5.0",
            "_model_name": "DescriptionStyleModel",
            "_view_count": null,
            "_view_module": "@jupyter-widgets/base",
            "_view_module_version": "1.2.0",
            "_view_name": "StyleView",
            "description_width": ""
          }
        },
        "6ec300c1356b42b3a602f80a2d14a5c4": {
          "model_module": "@jupyter-widgets/base",
          "model_name": "LayoutModel",
          "model_module_version": "1.2.0",
          "state": {
            "_model_module": "@jupyter-widgets/base",
            "_model_module_version": "1.2.0",
            "_model_name": "LayoutModel",
            "_view_count": null,
            "_view_module": "@jupyter-widgets/base",
            "_view_module_version": "1.2.0",
            "_view_name": "LayoutView",
            "align_content": null,
            "align_items": null,
            "align_self": null,
            "border": null,
            "bottom": null,
            "display": null,
            "flex": null,
            "flex_flow": null,
            "grid_area": null,
            "grid_auto_columns": null,
            "grid_auto_flow": null,
            "grid_auto_rows": null,
            "grid_column": null,
            "grid_gap": null,
            "grid_row": null,
            "grid_template_areas": null,
            "grid_template_columns": null,
            "grid_template_rows": null,
            "height": null,
            "justify_content": null,
            "justify_items": null,
            "left": null,
            "margin": null,
            "max_height": null,
            "max_width": null,
            "min_height": null,
            "min_width": null,
            "object_fit": null,
            "object_position": null,
            "order": null,
            "overflow": null,
            "overflow_x": null,
            "overflow_y": null,
            "padding": null,
            "right": null,
            "top": null,
            "visibility": null,
            "width": null
          }
        },
        "d526ec36cea543b6a43e635bfe68690c": {
          "model_module": "@jupyter-widgets/controls",
          "model_name": "ProgressStyleModel",
          "model_module_version": "1.5.0",
          "state": {
            "_model_module": "@jupyter-widgets/controls",
            "_model_module_version": "1.5.0",
            "_model_name": "ProgressStyleModel",
            "_view_count": null,
            "_view_module": "@jupyter-widgets/base",
            "_view_module_version": "1.2.0",
            "_view_name": "StyleView",
            "bar_color": null,
            "description_width": ""
          }
        },
        "9937fa70dc8445369a4bc81e2d023f67": {
          "model_module": "@jupyter-widgets/base",
          "model_name": "LayoutModel",
          "model_module_version": "1.2.0",
          "state": {
            "_model_module": "@jupyter-widgets/base",
            "_model_module_version": "1.2.0",
            "_model_name": "LayoutModel",
            "_view_count": null,
            "_view_module": "@jupyter-widgets/base",
            "_view_module_version": "1.2.0",
            "_view_name": "LayoutView",
            "align_content": null,
            "align_items": null,
            "align_self": null,
            "border": null,
            "bottom": null,
            "display": null,
            "flex": null,
            "flex_flow": null,
            "grid_area": null,
            "grid_auto_columns": null,
            "grid_auto_flow": null,
            "grid_auto_rows": null,
            "grid_column": null,
            "grid_gap": null,
            "grid_row": null,
            "grid_template_areas": null,
            "grid_template_columns": null,
            "grid_template_rows": null,
            "height": null,
            "justify_content": null,
            "justify_items": null,
            "left": null,
            "margin": null,
            "max_height": null,
            "max_width": null,
            "min_height": null,
            "min_width": null,
            "object_fit": null,
            "object_position": null,
            "order": null,
            "overflow": null,
            "overflow_x": null,
            "overflow_y": null,
            "padding": null,
            "right": null,
            "top": null,
            "visibility": null,
            "width": null
          }
        },
        "4089164e334b4f529d2a6624db75e4ae": {
          "model_module": "@jupyter-widgets/controls",
          "model_name": "DescriptionStyleModel",
          "model_module_version": "1.5.0",
          "state": {
            "_model_module": "@jupyter-widgets/controls",
            "_model_module_version": "1.5.0",
            "_model_name": "DescriptionStyleModel",
            "_view_count": null,
            "_view_module": "@jupyter-widgets/base",
            "_view_module_version": "1.2.0",
            "_view_name": "StyleView",
            "description_width": ""
          }
        }
      }
    },
    "accelerator": "GPU",
    "gpuClass": "standard"
  },
  "cells": [
    {
      "cell_type": "markdown",
      "metadata": {
        "id": "view-in-github",
        "colab_type": "text"
      },
      "source": [
        "<a href=\"https://colab.research.google.com/github/shuvanyu/Document-Retrieval-and-Ranking/blob/main/condenser_nfcorpus.ipynb\" target=\"_parent\"><img src=\"https://colab.research.google.com/assets/colab-badge.svg\" alt=\"Open In Colab\"/></a>"
      ]
    },
    {
      "cell_type": "markdown",
      "source": [
        "# Prerequisites"
      ],
      "metadata": {
        "id": "Yu34CR5hk0KS"
      }
    },
    {
      "cell_type": "code",
      "execution_count": 18,
      "metadata": {
        "id": "lFBTtaBpg-u4"
      },
      "outputs": [],
      "source": [
        "!pip install sentence-transformers > /dev/null\n",
        "!pip install beir > /dev/null\n",
        "!pip install tensorflow_text > /dev/null"
      ]
    },
    {
      "cell_type": "markdown",
      "source": [
        "# Testing beir"
      ],
      "metadata": {
        "id": "JaUoiciZmO2D"
      }
    },
    {
      "cell_type": "code",
      "source": [
        "from beir import util, LoggingHandler\n",
        "from beir.retrieval import models\n",
        "from beir.datasets.data_loader import GenericDataLoader\n",
        "from beir.retrieval.evaluation import EvaluateRetrieval\n",
        "from beir.retrieval.search.dense import DenseRetrievalExactSearch as DRES\n",
        "\n",
        "import logging\n",
        "import pathlib, os\n",
        "\n",
        "#### Just some code to print debug information to stdout\n",
        "logging.basicConfig(format='%(asctime)s - %(message)s',\n",
        "                    datefmt='%Y-%m-%d %H:%M:%S',\n",
        "                    level=logging.INFO,\n",
        "                    handlers=[LoggingHandler()])\n",
        "#### /print debug information to stdout\n",
        "\n",
        "#### Download scifact.zip dataset and unzip the dataset\n",
        "dataset = \"nfcorpus\"\n",
        "url = \"https://public.ukp.informatik.tu-darmstadt.de/thakur/BEIR/datasets/{}.zip\".format(dataset)\n",
        "out_dir = os.path.join('drive', 'MyDrive',  \"nlp_datashare\")"
      ],
      "metadata": {
        "id": "_fIXiccNk6PU"
      },
      "execution_count": 19,
      "outputs": []
    },
    {
      "cell_type": "code",
      "source": [
        "\n",
        "data_path = util.download_and_unzip(url, out_dir)\n",
        "corpus, queries, qrels = GenericDataLoader(data_path).load(split=\"test\") # or split = \"train\" or \"dev\"\n"
      ],
      "metadata": {
        "colab": {
          "base_uri": "https://localhost:8080/",
          "height": 49,
          "referenced_widgets": [
            "d41d670972424b93a994e544ad0126f2",
            "a7de7cff787b4b09a1af9814e480006f",
            "cf54c40ea3e440a0ab0dc042a474983c",
            "a3be4d72af1840cea0a0b59411225aa9",
            "f9b6d6cbb8c847e7a361e7d74b326558",
            "4353ed648451451b99077291658e66fb",
            "9d75090313c047418d31ee47e40c8cd5",
            "839e3504b2494b00bb13253bd4bd6fec",
            "aa3867fa0c6c43de82451287e79b0886",
            "dbc9067dfb634de2836734e91b09efc8",
            "046e6dbd76124c6ca5d9267529c8e68c"
          ]
        },
        "id": "2Aq22lsp_jUt",
        "outputId": "5530cff0-b81b-4069-eed1-f8a04a3109fb"
      },
      "execution_count": 20,
      "outputs": [
        {
          "output_type": "display_data",
          "data": {
            "text/plain": [
              "  0%|          | 0/3633 [00:00<?, ?it/s]"
            ],
            "application/vnd.jupyter.widget-view+json": {
              "version_major": 2,
              "version_minor": 0,
              "model_id": "d41d670972424b93a994e544ad0126f2"
            }
          },
          "metadata": {}
        }
      ]
    },
    {
      "cell_type": "code",
      "source": [
        "sorted(list(corpus.keys()))[3]"
      ],
      "metadata": {
        "colab": {
          "base_uri": "https://localhost:8080/",
          "height": 36
        },
        "id": "bDmjvOLz7yK9",
        "outputId": "be0a2a2c-119f-4c95-c14a-1b81a2ebac83"
      },
      "execution_count": 21,
      "outputs": [
        {
          "output_type": "execute_result",
          "data": {
            "text/plain": [
              "'MED-1003'"
            ],
            "application/vnd.google.colaboratory.intrinsic+json": {
              "type": "string"
            }
          },
          "metadata": {},
          "execution_count": 21
        }
      ]
    },
    {
      "cell_type": "markdown",
      "source": [
        "# Co-condensor"
      ],
      "metadata": {
        "id": "XDjURS7z2EYX"
      }
    },
    {
      "cell_type": "code",
      "source": [
        "len(corpus)"
      ],
      "metadata": {
        "colab": {
          "base_uri": "https://localhost:8080/"
        },
        "id": "BaNknLw61rRb",
        "outputId": "6e1fdf2b-168a-4693-e2c9-d5986c9ca45a"
      },
      "execution_count": 22,
      "outputs": [
        {
          "output_type": "execute_result",
          "data": {
            "text/plain": [
              "3633"
            ]
          },
          "metadata": {},
          "execution_count": 22
        }
      ]
    },
    {
      "cell_type": "code",
      "source": [
        "model_path = \"sentence-transformers/msmarco-bert-co-condensor\"\n",
        "model = models.SentenceBERT(model_path=model_path)\n",
        "normalize = True\n"
      ],
      "metadata": {
        "id": "4zfYMaRC2e8X"
      },
      "execution_count": 23,
      "outputs": []
    },
    {
      "cell_type": "code",
      "source": [
        "model = DRES(model, batch_size=16)\n",
        "retriever = EvaluateRetrieval(model, score_function=\"cos_sim\") # or \"cos_sim\" for cosine similarity\n",
        "results = retriever.retrieve(corpus, queries)"
      ],
      "metadata": {
        "colab": {
          "base_uri": "https://localhost:8080/",
          "height": 81,
          "referenced_widgets": [
            "ae31bc1a3b424fd1b224cd1f6b7cbd50",
            "c57d260c7ee34ff4bb578a7f0b3181db",
            "16e6d67e33f341e19ea6994dd7d4c2b8",
            "74c415032ba5410f922e66f9ae6831fb",
            "bec81618324943958225b6eabac1b666",
            "926c652dc47d4746ad940b444feb2c92",
            "22247bc2211342219a603a202d077694",
            "d31ba53075b84e0880e6e04cb8ed8200",
            "1273b9e4beb34bf99d28c4497f5d081f",
            "b13f4ac97d644262a1be0244f46cce56",
            "baa8cc11b65245628e95328dc72501b4",
            "414576952d0f47f692ba0d8d1add388f",
            "cd459569cd06481ba9fc694d48fe513a",
            "84cf817b6a584c7e9cb3fadf89b2bd70",
            "d258bf89056a4592a1010c689d038ed8",
            "c43736f51e5c4e5fac325fac790afbda",
            "c1418c80e6054b57bd24fd795f9ccbe4",
            "c7cf5640fd7e4fa584cbcaed13b1389e",
            "6ec300c1356b42b3a602f80a2d14a5c4",
            "d526ec36cea543b6a43e635bfe68690c",
            "9937fa70dc8445369a4bc81e2d023f67",
            "4089164e334b4f529d2a6624db75e4ae"
          ]
        },
        "id": "C1knWU-W3WFv",
        "outputId": "e936e2f6-5dc9-4097-f87a-92a1cbdfd837"
      },
      "execution_count": 24,
      "outputs": [
        {
          "output_type": "display_data",
          "data": {
            "text/plain": [
              "Batches:   0%|          | 0/21 [00:00<?, ?it/s]"
            ],
            "application/vnd.jupyter.widget-view+json": {
              "version_major": 2,
              "version_minor": 0,
              "model_id": "ae31bc1a3b424fd1b224cd1f6b7cbd50"
            }
          },
          "metadata": {}
        },
        {
          "output_type": "display_data",
          "data": {
            "text/plain": [
              "Batches:   0%|          | 0/228 [00:00<?, ?it/s]"
            ],
            "application/vnd.jupyter.widget-view+json": {
              "version_major": 2,
              "version_minor": 0,
              "model_id": "414576952d0f47f692ba0d8d1add388f"
            }
          },
          "metadata": {}
        }
      ]
    },
    {
      "cell_type": "code",
      "source": [
        "from collections import defaultdict\n",
        "import pandas as pd\n",
        "\n",
        "table = defaultdict(list)\n",
        "\n",
        "for key in results.keys():\n",
        "    table['query'].append(key)\n",
        "    top_5 = sorted(results[key].items(), key=lambda x: x[1], reverse=True)[:5]\n",
        "    table['word-count'].append(len(queries[key].split()))\n",
        "    table['length-of-string'].append(len(queries[key]))\n",
        "    table['top-1'].append(top_5[0][1])\n",
        "    table['top-2'].append(top_5[1][1])\n",
        "    table['top-3'].append(top_5[2][1])\n",
        "    table['top-4'].append(top_5[3][1])\n",
        "    table['top-5'].append(top_5[4][1])\n",
        "\n",
        "df = pd.DataFrame(table)\n",
        "df.to_csv('scores.csv', index=False)\n",
        "df"
      ],
      "metadata": {
        "id": "e6_sJHufThru",
        "outputId": "bb6fb3c2-64f4-4305-c9b4-bba4447f8e0e",
        "colab": {
          "base_uri": "https://localhost:8080/",
          "height": 423
        }
      },
      "execution_count": 25,
      "outputs": [
        {
          "output_type": "execute_result",
          "data": {
            "text/plain": [
              "          query  word-count  length-of-string     top-1     top-2     top-3  \\\n",
              "0       PLAIN-2           7                48  0.927542  0.916851  0.915573   \n",
              "1      PLAIN-12           5                35  0.892237  0.889848  0.876666   \n",
              "2      PLAIN-23           9                56  0.907913  0.903687  0.903596   \n",
              "3      PLAIN-33           5                41  0.937557  0.926978  0.916476   \n",
              "4      PLAIN-44           6                37  0.895952  0.894301  0.891559   \n",
              "..          ...         ...               ...       ...       ...       ...   \n",
              "318  PLAIN-3432           3                28  0.889595  0.884487  0.883014   \n",
              "319  PLAIN-3442           3                25  0.899829  0.898578  0.895365   \n",
              "320  PLAIN-3452           3                24  0.911192  0.910800  0.901904   \n",
              "321  PLAIN-3462           5                29  0.917739  0.912018  0.901222   \n",
              "322  PLAIN-3472           9                53  0.884122  0.882942  0.880216   \n",
              "\n",
              "        top-4     top-5  \n",
              "0    0.915447  0.907110  \n",
              "1    0.876179  0.875974  \n",
              "2    0.901673  0.901383  \n",
              "3    0.905681  0.900663  \n",
              "4    0.887764  0.886433  \n",
              "..        ...       ...  \n",
              "318  0.882512  0.881440  \n",
              "319  0.894648  0.889610  \n",
              "320  0.898044  0.895320  \n",
              "321  0.899708  0.899583  \n",
              "322  0.877565  0.875942  \n",
              "\n",
              "[323 rows x 8 columns]"
            ],
            "text/html": [
              "\n",
              "  <div id=\"df-5ec9f40f-cbd5-4fd1-813a-614065551595\">\n",
              "    <div class=\"colab-df-container\">\n",
              "      <div>\n",
              "<style scoped>\n",
              "    .dataframe tbody tr th:only-of-type {\n",
              "        vertical-align: middle;\n",
              "    }\n",
              "\n",
              "    .dataframe tbody tr th {\n",
              "        vertical-align: top;\n",
              "    }\n",
              "\n",
              "    .dataframe thead th {\n",
              "        text-align: right;\n",
              "    }\n",
              "</style>\n",
              "<table border=\"1\" class=\"dataframe\">\n",
              "  <thead>\n",
              "    <tr style=\"text-align: right;\">\n",
              "      <th></th>\n",
              "      <th>query</th>\n",
              "      <th>word-count</th>\n",
              "      <th>length-of-string</th>\n",
              "      <th>top-1</th>\n",
              "      <th>top-2</th>\n",
              "      <th>top-3</th>\n",
              "      <th>top-4</th>\n",
              "      <th>top-5</th>\n",
              "    </tr>\n",
              "  </thead>\n",
              "  <tbody>\n",
              "    <tr>\n",
              "      <th>0</th>\n",
              "      <td>PLAIN-2</td>\n",
              "      <td>7</td>\n",
              "      <td>48</td>\n",
              "      <td>0.927542</td>\n",
              "      <td>0.916851</td>\n",
              "      <td>0.915573</td>\n",
              "      <td>0.915447</td>\n",
              "      <td>0.907110</td>\n",
              "    </tr>\n",
              "    <tr>\n",
              "      <th>1</th>\n",
              "      <td>PLAIN-12</td>\n",
              "      <td>5</td>\n",
              "      <td>35</td>\n",
              "      <td>0.892237</td>\n",
              "      <td>0.889848</td>\n",
              "      <td>0.876666</td>\n",
              "      <td>0.876179</td>\n",
              "      <td>0.875974</td>\n",
              "    </tr>\n",
              "    <tr>\n",
              "      <th>2</th>\n",
              "      <td>PLAIN-23</td>\n",
              "      <td>9</td>\n",
              "      <td>56</td>\n",
              "      <td>0.907913</td>\n",
              "      <td>0.903687</td>\n",
              "      <td>0.903596</td>\n",
              "      <td>0.901673</td>\n",
              "      <td>0.901383</td>\n",
              "    </tr>\n",
              "    <tr>\n",
              "      <th>3</th>\n",
              "      <td>PLAIN-33</td>\n",
              "      <td>5</td>\n",
              "      <td>41</td>\n",
              "      <td>0.937557</td>\n",
              "      <td>0.926978</td>\n",
              "      <td>0.916476</td>\n",
              "      <td>0.905681</td>\n",
              "      <td>0.900663</td>\n",
              "    </tr>\n",
              "    <tr>\n",
              "      <th>4</th>\n",
              "      <td>PLAIN-44</td>\n",
              "      <td>6</td>\n",
              "      <td>37</td>\n",
              "      <td>0.895952</td>\n",
              "      <td>0.894301</td>\n",
              "      <td>0.891559</td>\n",
              "      <td>0.887764</td>\n",
              "      <td>0.886433</td>\n",
              "    </tr>\n",
              "    <tr>\n",
              "      <th>...</th>\n",
              "      <td>...</td>\n",
              "      <td>...</td>\n",
              "      <td>...</td>\n",
              "      <td>...</td>\n",
              "      <td>...</td>\n",
              "      <td>...</td>\n",
              "      <td>...</td>\n",
              "      <td>...</td>\n",
              "    </tr>\n",
              "    <tr>\n",
              "      <th>318</th>\n",
              "      <td>PLAIN-3432</td>\n",
              "      <td>3</td>\n",
              "      <td>28</td>\n",
              "      <td>0.889595</td>\n",
              "      <td>0.884487</td>\n",
              "      <td>0.883014</td>\n",
              "      <td>0.882512</td>\n",
              "      <td>0.881440</td>\n",
              "    </tr>\n",
              "    <tr>\n",
              "      <th>319</th>\n",
              "      <td>PLAIN-3442</td>\n",
              "      <td>3</td>\n",
              "      <td>25</td>\n",
              "      <td>0.899829</td>\n",
              "      <td>0.898578</td>\n",
              "      <td>0.895365</td>\n",
              "      <td>0.894648</td>\n",
              "      <td>0.889610</td>\n",
              "    </tr>\n",
              "    <tr>\n",
              "      <th>320</th>\n",
              "      <td>PLAIN-3452</td>\n",
              "      <td>3</td>\n",
              "      <td>24</td>\n",
              "      <td>0.911192</td>\n",
              "      <td>0.910800</td>\n",
              "      <td>0.901904</td>\n",
              "      <td>0.898044</td>\n",
              "      <td>0.895320</td>\n",
              "    </tr>\n",
              "    <tr>\n",
              "      <th>321</th>\n",
              "      <td>PLAIN-3462</td>\n",
              "      <td>5</td>\n",
              "      <td>29</td>\n",
              "      <td>0.917739</td>\n",
              "      <td>0.912018</td>\n",
              "      <td>0.901222</td>\n",
              "      <td>0.899708</td>\n",
              "      <td>0.899583</td>\n",
              "    </tr>\n",
              "    <tr>\n",
              "      <th>322</th>\n",
              "      <td>PLAIN-3472</td>\n",
              "      <td>9</td>\n",
              "      <td>53</td>\n",
              "      <td>0.884122</td>\n",
              "      <td>0.882942</td>\n",
              "      <td>0.880216</td>\n",
              "      <td>0.877565</td>\n",
              "      <td>0.875942</td>\n",
              "    </tr>\n",
              "  </tbody>\n",
              "</table>\n",
              "<p>323 rows × 8 columns</p>\n",
              "</div>\n",
              "      <button class=\"colab-df-convert\" onclick=\"convertToInteractive('df-5ec9f40f-cbd5-4fd1-813a-614065551595')\"\n",
              "              title=\"Convert this dataframe to an interactive table.\"\n",
              "              style=\"display:none;\">\n",
              "        \n",
              "  <svg xmlns=\"http://www.w3.org/2000/svg\" height=\"24px\"viewBox=\"0 0 24 24\"\n",
              "       width=\"24px\">\n",
              "    <path d=\"M0 0h24v24H0V0z\" fill=\"none\"/>\n",
              "    <path d=\"M18.56 5.44l.94 2.06.94-2.06 2.06-.94-2.06-.94-.94-2.06-.94 2.06-2.06.94zm-11 1L8.5 8.5l.94-2.06 2.06-.94-2.06-.94L8.5 2.5l-.94 2.06-2.06.94zm10 10l.94 2.06.94-2.06 2.06-.94-2.06-.94-.94-2.06-.94 2.06-2.06.94z\"/><path d=\"M17.41 7.96l-1.37-1.37c-.4-.4-.92-.59-1.43-.59-.52 0-1.04.2-1.43.59L10.3 9.45l-7.72 7.72c-.78.78-.78 2.05 0 2.83L4 21.41c.39.39.9.59 1.41.59.51 0 1.02-.2 1.41-.59l7.78-7.78 2.81-2.81c.8-.78.8-2.07 0-2.86zM5.41 20L4 18.59l7.72-7.72 1.47 1.35L5.41 20z\"/>\n",
              "  </svg>\n",
              "      </button>\n",
              "      \n",
              "  <style>\n",
              "    .colab-df-container {\n",
              "      display:flex;\n",
              "      flex-wrap:wrap;\n",
              "      gap: 12px;\n",
              "    }\n",
              "\n",
              "    .colab-df-convert {\n",
              "      background-color: #E8F0FE;\n",
              "      border: none;\n",
              "      border-radius: 50%;\n",
              "      cursor: pointer;\n",
              "      display: none;\n",
              "      fill: #1967D2;\n",
              "      height: 32px;\n",
              "      padding: 0 0 0 0;\n",
              "      width: 32px;\n",
              "    }\n",
              "\n",
              "    .colab-df-convert:hover {\n",
              "      background-color: #E2EBFA;\n",
              "      box-shadow: 0px 1px 2px rgba(60, 64, 67, 0.3), 0px 1px 3px 1px rgba(60, 64, 67, 0.15);\n",
              "      fill: #174EA6;\n",
              "    }\n",
              "\n",
              "    [theme=dark] .colab-df-convert {\n",
              "      background-color: #3B4455;\n",
              "      fill: #D2E3FC;\n",
              "    }\n",
              "\n",
              "    [theme=dark] .colab-df-convert:hover {\n",
              "      background-color: #434B5C;\n",
              "      box-shadow: 0px 1px 3px 1px rgba(0, 0, 0, 0.15);\n",
              "      filter: drop-shadow(0px 1px 2px rgba(0, 0, 0, 0.3));\n",
              "      fill: #FFFFFF;\n",
              "    }\n",
              "  </style>\n",
              "\n",
              "      <script>\n",
              "        const buttonEl =\n",
              "          document.querySelector('#df-5ec9f40f-cbd5-4fd1-813a-614065551595 button.colab-df-convert');\n",
              "        buttonEl.style.display =\n",
              "          google.colab.kernel.accessAllowed ? 'block' : 'none';\n",
              "\n",
              "        async function convertToInteractive(key) {\n",
              "          const element = document.querySelector('#df-5ec9f40f-cbd5-4fd1-813a-614065551595');\n",
              "          const dataTable =\n",
              "            await google.colab.kernel.invokeFunction('convertToInteractive',\n",
              "                                                     [key], {});\n",
              "          if (!dataTable) return;\n",
              "\n",
              "          const docLinkHtml = 'Like what you see? Visit the ' +\n",
              "            '<a target=\"_blank\" href=https://colab.research.google.com/notebooks/data_table.ipynb>data table notebook</a>'\n",
              "            + ' to learn more about interactive tables.';\n",
              "          element.innerHTML = '';\n",
              "          dataTable['output_type'] = 'display_data';\n",
              "          await google.colab.output.renderOutput(dataTable, element);\n",
              "          const docLink = document.createElement('div');\n",
              "          docLink.innerHTML = docLinkHtml;\n",
              "          element.appendChild(docLink);\n",
              "        }\n",
              "      </script>\n",
              "    </div>\n",
              "  </div>\n",
              "  "
            ]
          },
          "metadata": {},
          "execution_count": 25
        }
      ]
    },
    {
      "cell_type": "code",
      "source": [
        "ndcg, _map, recall, precision = retriever.evaluate(qrels, results, retriever.k_values)"
      ],
      "metadata": {
        "id": "LRb_rrpc_X2I"
      },
      "execution_count": 26,
      "outputs": []
    },
    {
      "cell_type": "code",
      "source": [
        "ndcg"
      ],
      "metadata": {
        "colab": {
          "base_uri": "https://localhost:8080/"
        },
        "id": "3hHNeWjzAN4U",
        "outputId": "ab0cc452-f0bd-47db-d868-b5f78483a0a0"
      },
      "execution_count": 27,
      "outputs": [
        {
          "output_type": "execute_result",
          "data": {
            "text/plain": [
              "{'NDCG@1': 0.31424,\n",
              " 'NDCG@3': 0.26734,\n",
              " 'NDCG@5': 0.24832,\n",
              " 'NDCG@10': 0.22291,\n",
              " 'NDCG@100': 0.21449,\n",
              " 'NDCG@1000': 0.30686}"
            ]
          },
          "metadata": {},
          "execution_count": 27
        }
      ]
    },
    {
      "cell_type": "code",
      "source": [
        "_map"
      ],
      "metadata": {
        "colab": {
          "base_uri": "https://localhost:8080/"
        },
        "id": "ngojYqkCAPUk",
        "outputId": "6f9c1dab-d7bc-46ad-dc4c-09591a5960e9"
      },
      "execution_count": 28,
      "outputs": [
        {
          "output_type": "execute_result",
          "data": {
            "text/plain": [
              "{'MAP@1': 0.0326,\n",
              " 'MAP@3': 0.05217,\n",
              " 'MAP@5': 0.06111,\n",
              " 'MAP@10': 0.07113,\n",
              " 'MAP@100': 0.08904,\n",
              " 'MAP@1000': 0.09989}"
            ]
          },
          "metadata": {},
          "execution_count": 28
        }
      ]
    },
    {
      "cell_type": "code",
      "source": [
        "recall"
      ],
      "metadata": {
        "colab": {
          "base_uri": "https://localhost:8080/"
        },
        "id": "cZW7pNQCAcfp",
        "outputId": "21549482-9a56-432d-e817-33d0a60d64e7"
      },
      "execution_count": 29,
      "outputs": [
        {
          "output_type": "execute_result",
          "data": {
            "text/plain": [
              "{'Recall@1': 0.0326,\n",
              " 'Recall@3': 0.06202,\n",
              " 'Recall@5': 0.08132,\n",
              " 'Recall@10': 0.10277,\n",
              " 'Recall@100': 0.24231,\n",
              " 'Recall@1000': 0.56055}"
            ]
          },
          "metadata": {},
          "execution_count": 29
        }
      ]
    },
    {
      "cell_type": "code",
      "source": [
        "precision"
      ],
      "metadata": {
        "colab": {
          "base_uri": "https://localhost:8080/"
        },
        "id": "BLS0bvS7AfiN",
        "outputId": "aba7e48f-fbe2-4a6a-b79f-9f23e5183b2e"
      },
      "execution_count": 30,
      "outputs": [
        {
          "output_type": "execute_result",
          "data": {
            "text/plain": [
              "{'P@1': 0.33127,\n",
              " 'P@3': 0.2549,\n",
              " 'P@5': 0.21734,\n",
              " 'P@10': 0.16656,\n",
              " 'P@100': 0.05375,\n",
              " 'P@1000': 0.01802}"
            ]
          },
          "metadata": {},
          "execution_count": 30
        }
      ]
    },
    {
      "cell_type": "code",
      "source": [
        "import random\n",
        "random.seed(250)\n",
        "\n",
        "#### Print top-k documents retrieved ####\n",
        "top_k = 5\n",
        "\n",
        "query_id, ranking_scores = random.choice(list(results.items()))\n"
      ],
      "metadata": {
        "id": "CK37sk3NAgGU"
      },
      "execution_count": 31,
      "outputs": []
    },
    {
      "cell_type": "code",
      "source": [
        "query_id"
      ],
      "metadata": {
        "colab": {
          "base_uri": "https://localhost:8080/",
          "height": 36
        },
        "id": "G5U5zfcRAwRi",
        "outputId": "15599a6e-5c9c-4287-d015-de63e1ff8708"
      },
      "execution_count": 32,
      "outputs": [
        {
          "output_type": "execute_result",
          "data": {
            "text/plain": [
              "'PLAIN-2177'"
            ],
            "application/vnd.google.colaboratory.intrinsic+json": {
              "type": "string"
            }
          },
          "metadata": {},
          "execution_count": 32
        }
      ]
    },
    {
      "cell_type": "code",
      "source": [
        "len(ranking_scores)"
      ],
      "metadata": {
        "colab": {
          "base_uri": "https://localhost:8080/"
        },
        "id": "gxNEJtBDBXvI",
        "outputId": "d2ac9226-3796-4146-a3d9-96287f1ed899"
      },
      "execution_count": 33,
      "outputs": [
        {
          "output_type": "execute_result",
          "data": {
            "text/plain": [
              "1001"
            ]
          },
          "metadata": {},
          "execution_count": 33
        }
      ]
    },
    {
      "cell_type": "code",
      "source": [
        "scores_sorted = sorted(ranking_scores.items(), key=lambda item: item[1], reverse=True)\n",
        "print(\"Query : %s\\n\" % queries[query_id])\n",
        "\n",
        "for rank in range(min(top_k, len(ranking_scores))):\n",
        "    doc_id = scores_sorted[rank][0]\n",
        "    # Format: Rank x: ID [Title] Body\n",
        "    print(\"Rank %d: %s [%s] - %s\\n\" % (rank+1, doc_id, corpus[doc_id].get(\"title\"), corpus[doc_id].get(\"text\")))"
      ],
      "metadata": {
        "colab": {
          "base_uri": "https://localhost:8080/"
        },
        "id": "YRlfrq5dAsZh",
        "outputId": "db2c56cb-ec41-4c3a-b9c9-d05ec46cd656"
      },
      "execution_count": 34,
      "outputs": [
        {
          "output_type": "stream",
          "name": "stdout",
          "text": [
            "Query : sulfur\n",
            "\n",
            "Rank 1: MED-1185 [Sulfite sensitivity: significance in human health.] - Endogenous sulfite is generated as a consequence of the body's normal processing of sulfur-containing amino acids. Sulfites occur as a consequence of fermentation and also occur naturally in a number of foods and beverages. As food additives, sulfiting agents were first used in 1664 and approved in the United States as long ago as the 1800s. With such long experience with their use, it is easy to understand why these substances have been regarded as safe. They are currently used for a variety of preservative properties, including controlling microbial growth, preventing browning and spoilage, and bleaching some foods. It is estimated that up to 500,000 (< .05% of the population) sulfite-sensitive individuals live in the United States. Sulfite sensitivity occurs most often in asthmatic adults--predominantly women; it is uncommonly reported in preschool children. Adverse reactions to sulfites in nonasthmatics are extremely rare. Asthmatics who are steroid-dependent or who have a higher degree of airway hyperreactivity may be at greater risk of experiencing a reaction to sulfite-containing foods. Even within this limited population, sulfite sensitivity reactions vary widely, ranging from no reaction to severe. The majority of reactions are mild. These manifestations may include dermatologic, respiratory, or gastrointestinal signs and symptoms. Severe nonspecific signs and symptoms occur less commonly. Broncho-constriction is the most common sensitivity response in asthmatics. The precise mechanisms of the sensitivity responses have not been completely elucidated. Inhalation of sulfur dioxide (SO2) generated in the stomach following ingestion of sulfite-containing foods or beverages, a deficiency in a mitochondrial enzyme, and an IgE-mediated immune response have all been implicated.(ABSTRACT TRUNCATED AT 250 WORDS)\n",
            "\n",
            "Rank 2: MED-4176 [Perfluorooctanesulfonate and related fluorochemicals in human blood samples from China.] - Perfluorooctanesulfonylfluoride (POSF)-based compounds have been manufactured and used in a variety of industrial applications. These compounds degrade to perfluorooctanesulfonate (PFOS) which is regarded as a persistent end-stage metabolite and is found to accumulate in tissues of humans and wildlife. PFOS, perfluorohexanesulfonate (PFHxS), perfluorooctanoate (PFOA), and perfluorooctanesulfonamide (PFOSA) have been found in human sera from the United States. In this study, concentrations of PFHxS, perfluorobutanesulfonate (PFBS), PFOS, perfluorohexanoic acid (PFHxA), PFOA, perfluorononanoic acid (PFNA), perfluorodecanoic acid (PFDA), perfluoroundecanoic acid (PFUnDA), perfluorododecanoic acid (PFDoDA), and PFOSA were measured in 85 samples of whole human blood collected from nine cities (eight provinces) in China, including Shenyang (Liaoning), Beijing (Hebei), Zhengzhou (Henan), Jintan (Jiangsu), Wuhan (Hubei), Zhoushan (Zhejiang), Guiyang (Guizhou), Xiamen (Fujian), and Fuzhou (Fujian). Among the 10 perfluorinated compounds (PFCs) measured, PFOS was the predominant compound. The mean concentration of PFOS was greatest in samples collected from Shenyang (79.2 ng/mL) and least in samples from Jintan (3.72 ng/mL). PFHxS was the next most abundant perfluorochemical in the samples. No age-related differences in the concentrations of PFOA, PFOS, PFOSA, and PFHxS were observed. Gender-related differences were found,with males higher for PFOS and PFHxS, and females higher in PFUnDA. Concentrations of PFHxS were positively correlated with those of PFOS, while concentrations of PFNA, PFDA, and PFUnDA were positively correlated with those of PFOA. There were differences in the concentration profiles (percentage composition) of various PFCs in the samples among the nine cities.\n",
            "\n",
            "Rank 3: MED-2489 [Agricultural policies, food and public health] - A historical view on how our agricultural systems evolved and how they are contributing to obesity and disease.\n",
            "\n",
            "Rank 4: MED-4995 [Salicylic Acid sans Aspirin in Animals and Man: Persistence in Fasting and Biosynthesis from Benzoic Acid] - Salicylic acid (SA), which is central to defense mechanisms in plants and the principal metabolite of aspirin, occurs naturally in man with higher levels of SA and its urinary metabolite salicyluric acid (SU) in vegetarians overlapping with levels in patients on low-dose aspirin regimens. SA is widely distributed in animal blood. Fasting for major colorectal surgery did not cause disappearance of SA from plasma, even in patients following total proctocolectomy. A 13C6 benzoic acid load ingested by six volunteers led, between 8 and 16 h, to a median 33.9% labeling of urinary salicyluric acid. The overall contribution of benzoic acid (and its salts) to the turnover of circulating SA thus requires further assessment. However, that SA appears to be, at least partially, an endogenous compound should lead to reassessment of its role in human (and animal) pathophysiology.\n",
            "\n",
            "Rank 5: MED-2997 [The Etiological Significance of Related Diseases] - If disease patterns emerge which show that certain diseases can be related, this is a valuable pointer to a common cause. This article traces the principle of interpreting disease relationships, illustrated by several common conditions of western civilization, for which the common cause is postulated as being removal of fiber from the diet.\n",
            "\n"
          ]
        }
      ]
    }
  ]
}