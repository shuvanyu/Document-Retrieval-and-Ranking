{
  "nbformat": 4,
  "nbformat_minor": 0,
  "metadata": {
    "colab": {
      "provenance": [],
      "collapsed_sections": [
        "Yu34CR5hk0KS"
      ],
      "include_colab_link": true
    },
    "kernelspec": {
      "name": "python3",
      "display_name": "Python 3"
    },
    "language_info": {
      "name": "python"
    },
    "widgets": {
      "application/vnd.jupyter.widget-state+json": {
        "086bf09d83f24cbd973526e88089b802": {
          "model_module": "@jupyter-widgets/controls",
          "model_name": "HBoxModel",
          "model_module_version": "1.5.0",
          "state": {
            "_dom_classes": [],
            "_model_module": "@jupyter-widgets/controls",
            "_model_module_version": "1.5.0",
            "_model_name": "HBoxModel",
            "_view_count": null,
            "_view_module": "@jupyter-widgets/controls",
            "_view_module_version": "1.5.0",
            "_view_name": "HBoxView",
            "box_style": "",
            "children": [
              "IPY_MODEL_aa23ff3fac3f465da2c8e2c2d290d904",
              "IPY_MODEL_90d8aac8e5a54d53ba261c407651ed8b",
              "IPY_MODEL_433f93ee7e44491ea3b59e741b298494"
            ],
            "layout": "IPY_MODEL_f6abf753f9c54d76a9e1a888d61d618a"
          }
        },
        "aa23ff3fac3f465da2c8e2c2d290d904": {
          "model_module": "@jupyter-widgets/controls",
          "model_name": "HTMLModel",
          "model_module_version": "1.5.0",
          "state": {
            "_dom_classes": [],
            "_model_module": "@jupyter-widgets/controls",
            "_model_module_version": "1.5.0",
            "_model_name": "HTMLModel",
            "_view_count": null,
            "_view_module": "@jupyter-widgets/controls",
            "_view_module_version": "1.5.0",
            "_view_name": "HTMLView",
            "description": "",
            "description_tooltip": null,
            "layout": "IPY_MODEL_da89ef97feb143498230c77a29f54d72",
            "placeholder": "​",
            "style": "IPY_MODEL_40144f984fc5455a97203e6e15d3bd68",
            "value": "100%"
          }
        },
        "90d8aac8e5a54d53ba261c407651ed8b": {
          "model_module": "@jupyter-widgets/controls",
          "model_name": "FloatProgressModel",
          "model_module_version": "1.5.0",
          "state": {
            "_dom_classes": [],
            "_model_module": "@jupyter-widgets/controls",
            "_model_module_version": "1.5.0",
            "_model_name": "FloatProgressModel",
            "_view_count": null,
            "_view_module": "@jupyter-widgets/controls",
            "_view_module_version": "1.5.0",
            "_view_name": "ProgressView",
            "bar_style": "success",
            "description": "",
            "description_tooltip": null,
            "layout": "IPY_MODEL_2ef3ae0fbe9f4496b40421df401d99a4",
            "max": 3633,
            "min": 0,
            "orientation": "horizontal",
            "style": "IPY_MODEL_c40c8b00f403404ab764cd5e5e188a54",
            "value": 3633
          }
        },
        "433f93ee7e44491ea3b59e741b298494": {
          "model_module": "@jupyter-widgets/controls",
          "model_name": "HTMLModel",
          "model_module_version": "1.5.0",
          "state": {
            "_dom_classes": [],
            "_model_module": "@jupyter-widgets/controls",
            "_model_module_version": "1.5.0",
            "_model_name": "HTMLModel",
            "_view_count": null,
            "_view_module": "@jupyter-widgets/controls",
            "_view_module_version": "1.5.0",
            "_view_name": "HTMLView",
            "description": "",
            "description_tooltip": null,
            "layout": "IPY_MODEL_4c2bd394ed5a49b0ae13f7e10df02c04",
            "placeholder": "​",
            "style": "IPY_MODEL_1635daea4df541cea4ad2b5692bb9b40",
            "value": " 3633/3633 [00:00&lt;00:00, 47361.67it/s]"
          }
        },
        "f6abf753f9c54d76a9e1a888d61d618a": {
          "model_module": "@jupyter-widgets/base",
          "model_name": "LayoutModel",
          "model_module_version": "1.2.0",
          "state": {
            "_model_module": "@jupyter-widgets/base",
            "_model_module_version": "1.2.0",
            "_model_name": "LayoutModel",
            "_view_count": null,
            "_view_module": "@jupyter-widgets/base",
            "_view_module_version": "1.2.0",
            "_view_name": "LayoutView",
            "align_content": null,
            "align_items": null,
            "align_self": null,
            "border": null,
            "bottom": null,
            "display": null,
            "flex": null,
            "flex_flow": null,
            "grid_area": null,
            "grid_auto_columns": null,
            "grid_auto_flow": null,
            "grid_auto_rows": null,
            "grid_column": null,
            "grid_gap": null,
            "grid_row": null,
            "grid_template_areas": null,
            "grid_template_columns": null,
            "grid_template_rows": null,
            "height": null,
            "justify_content": null,
            "justify_items": null,
            "left": null,
            "margin": null,
            "max_height": null,
            "max_width": null,
            "min_height": null,
            "min_width": null,
            "object_fit": null,
            "object_position": null,
            "order": null,
            "overflow": null,
            "overflow_x": null,
            "overflow_y": null,
            "padding": null,
            "right": null,
            "top": null,
            "visibility": null,
            "width": null
          }
        },
        "da89ef97feb143498230c77a29f54d72": {
          "model_module": "@jupyter-widgets/base",
          "model_name": "LayoutModel",
          "model_module_version": "1.2.0",
          "state": {
            "_model_module": "@jupyter-widgets/base",
            "_model_module_version": "1.2.0",
            "_model_name": "LayoutModel",
            "_view_count": null,
            "_view_module": "@jupyter-widgets/base",
            "_view_module_version": "1.2.0",
            "_view_name": "LayoutView",
            "align_content": null,
            "align_items": null,
            "align_self": null,
            "border": null,
            "bottom": null,
            "display": null,
            "flex": null,
            "flex_flow": null,
            "grid_area": null,
            "grid_auto_columns": null,
            "grid_auto_flow": null,
            "grid_auto_rows": null,
            "grid_column": null,
            "grid_gap": null,
            "grid_row": null,
            "grid_template_areas": null,
            "grid_template_columns": null,
            "grid_template_rows": null,
            "height": null,
            "justify_content": null,
            "justify_items": null,
            "left": null,
            "margin": null,
            "max_height": null,
            "max_width": null,
            "min_height": null,
            "min_width": null,
            "object_fit": null,
            "object_position": null,
            "order": null,
            "overflow": null,
            "overflow_x": null,
            "overflow_y": null,
            "padding": null,
            "right": null,
            "top": null,
            "visibility": null,
            "width": null
          }
        },
        "40144f984fc5455a97203e6e15d3bd68": {
          "model_module": "@jupyter-widgets/controls",
          "model_name": "DescriptionStyleModel",
          "model_module_version": "1.5.0",
          "state": {
            "_model_module": "@jupyter-widgets/controls",
            "_model_module_version": "1.5.0",
            "_model_name": "DescriptionStyleModel",
            "_view_count": null,
            "_view_module": "@jupyter-widgets/base",
            "_view_module_version": "1.2.0",
            "_view_name": "StyleView",
            "description_width": ""
          }
        },
        "2ef3ae0fbe9f4496b40421df401d99a4": {
          "model_module": "@jupyter-widgets/base",
          "model_name": "LayoutModel",
          "model_module_version": "1.2.0",
          "state": {
            "_model_module": "@jupyter-widgets/base",
            "_model_module_version": "1.2.0",
            "_model_name": "LayoutModel",
            "_view_count": null,
            "_view_module": "@jupyter-widgets/base",
            "_view_module_version": "1.2.0",
            "_view_name": "LayoutView",
            "align_content": null,
            "align_items": null,
            "align_self": null,
            "border": null,
            "bottom": null,
            "display": null,
            "flex": null,
            "flex_flow": null,
            "grid_area": null,
            "grid_auto_columns": null,
            "grid_auto_flow": null,
            "grid_auto_rows": null,
            "grid_column": null,
            "grid_gap": null,
            "grid_row": null,
            "grid_template_areas": null,
            "grid_template_columns": null,
            "grid_template_rows": null,
            "height": null,
            "justify_content": null,
            "justify_items": null,
            "left": null,
            "margin": null,
            "max_height": null,
            "max_width": null,
            "min_height": null,
            "min_width": null,
            "object_fit": null,
            "object_position": null,
            "order": null,
            "overflow": null,
            "overflow_x": null,
            "overflow_y": null,
            "padding": null,
            "right": null,
            "top": null,
            "visibility": null,
            "width": null
          }
        },
        "c40c8b00f403404ab764cd5e5e188a54": {
          "model_module": "@jupyter-widgets/controls",
          "model_name": "ProgressStyleModel",
          "model_module_version": "1.5.0",
          "state": {
            "_model_module": "@jupyter-widgets/controls",
            "_model_module_version": "1.5.0",
            "_model_name": "ProgressStyleModel",
            "_view_count": null,
            "_view_module": "@jupyter-widgets/base",
            "_view_module_version": "1.2.0",
            "_view_name": "StyleView",
            "bar_color": null,
            "description_width": ""
          }
        },
        "4c2bd394ed5a49b0ae13f7e10df02c04": {
          "model_module": "@jupyter-widgets/base",
          "model_name": "LayoutModel",
          "model_module_version": "1.2.0",
          "state": {
            "_model_module": "@jupyter-widgets/base",
            "_model_module_version": "1.2.0",
            "_model_name": "LayoutModel",
            "_view_count": null,
            "_view_module": "@jupyter-widgets/base",
            "_view_module_version": "1.2.0",
            "_view_name": "LayoutView",
            "align_content": null,
            "align_items": null,
            "align_self": null,
            "border": null,
            "bottom": null,
            "display": null,
            "flex": null,
            "flex_flow": null,
            "grid_area": null,
            "grid_auto_columns": null,
            "grid_auto_flow": null,
            "grid_auto_rows": null,
            "grid_column": null,
            "grid_gap": null,
            "grid_row": null,
            "grid_template_areas": null,
            "grid_template_columns": null,
            "grid_template_rows": null,
            "height": null,
            "justify_content": null,
            "justify_items": null,
            "left": null,
            "margin": null,
            "max_height": null,
            "max_width": null,
            "min_height": null,
            "min_width": null,
            "object_fit": null,
            "object_position": null,
            "order": null,
            "overflow": null,
            "overflow_x": null,
            "overflow_y": null,
            "padding": null,
            "right": null,
            "top": null,
            "visibility": null,
            "width": null
          }
        },
        "1635daea4df541cea4ad2b5692bb9b40": {
          "model_module": "@jupyter-widgets/controls",
          "model_name": "DescriptionStyleModel",
          "model_module_version": "1.5.0",
          "state": {
            "_model_module": "@jupyter-widgets/controls",
            "_model_module_version": "1.5.0",
            "_model_name": "DescriptionStyleModel",
            "_view_count": null,
            "_view_module": "@jupyter-widgets/base",
            "_view_module_version": "1.2.0",
            "_view_name": "StyleView",
            "description_width": ""
          }
        },
        "216798d3fd824f3ab712bba001a1005d": {
          "model_module": "@jupyter-widgets/controls",
          "model_name": "HBoxModel",
          "model_module_version": "1.5.0",
          "state": {
            "_dom_classes": [],
            "_model_module": "@jupyter-widgets/controls",
            "_model_module_version": "1.5.0",
            "_model_name": "HBoxModel",
            "_view_count": null,
            "_view_module": "@jupyter-widgets/controls",
            "_view_module_version": "1.5.0",
            "_view_name": "HBoxView",
            "box_style": "",
            "children": [
              "IPY_MODEL_7ab47972a1c1446d90ad070d5ac00a61",
              "IPY_MODEL_88a678e76a6144bab4099f410c19e517",
              "IPY_MODEL_c39fdeae909844a486a812b4c60aa0ec"
            ],
            "layout": "IPY_MODEL_79fc51a0213c4b3e96a11d22b329e833"
          }
        },
        "7ab47972a1c1446d90ad070d5ac00a61": {
          "model_module": "@jupyter-widgets/controls",
          "model_name": "HTMLModel",
          "model_module_version": "1.5.0",
          "state": {
            "_dom_classes": [],
            "_model_module": "@jupyter-widgets/controls",
            "_model_module_version": "1.5.0",
            "_model_name": "HTMLModel",
            "_view_count": null,
            "_view_module": "@jupyter-widgets/controls",
            "_view_module_version": "1.5.0",
            "_view_name": "HTMLView",
            "description": "",
            "description_tooltip": null,
            "layout": "IPY_MODEL_fc27fa9ce83045dd8f3f2bcfde7a34e4",
            "placeholder": "​",
            "style": "IPY_MODEL_f7658cc0f24e4a1fb557d347a0696ad0",
            "value": "Batches: 100%"
          }
        },
        "88a678e76a6144bab4099f410c19e517": {
          "model_module": "@jupyter-widgets/controls",
          "model_name": "FloatProgressModel",
          "model_module_version": "1.5.0",
          "state": {
            "_dom_classes": [],
            "_model_module": "@jupyter-widgets/controls",
            "_model_module_version": "1.5.0",
            "_model_name": "FloatProgressModel",
            "_view_count": null,
            "_view_module": "@jupyter-widgets/controls",
            "_view_module_version": "1.5.0",
            "_view_name": "ProgressView",
            "bar_style": "success",
            "description": "",
            "description_tooltip": null,
            "layout": "IPY_MODEL_37cc5fd69ccb4c0196bf1bedccfc6cb8",
            "max": 21,
            "min": 0,
            "orientation": "horizontal",
            "style": "IPY_MODEL_f58d71e91ca6429684802ccfca831eae",
            "value": 21
          }
        },
        "c39fdeae909844a486a812b4c60aa0ec": {
          "model_module": "@jupyter-widgets/controls",
          "model_name": "HTMLModel",
          "model_module_version": "1.5.0",
          "state": {
            "_dom_classes": [],
            "_model_module": "@jupyter-widgets/controls",
            "_model_module_version": "1.5.0",
            "_model_name": "HTMLModel",
            "_view_count": null,
            "_view_module": "@jupyter-widgets/controls",
            "_view_module_version": "1.5.0",
            "_view_name": "HTMLView",
            "description": "",
            "description_tooltip": null,
            "layout": "IPY_MODEL_0afbbad2d6eb48a394330ab4a3b4de9b",
            "placeholder": "​",
            "style": "IPY_MODEL_d121f9fa6e734157996a2a897415adb0",
            "value": " 21/21 [00:01&lt;00:00, 27.67it/s]"
          }
        },
        "79fc51a0213c4b3e96a11d22b329e833": {
          "model_module": "@jupyter-widgets/base",
          "model_name": "LayoutModel",
          "model_module_version": "1.2.0",
          "state": {
            "_model_module": "@jupyter-widgets/base",
            "_model_module_version": "1.2.0",
            "_model_name": "LayoutModel",
            "_view_count": null,
            "_view_module": "@jupyter-widgets/base",
            "_view_module_version": "1.2.0",
            "_view_name": "LayoutView",
            "align_content": null,
            "align_items": null,
            "align_self": null,
            "border": null,
            "bottom": null,
            "display": null,
            "flex": null,
            "flex_flow": null,
            "grid_area": null,
            "grid_auto_columns": null,
            "grid_auto_flow": null,
            "grid_auto_rows": null,
            "grid_column": null,
            "grid_gap": null,
            "grid_row": null,
            "grid_template_areas": null,
            "grid_template_columns": null,
            "grid_template_rows": null,
            "height": null,
            "justify_content": null,
            "justify_items": null,
            "left": null,
            "margin": null,
            "max_height": null,
            "max_width": null,
            "min_height": null,
            "min_width": null,
            "object_fit": null,
            "object_position": null,
            "order": null,
            "overflow": null,
            "overflow_x": null,
            "overflow_y": null,
            "padding": null,
            "right": null,
            "top": null,
            "visibility": null,
            "width": null
          }
        },
        "fc27fa9ce83045dd8f3f2bcfde7a34e4": {
          "model_module": "@jupyter-widgets/base",
          "model_name": "LayoutModel",
          "model_module_version": "1.2.0",
          "state": {
            "_model_module": "@jupyter-widgets/base",
            "_model_module_version": "1.2.0",
            "_model_name": "LayoutModel",
            "_view_count": null,
            "_view_module": "@jupyter-widgets/base",
            "_view_module_version": "1.2.0",
            "_view_name": "LayoutView",
            "align_content": null,
            "align_items": null,
            "align_self": null,
            "border": null,
            "bottom": null,
            "display": null,
            "flex": null,
            "flex_flow": null,
            "grid_area": null,
            "grid_auto_columns": null,
            "grid_auto_flow": null,
            "grid_auto_rows": null,
            "grid_column": null,
            "grid_gap": null,
            "grid_row": null,
            "grid_template_areas": null,
            "grid_template_columns": null,
            "grid_template_rows": null,
            "height": null,
            "justify_content": null,
            "justify_items": null,
            "left": null,
            "margin": null,
            "max_height": null,
            "max_width": null,
            "min_height": null,
            "min_width": null,
            "object_fit": null,
            "object_position": null,
            "order": null,
            "overflow": null,
            "overflow_x": null,
            "overflow_y": null,
            "padding": null,
            "right": null,
            "top": null,
            "visibility": null,
            "width": null
          }
        },
        "f7658cc0f24e4a1fb557d347a0696ad0": {
          "model_module": "@jupyter-widgets/controls",
          "model_name": "DescriptionStyleModel",
          "model_module_version": "1.5.0",
          "state": {
            "_model_module": "@jupyter-widgets/controls",
            "_model_module_version": "1.5.0",
            "_model_name": "DescriptionStyleModel",
            "_view_count": null,
            "_view_module": "@jupyter-widgets/base",
            "_view_module_version": "1.2.0",
            "_view_name": "StyleView",
            "description_width": ""
          }
        },
        "37cc5fd69ccb4c0196bf1bedccfc6cb8": {
          "model_module": "@jupyter-widgets/base",
          "model_name": "LayoutModel",
          "model_module_version": "1.2.0",
          "state": {
            "_model_module": "@jupyter-widgets/base",
            "_model_module_version": "1.2.0",
            "_model_name": "LayoutModel",
            "_view_count": null,
            "_view_module": "@jupyter-widgets/base",
            "_view_module_version": "1.2.0",
            "_view_name": "LayoutView",
            "align_content": null,
            "align_items": null,
            "align_self": null,
            "border": null,
            "bottom": null,
            "display": null,
            "flex": null,
            "flex_flow": null,
            "grid_area": null,
            "grid_auto_columns": null,
            "grid_auto_flow": null,
            "grid_auto_rows": null,
            "grid_column": null,
            "grid_gap": null,
            "grid_row": null,
            "grid_template_areas": null,
            "grid_template_columns": null,
            "grid_template_rows": null,
            "height": null,
            "justify_content": null,
            "justify_items": null,
            "left": null,
            "margin": null,
            "max_height": null,
            "max_width": null,
            "min_height": null,
            "min_width": null,
            "object_fit": null,
            "object_position": null,
            "order": null,
            "overflow": null,
            "overflow_x": null,
            "overflow_y": null,
            "padding": null,
            "right": null,
            "top": null,
            "visibility": null,
            "width": null
          }
        },
        "f58d71e91ca6429684802ccfca831eae": {
          "model_module": "@jupyter-widgets/controls",
          "model_name": "ProgressStyleModel",
          "model_module_version": "1.5.0",
          "state": {
            "_model_module": "@jupyter-widgets/controls",
            "_model_module_version": "1.5.0",
            "_model_name": "ProgressStyleModel",
            "_view_count": null,
            "_view_module": "@jupyter-widgets/base",
            "_view_module_version": "1.2.0",
            "_view_name": "StyleView",
            "bar_color": null,
            "description_width": ""
          }
        },
        "0afbbad2d6eb48a394330ab4a3b4de9b": {
          "model_module": "@jupyter-widgets/base",
          "model_name": "LayoutModel",
          "model_module_version": "1.2.0",
          "state": {
            "_model_module": "@jupyter-widgets/base",
            "_model_module_version": "1.2.0",
            "_model_name": "LayoutModel",
            "_view_count": null,
            "_view_module": "@jupyter-widgets/base",
            "_view_module_version": "1.2.0",
            "_view_name": "LayoutView",
            "align_content": null,
            "align_items": null,
            "align_self": null,
            "border": null,
            "bottom": null,
            "display": null,
            "flex": null,
            "flex_flow": null,
            "grid_area": null,
            "grid_auto_columns": null,
            "grid_auto_flow": null,
            "grid_auto_rows": null,
            "grid_column": null,
            "grid_gap": null,
            "grid_row": null,
            "grid_template_areas": null,
            "grid_template_columns": null,
            "grid_template_rows": null,
            "height": null,
            "justify_content": null,
            "justify_items": null,
            "left": null,
            "margin": null,
            "max_height": null,
            "max_width": null,
            "min_height": null,
            "min_width": null,
            "object_fit": null,
            "object_position": null,
            "order": null,
            "overflow": null,
            "overflow_x": null,
            "overflow_y": null,
            "padding": null,
            "right": null,
            "top": null,
            "visibility": null,
            "width": null
          }
        },
        "d121f9fa6e734157996a2a897415adb0": {
          "model_module": "@jupyter-widgets/controls",
          "model_name": "DescriptionStyleModel",
          "model_module_version": "1.5.0",
          "state": {
            "_model_module": "@jupyter-widgets/controls",
            "_model_module_version": "1.5.0",
            "_model_name": "DescriptionStyleModel",
            "_view_count": null,
            "_view_module": "@jupyter-widgets/base",
            "_view_module_version": "1.2.0",
            "_view_name": "StyleView",
            "description_width": ""
          }
        },
        "ed186f3949944cab85db007c93c42f11": {
          "model_module": "@jupyter-widgets/controls",
          "model_name": "HBoxModel",
          "model_module_version": "1.5.0",
          "state": {
            "_dom_classes": [],
            "_model_module": "@jupyter-widgets/controls",
            "_model_module_version": "1.5.0",
            "_model_name": "HBoxModel",
            "_view_count": null,
            "_view_module": "@jupyter-widgets/controls",
            "_view_module_version": "1.5.0",
            "_view_name": "HBoxView",
            "box_style": "",
            "children": [
              "IPY_MODEL_41226abb1c54438f862dff5e499ee85d",
              "IPY_MODEL_b51dfb9d0c394ed1ae8792ec880e7476",
              "IPY_MODEL_463c721a3196412ba2f0dee59ee82a4b"
            ],
            "layout": "IPY_MODEL_42dac39e2c6e43af9434ee519fdae124"
          }
        },
        "41226abb1c54438f862dff5e499ee85d": {
          "model_module": "@jupyter-widgets/controls",
          "model_name": "HTMLModel",
          "model_module_version": "1.5.0",
          "state": {
            "_dom_classes": [],
            "_model_module": "@jupyter-widgets/controls",
            "_model_module_version": "1.5.0",
            "_model_name": "HTMLModel",
            "_view_count": null,
            "_view_module": "@jupyter-widgets/controls",
            "_view_module_version": "1.5.0",
            "_view_name": "HTMLView",
            "description": "",
            "description_tooltip": null,
            "layout": "IPY_MODEL_667944dc0fb44e24a59a61188edf1d6f",
            "placeholder": "​",
            "style": "IPY_MODEL_3f0ee1f45c134bcb853fd0f0beef6941",
            "value": "Batches: 100%"
          }
        },
        "b51dfb9d0c394ed1ae8792ec880e7476": {
          "model_module": "@jupyter-widgets/controls",
          "model_name": "FloatProgressModel",
          "model_module_version": "1.5.0",
          "state": {
            "_dom_classes": [],
            "_model_module": "@jupyter-widgets/controls",
            "_model_module_version": "1.5.0",
            "_model_name": "FloatProgressModel",
            "_view_count": null,
            "_view_module": "@jupyter-widgets/controls",
            "_view_module_version": "1.5.0",
            "_view_name": "ProgressView",
            "bar_style": "success",
            "description": "",
            "description_tooltip": null,
            "layout": "IPY_MODEL_49e630a905094d6dbfc58edab87dc83a",
            "max": 228,
            "min": 0,
            "orientation": "horizontal",
            "style": "IPY_MODEL_e5abf91111164187b71df5fc5fa3ea28",
            "value": 228
          }
        },
        "463c721a3196412ba2f0dee59ee82a4b": {
          "model_module": "@jupyter-widgets/controls",
          "model_name": "HTMLModel",
          "model_module_version": "1.5.0",
          "state": {
            "_dom_classes": [],
            "_model_module": "@jupyter-widgets/controls",
            "_model_module_version": "1.5.0",
            "_model_name": "HTMLModel",
            "_view_count": null,
            "_view_module": "@jupyter-widgets/controls",
            "_view_module_version": "1.5.0",
            "_view_name": "HTMLView",
            "description": "",
            "description_tooltip": null,
            "layout": "IPY_MODEL_def4d7c3db464ac3bf89c2d6ccc7c227",
            "placeholder": "​",
            "style": "IPY_MODEL_385ed894677e46a0afb325ccac353e3f",
            "value": " 228/228 [00:46&lt;00:00,  9.13it/s]"
          }
        },
        "42dac39e2c6e43af9434ee519fdae124": {
          "model_module": "@jupyter-widgets/base",
          "model_name": "LayoutModel",
          "model_module_version": "1.2.0",
          "state": {
            "_model_module": "@jupyter-widgets/base",
            "_model_module_version": "1.2.0",
            "_model_name": "LayoutModel",
            "_view_count": null,
            "_view_module": "@jupyter-widgets/base",
            "_view_module_version": "1.2.0",
            "_view_name": "LayoutView",
            "align_content": null,
            "align_items": null,
            "align_self": null,
            "border": null,
            "bottom": null,
            "display": null,
            "flex": null,
            "flex_flow": null,
            "grid_area": null,
            "grid_auto_columns": null,
            "grid_auto_flow": null,
            "grid_auto_rows": null,
            "grid_column": null,
            "grid_gap": null,
            "grid_row": null,
            "grid_template_areas": null,
            "grid_template_columns": null,
            "grid_template_rows": null,
            "height": null,
            "justify_content": null,
            "justify_items": null,
            "left": null,
            "margin": null,
            "max_height": null,
            "max_width": null,
            "min_height": null,
            "min_width": null,
            "object_fit": null,
            "object_position": null,
            "order": null,
            "overflow": null,
            "overflow_x": null,
            "overflow_y": null,
            "padding": null,
            "right": null,
            "top": null,
            "visibility": null,
            "width": null
          }
        },
        "667944dc0fb44e24a59a61188edf1d6f": {
          "model_module": "@jupyter-widgets/base",
          "model_name": "LayoutModel",
          "model_module_version": "1.2.0",
          "state": {
            "_model_module": "@jupyter-widgets/base",
            "_model_module_version": "1.2.0",
            "_model_name": "LayoutModel",
            "_view_count": null,
            "_view_module": "@jupyter-widgets/base",
            "_view_module_version": "1.2.0",
            "_view_name": "LayoutView",
            "align_content": null,
            "align_items": null,
            "align_self": null,
            "border": null,
            "bottom": null,
            "display": null,
            "flex": null,
            "flex_flow": null,
            "grid_area": null,
            "grid_auto_columns": null,
            "grid_auto_flow": null,
            "grid_auto_rows": null,
            "grid_column": null,
            "grid_gap": null,
            "grid_row": null,
            "grid_template_areas": null,
            "grid_template_columns": null,
            "grid_template_rows": null,
            "height": null,
            "justify_content": null,
            "justify_items": null,
            "left": null,
            "margin": null,
            "max_height": null,
            "max_width": null,
            "min_height": null,
            "min_width": null,
            "object_fit": null,
            "object_position": null,
            "order": null,
            "overflow": null,
            "overflow_x": null,
            "overflow_y": null,
            "padding": null,
            "right": null,
            "top": null,
            "visibility": null,
            "width": null
          }
        },
        "3f0ee1f45c134bcb853fd0f0beef6941": {
          "model_module": "@jupyter-widgets/controls",
          "model_name": "DescriptionStyleModel",
          "model_module_version": "1.5.0",
          "state": {
            "_model_module": "@jupyter-widgets/controls",
            "_model_module_version": "1.5.0",
            "_model_name": "DescriptionStyleModel",
            "_view_count": null,
            "_view_module": "@jupyter-widgets/base",
            "_view_module_version": "1.2.0",
            "_view_name": "StyleView",
            "description_width": ""
          }
        },
        "49e630a905094d6dbfc58edab87dc83a": {
          "model_module": "@jupyter-widgets/base",
          "model_name": "LayoutModel",
          "model_module_version": "1.2.0",
          "state": {
            "_model_module": "@jupyter-widgets/base",
            "_model_module_version": "1.2.0",
            "_model_name": "LayoutModel",
            "_view_count": null,
            "_view_module": "@jupyter-widgets/base",
            "_view_module_version": "1.2.0",
            "_view_name": "LayoutView",
            "align_content": null,
            "align_items": null,
            "align_self": null,
            "border": null,
            "bottom": null,
            "display": null,
            "flex": null,
            "flex_flow": null,
            "grid_area": null,
            "grid_auto_columns": null,
            "grid_auto_flow": null,
            "grid_auto_rows": null,
            "grid_column": null,
            "grid_gap": null,
            "grid_row": null,
            "grid_template_areas": null,
            "grid_template_columns": null,
            "grid_template_rows": null,
            "height": null,
            "justify_content": null,
            "justify_items": null,
            "left": null,
            "margin": null,
            "max_height": null,
            "max_width": null,
            "min_height": null,
            "min_width": null,
            "object_fit": null,
            "object_position": null,
            "order": null,
            "overflow": null,
            "overflow_x": null,
            "overflow_y": null,
            "padding": null,
            "right": null,
            "top": null,
            "visibility": null,
            "width": null
          }
        },
        "e5abf91111164187b71df5fc5fa3ea28": {
          "model_module": "@jupyter-widgets/controls",
          "model_name": "ProgressStyleModel",
          "model_module_version": "1.5.0",
          "state": {
            "_model_module": "@jupyter-widgets/controls",
            "_model_module_version": "1.5.0",
            "_model_name": "ProgressStyleModel",
            "_view_count": null,
            "_view_module": "@jupyter-widgets/base",
            "_view_module_version": "1.2.0",
            "_view_name": "StyleView",
            "bar_color": null,
            "description_width": ""
          }
        },
        "def4d7c3db464ac3bf89c2d6ccc7c227": {
          "model_module": "@jupyter-widgets/base",
          "model_name": "LayoutModel",
          "model_module_version": "1.2.0",
          "state": {
            "_model_module": "@jupyter-widgets/base",
            "_model_module_version": "1.2.0",
            "_model_name": "LayoutModel",
            "_view_count": null,
            "_view_module": "@jupyter-widgets/base",
            "_view_module_version": "1.2.0",
            "_view_name": "LayoutView",
            "align_content": null,
            "align_items": null,
            "align_self": null,
            "border": null,
            "bottom": null,
            "display": null,
            "flex": null,
            "flex_flow": null,
            "grid_area": null,
            "grid_auto_columns": null,
            "grid_auto_flow": null,
            "grid_auto_rows": null,
            "grid_column": null,
            "grid_gap": null,
            "grid_row": null,
            "grid_template_areas": null,
            "grid_template_columns": null,
            "grid_template_rows": null,
            "height": null,
            "justify_content": null,
            "justify_items": null,
            "left": null,
            "margin": null,
            "max_height": null,
            "max_width": null,
            "min_height": null,
            "min_width": null,
            "object_fit": null,
            "object_position": null,
            "order": null,
            "overflow": null,
            "overflow_x": null,
            "overflow_y": null,
            "padding": null,
            "right": null,
            "top": null,
            "visibility": null,
            "width": null
          }
        },
        "385ed894677e46a0afb325ccac353e3f": {
          "model_module": "@jupyter-widgets/controls",
          "model_name": "DescriptionStyleModel",
          "model_module_version": "1.5.0",
          "state": {
            "_model_module": "@jupyter-widgets/controls",
            "_model_module_version": "1.5.0",
            "_model_name": "DescriptionStyleModel",
            "_view_count": null,
            "_view_module": "@jupyter-widgets/base",
            "_view_module_version": "1.2.0",
            "_view_name": "StyleView",
            "description_width": ""
          }
        }
      }
    },
    "accelerator": "GPU",
    "gpuClass": "standard"
  },
  "cells": [
    {
      "cell_type": "markdown",
      "metadata": {
        "id": "view-in-github",
        "colab_type": "text"
      },
      "source": [
        "<a href=\"https://colab.research.google.com/github/shuvanyu/Document-Retrieval-and-Ranking/blob/main/condenser_nfcorpus.ipynb\" target=\"_parent\"><img src=\"https://colab.research.google.com/assets/colab-badge.svg\" alt=\"Open In Colab\"/></a>"
      ]
    },
    {
      "cell_type": "markdown",
      "source": [
        "# Prerequisites"
      ],
      "metadata": {
        "id": "Yu34CR5hk0KS"
      }
    },
    {
      "cell_type": "code",
      "execution_count": 1,
      "metadata": {
        "id": "lFBTtaBpg-u4"
      },
      "outputs": [],
      "source": [
        "!pip install sentence-transformers > /dev/null\n",
        "!pip install beir > /dev/null\n",
        "!pip install tensorflow_text > /dev/null"
      ]
    },
    {
      "cell_type": "markdown",
      "source": [
        "# Testing beir"
      ],
      "metadata": {
        "id": "JaUoiciZmO2D"
      }
    },
    {
      "cell_type": "code",
      "source": [
        "from beir import util, LoggingHandler\n",
        "from beir.retrieval import models\n",
        "from beir.datasets.data_loader import GenericDataLoader\n",
        "from beir.retrieval.evaluation import EvaluateRetrieval\n",
        "from beir.retrieval.search.dense import DenseRetrievalExactSearch as DRES\n",
        "\n",
        "import logging\n",
        "import pathlib, os\n",
        "\n",
        "#### Just some code to print debug information to stdout\n",
        "logging.basicConfig(format='%(asctime)s - %(message)s',\n",
        "                    datefmt='%Y-%m-%d %H:%M:%S',\n",
        "                    level=logging.INFO,\n",
        "                    handlers=[LoggingHandler()])\n",
        "#### /print debug information to stdout\n",
        "\n",
        "#### Download scifact.zip dataset and unzip the dataset\n",
        "dataset = \"nfcorpus\"\n",
        "url = \"https://public.ukp.informatik.tu-darmstadt.de/thakur/BEIR/datasets/{}.zip\".format(dataset)\n",
        "out_dir = os.path.join('drive', 'MyDrive',  \"nlp_datashare\")"
      ],
      "metadata": {
        "id": "_fIXiccNk6PU",
        "colab": {
          "base_uri": "https://localhost:8080/"
        },
        "outputId": "b02fd5dc-c0dc-40da-bdc5-922471c89f64"
      },
      "execution_count": 2,
      "outputs": [
        {
          "output_type": "stream",
          "name": "stderr",
          "text": [
            "/usr/local/lib/python3.10/dist-packages/beir/util.py:2: TqdmExperimentalWarning: Using `tqdm.autonotebook.tqdm` in notebook mode. Use `tqdm.tqdm` instead to force console mode (e.g. in jupyter console)\n",
            "  from tqdm.autonotebook import tqdm\n"
          ]
        }
      ]
    },
    {
      "cell_type": "code",
      "source": [
        "\n",
        "data_path = util.download_and_unzip(url, out_dir)\n",
        "corpus, queries, qrels = GenericDataLoader(data_path).load(split=\"test\") # or split = \"train\" or \"dev\"\n"
      ],
      "metadata": {
        "colab": {
          "base_uri": "https://localhost:8080/",
          "height": 49,
          "referenced_widgets": [
            "086bf09d83f24cbd973526e88089b802",
            "aa23ff3fac3f465da2c8e2c2d290d904",
            "90d8aac8e5a54d53ba261c407651ed8b",
            "433f93ee7e44491ea3b59e741b298494",
            "f6abf753f9c54d76a9e1a888d61d618a",
            "da89ef97feb143498230c77a29f54d72",
            "40144f984fc5455a97203e6e15d3bd68",
            "2ef3ae0fbe9f4496b40421df401d99a4",
            "c40c8b00f403404ab764cd5e5e188a54",
            "4c2bd394ed5a49b0ae13f7e10df02c04",
            "1635daea4df541cea4ad2b5692bb9b40"
          ]
        },
        "id": "2Aq22lsp_jUt",
        "outputId": "6588e33f-9d51-474c-b9a5-9f68b2faf648"
      },
      "execution_count": 3,
      "outputs": [
        {
          "output_type": "display_data",
          "data": {
            "text/plain": [
              "  0%|          | 0/3633 [00:00<?, ?it/s]"
            ],
            "application/vnd.jupyter.widget-view+json": {
              "version_major": 2,
              "version_minor": 0,
              "model_id": "086bf09d83f24cbd973526e88089b802"
            }
          },
          "metadata": {}
        }
      ]
    },
    {
      "cell_type": "code",
      "source": [
        "sorted(list(corpus.keys()))[3]"
      ],
      "metadata": {
        "colab": {
          "base_uri": "https://localhost:8080/",
          "height": 36
        },
        "id": "bDmjvOLz7yK9",
        "outputId": "3de31810-ce36-4db3-b871-b3cf10fa2e7a"
      },
      "execution_count": 4,
      "outputs": [
        {
          "output_type": "execute_result",
          "data": {
            "text/plain": [
              "'MED-1003'"
            ],
            "application/vnd.google.colaboratory.intrinsic+json": {
              "type": "string"
            }
          },
          "metadata": {},
          "execution_count": 4
        }
      ]
    },
    {
      "cell_type": "markdown",
      "source": [
        "# Co-condensor"
      ],
      "metadata": {
        "id": "XDjURS7z2EYX"
      }
    },
    {
      "cell_type": "code",
      "source": [
        "len(corpus)"
      ],
      "metadata": {
        "colab": {
          "base_uri": "https://localhost:8080/"
        },
        "id": "BaNknLw61rRb",
        "outputId": "878896ba-d67b-4520-d0ef-1e915d0e0eee"
      },
      "execution_count": 5,
      "outputs": [
        {
          "output_type": "execute_result",
          "data": {
            "text/plain": [
              "3633"
            ]
          },
          "metadata": {},
          "execution_count": 5
        }
      ]
    },
    {
      "cell_type": "code",
      "source": [
        "model_path = \"sentence-transformers/msmarco-bert-co-condensor\"\n",
        "model = models.SentenceBERT(model_path=model_path)\n",
        "normalize = True\n"
      ],
      "metadata": {
        "id": "4zfYMaRC2e8X"
      },
      "execution_count": 6,
      "outputs": []
    },
    {
      "cell_type": "code",
      "source": [
        "model = DRES(model, batch_size=16)\n",
        "retriever = EvaluateRetrieval(model, score_function=\"cos_sim\") # or \"cos_sim\" for cosine similarity\n",
        "results = retriever.retrieve(corpus, queries)"
      ],
      "metadata": {
        "colab": {
          "base_uri": "https://localhost:8080/",
          "height": 81,
          "referenced_widgets": [
            "216798d3fd824f3ab712bba001a1005d",
            "7ab47972a1c1446d90ad070d5ac00a61",
            "88a678e76a6144bab4099f410c19e517",
            "c39fdeae909844a486a812b4c60aa0ec",
            "79fc51a0213c4b3e96a11d22b329e833",
            "fc27fa9ce83045dd8f3f2bcfde7a34e4",
            "f7658cc0f24e4a1fb557d347a0696ad0",
            "37cc5fd69ccb4c0196bf1bedccfc6cb8",
            "f58d71e91ca6429684802ccfca831eae",
            "0afbbad2d6eb48a394330ab4a3b4de9b",
            "d121f9fa6e734157996a2a897415adb0",
            "ed186f3949944cab85db007c93c42f11",
            "41226abb1c54438f862dff5e499ee85d",
            "b51dfb9d0c394ed1ae8792ec880e7476",
            "463c721a3196412ba2f0dee59ee82a4b",
            "42dac39e2c6e43af9434ee519fdae124",
            "667944dc0fb44e24a59a61188edf1d6f",
            "3f0ee1f45c134bcb853fd0f0beef6941",
            "49e630a905094d6dbfc58edab87dc83a",
            "e5abf91111164187b71df5fc5fa3ea28",
            "def4d7c3db464ac3bf89c2d6ccc7c227",
            "385ed894677e46a0afb325ccac353e3f"
          ]
        },
        "id": "C1knWU-W3WFv",
        "outputId": "097bd396-d8c7-4301-e2cd-4ea854d1a8e4"
      },
      "execution_count": 7,
      "outputs": [
        {
          "output_type": "display_data",
          "data": {
            "text/plain": [
              "Batches:   0%|          | 0/21 [00:00<?, ?it/s]"
            ],
            "application/vnd.jupyter.widget-view+json": {
              "version_major": 2,
              "version_minor": 0,
              "model_id": "216798d3fd824f3ab712bba001a1005d"
            }
          },
          "metadata": {}
        },
        {
          "output_type": "display_data",
          "data": {
            "text/plain": [
              "Batches:   0%|          | 0/228 [00:00<?, ?it/s]"
            ],
            "application/vnd.jupyter.widget-view+json": {
              "version_major": 2,
              "version_minor": 0,
              "model_id": "ed186f3949944cab85db007c93c42f11"
            }
          },
          "metadata": {}
        }
      ]
    },
    {
      "cell_type": "code",
      "source": [
        "from collections import defaultdict\n",
        "import pandas as pd\n",
        "\n",
        "table = defaultdict(list)\n",
        "\n",
        "for key in results.keys():\n",
        "    table['query'].append(key)\n",
        "    top_5 = sorted(results[key].items(), key=lambda x: x[1], reverse=True)[:5]\n",
        "    table['word-count'].append(len(queries[key].split()))\n",
        "    table['length-of-string'].append(len(queries[key]))\n",
        "    table['top-1'].append(top_5[0][1])\n",
        "    table['top-2'].append(top_5[1][1])\n",
        "    table['top-3'].append(top_5[2][1])\n",
        "    table['top-4'].append(top_5[3][1])\n",
        "    table['top-5'].append(top_5[4][1])\n",
        "\n",
        "df = pd.DataFrame(table)\n",
        "df.to_csv('scores.csv')\n",
        "df"
      ],
      "metadata": {
        "id": "e6_sJHufThru",
        "outputId": "0fddade8-9a82-49f8-9047-e64b6d1b7c6f",
        "colab": {
          "base_uri": "https://localhost:8080/",
          "height": 423
        }
      },
      "execution_count": 8,
      "outputs": [
        {
          "output_type": "execute_result",
          "data": {
            "text/plain": [
              "          query  word-count  length-of-string     top-1     top-2     top-3  \\\n",
              "0       PLAIN-2           7                48  0.927542  0.916851  0.915573   \n",
              "1      PLAIN-12           5                35  0.892237  0.889848  0.876666   \n",
              "2      PLAIN-23           9                56  0.907913  0.903687  0.903596   \n",
              "3      PLAIN-33           5                41  0.937557  0.926978  0.916476   \n",
              "4      PLAIN-44           6                37  0.895952  0.894301  0.891559   \n",
              "..          ...         ...               ...       ...       ...       ...   \n",
              "318  PLAIN-3432           3                28  0.889595  0.884487  0.883014   \n",
              "319  PLAIN-3442           3                25  0.899829  0.898578  0.895365   \n",
              "320  PLAIN-3452           3                24  0.911192  0.910800  0.901904   \n",
              "321  PLAIN-3462           5                29  0.917739  0.912018  0.901222   \n",
              "322  PLAIN-3472           9                53  0.884122  0.882942  0.880216   \n",
              "\n",
              "        top-4     top-5  \n",
              "0    0.915447  0.907110  \n",
              "1    0.876179  0.875974  \n",
              "2    0.901673  0.901383  \n",
              "3    0.905681  0.900663  \n",
              "4    0.887764  0.886433  \n",
              "..        ...       ...  \n",
              "318  0.882512  0.881440  \n",
              "319  0.894648  0.889610  \n",
              "320  0.898044  0.895320  \n",
              "321  0.899708  0.899583  \n",
              "322  0.877565  0.875942  \n",
              "\n",
              "[323 rows x 8 columns]"
            ],
            "text/html": [
              "\n",
              "  <div id=\"df-7618e367-a70f-477a-b513-7a2f32e62e26\">\n",
              "    <div class=\"colab-df-container\">\n",
              "      <div>\n",
              "<style scoped>\n",
              "    .dataframe tbody tr th:only-of-type {\n",
              "        vertical-align: middle;\n",
              "    }\n",
              "\n",
              "    .dataframe tbody tr th {\n",
              "        vertical-align: top;\n",
              "    }\n",
              "\n",
              "    .dataframe thead th {\n",
              "        text-align: right;\n",
              "    }\n",
              "</style>\n",
              "<table border=\"1\" class=\"dataframe\">\n",
              "  <thead>\n",
              "    <tr style=\"text-align: right;\">\n",
              "      <th></th>\n",
              "      <th>query</th>\n",
              "      <th>word-count</th>\n",
              "      <th>length-of-string</th>\n",
              "      <th>top-1</th>\n",
              "      <th>top-2</th>\n",
              "      <th>top-3</th>\n",
              "      <th>top-4</th>\n",
              "      <th>top-5</th>\n",
              "    </tr>\n",
              "  </thead>\n",
              "  <tbody>\n",
              "    <tr>\n",
              "      <th>0</th>\n",
              "      <td>PLAIN-2</td>\n",
              "      <td>7</td>\n",
              "      <td>48</td>\n",
              "      <td>0.927542</td>\n",
              "      <td>0.916851</td>\n",
              "      <td>0.915573</td>\n",
              "      <td>0.915447</td>\n",
              "      <td>0.907110</td>\n",
              "    </tr>\n",
              "    <tr>\n",
              "      <th>1</th>\n",
              "      <td>PLAIN-12</td>\n",
              "      <td>5</td>\n",
              "      <td>35</td>\n",
              "      <td>0.892237</td>\n",
              "      <td>0.889848</td>\n",
              "      <td>0.876666</td>\n",
              "      <td>0.876179</td>\n",
              "      <td>0.875974</td>\n",
              "    </tr>\n",
              "    <tr>\n",
              "      <th>2</th>\n",
              "      <td>PLAIN-23</td>\n",
              "      <td>9</td>\n",
              "      <td>56</td>\n",
              "      <td>0.907913</td>\n",
              "      <td>0.903687</td>\n",
              "      <td>0.903596</td>\n",
              "      <td>0.901673</td>\n",
              "      <td>0.901383</td>\n",
              "    </tr>\n",
              "    <tr>\n",
              "      <th>3</th>\n",
              "      <td>PLAIN-33</td>\n",
              "      <td>5</td>\n",
              "      <td>41</td>\n",
              "      <td>0.937557</td>\n",
              "      <td>0.926978</td>\n",
              "      <td>0.916476</td>\n",
              "      <td>0.905681</td>\n",
              "      <td>0.900663</td>\n",
              "    </tr>\n",
              "    <tr>\n",
              "      <th>4</th>\n",
              "      <td>PLAIN-44</td>\n",
              "      <td>6</td>\n",
              "      <td>37</td>\n",
              "      <td>0.895952</td>\n",
              "      <td>0.894301</td>\n",
              "      <td>0.891559</td>\n",
              "      <td>0.887764</td>\n",
              "      <td>0.886433</td>\n",
              "    </tr>\n",
              "    <tr>\n",
              "      <th>...</th>\n",
              "      <td>...</td>\n",
              "      <td>...</td>\n",
              "      <td>...</td>\n",
              "      <td>...</td>\n",
              "      <td>...</td>\n",
              "      <td>...</td>\n",
              "      <td>...</td>\n",
              "      <td>...</td>\n",
              "    </tr>\n",
              "    <tr>\n",
              "      <th>318</th>\n",
              "      <td>PLAIN-3432</td>\n",
              "      <td>3</td>\n",
              "      <td>28</td>\n",
              "      <td>0.889595</td>\n",
              "      <td>0.884487</td>\n",
              "      <td>0.883014</td>\n",
              "      <td>0.882512</td>\n",
              "      <td>0.881440</td>\n",
              "    </tr>\n",
              "    <tr>\n",
              "      <th>319</th>\n",
              "      <td>PLAIN-3442</td>\n",
              "      <td>3</td>\n",
              "      <td>25</td>\n",
              "      <td>0.899829</td>\n",
              "      <td>0.898578</td>\n",
              "      <td>0.895365</td>\n",
              "      <td>0.894648</td>\n",
              "      <td>0.889610</td>\n",
              "    </tr>\n",
              "    <tr>\n",
              "      <th>320</th>\n",
              "      <td>PLAIN-3452</td>\n",
              "      <td>3</td>\n",
              "      <td>24</td>\n",
              "      <td>0.911192</td>\n",
              "      <td>0.910800</td>\n",
              "      <td>0.901904</td>\n",
              "      <td>0.898044</td>\n",
              "      <td>0.895320</td>\n",
              "    </tr>\n",
              "    <tr>\n",
              "      <th>321</th>\n",
              "      <td>PLAIN-3462</td>\n",
              "      <td>5</td>\n",
              "      <td>29</td>\n",
              "      <td>0.917739</td>\n",
              "      <td>0.912018</td>\n",
              "      <td>0.901222</td>\n",
              "      <td>0.899708</td>\n",
              "      <td>0.899583</td>\n",
              "    </tr>\n",
              "    <tr>\n",
              "      <th>322</th>\n",
              "      <td>PLAIN-3472</td>\n",
              "      <td>9</td>\n",
              "      <td>53</td>\n",
              "      <td>0.884122</td>\n",
              "      <td>0.882942</td>\n",
              "      <td>0.880216</td>\n",
              "      <td>0.877565</td>\n",
              "      <td>0.875942</td>\n",
              "    </tr>\n",
              "  </tbody>\n",
              "</table>\n",
              "<p>323 rows × 8 columns</p>\n",
              "</div>\n",
              "      <button class=\"colab-df-convert\" onclick=\"convertToInteractive('df-7618e367-a70f-477a-b513-7a2f32e62e26')\"\n",
              "              title=\"Convert this dataframe to an interactive table.\"\n",
              "              style=\"display:none;\">\n",
              "        \n",
              "  <svg xmlns=\"http://www.w3.org/2000/svg\" height=\"24px\"viewBox=\"0 0 24 24\"\n",
              "       width=\"24px\">\n",
              "    <path d=\"M0 0h24v24H0V0z\" fill=\"none\"/>\n",
              "    <path d=\"M18.56 5.44l.94 2.06.94-2.06 2.06-.94-2.06-.94-.94-2.06-.94 2.06-2.06.94zm-11 1L8.5 8.5l.94-2.06 2.06-.94-2.06-.94L8.5 2.5l-.94 2.06-2.06.94zm10 10l.94 2.06.94-2.06 2.06-.94-2.06-.94-.94-2.06-.94 2.06-2.06.94z\"/><path d=\"M17.41 7.96l-1.37-1.37c-.4-.4-.92-.59-1.43-.59-.52 0-1.04.2-1.43.59L10.3 9.45l-7.72 7.72c-.78.78-.78 2.05 0 2.83L4 21.41c.39.39.9.59 1.41.59.51 0 1.02-.2 1.41-.59l7.78-7.78 2.81-2.81c.8-.78.8-2.07 0-2.86zM5.41 20L4 18.59l7.72-7.72 1.47 1.35L5.41 20z\"/>\n",
              "  </svg>\n",
              "      </button>\n",
              "      \n",
              "  <style>\n",
              "    .colab-df-container {\n",
              "      display:flex;\n",
              "      flex-wrap:wrap;\n",
              "      gap: 12px;\n",
              "    }\n",
              "\n",
              "    .colab-df-convert {\n",
              "      background-color: #E8F0FE;\n",
              "      border: none;\n",
              "      border-radius: 50%;\n",
              "      cursor: pointer;\n",
              "      display: none;\n",
              "      fill: #1967D2;\n",
              "      height: 32px;\n",
              "      padding: 0 0 0 0;\n",
              "      width: 32px;\n",
              "    }\n",
              "\n",
              "    .colab-df-convert:hover {\n",
              "      background-color: #E2EBFA;\n",
              "      box-shadow: 0px 1px 2px rgba(60, 64, 67, 0.3), 0px 1px 3px 1px rgba(60, 64, 67, 0.15);\n",
              "      fill: #174EA6;\n",
              "    }\n",
              "\n",
              "    [theme=dark] .colab-df-convert {\n",
              "      background-color: #3B4455;\n",
              "      fill: #D2E3FC;\n",
              "    }\n",
              "\n",
              "    [theme=dark] .colab-df-convert:hover {\n",
              "      background-color: #434B5C;\n",
              "      box-shadow: 0px 1px 3px 1px rgba(0, 0, 0, 0.15);\n",
              "      filter: drop-shadow(0px 1px 2px rgba(0, 0, 0, 0.3));\n",
              "      fill: #FFFFFF;\n",
              "    }\n",
              "  </style>\n",
              "\n",
              "      <script>\n",
              "        const buttonEl =\n",
              "          document.querySelector('#df-7618e367-a70f-477a-b513-7a2f32e62e26 button.colab-df-convert');\n",
              "        buttonEl.style.display =\n",
              "          google.colab.kernel.accessAllowed ? 'block' : 'none';\n",
              "\n",
              "        async function convertToInteractive(key) {\n",
              "          const element = document.querySelector('#df-7618e367-a70f-477a-b513-7a2f32e62e26');\n",
              "          const dataTable =\n",
              "            await google.colab.kernel.invokeFunction('convertToInteractive',\n",
              "                                                     [key], {});\n",
              "          if (!dataTable) return;\n",
              "\n",
              "          const docLinkHtml = 'Like what you see? Visit the ' +\n",
              "            '<a target=\"_blank\" href=https://colab.research.google.com/notebooks/data_table.ipynb>data table notebook</a>'\n",
              "            + ' to learn more about interactive tables.';\n",
              "          element.innerHTML = '';\n",
              "          dataTable['output_type'] = 'display_data';\n",
              "          await google.colab.output.renderOutput(dataTable, element);\n",
              "          const docLink = document.createElement('div');\n",
              "          docLink.innerHTML = docLinkHtml;\n",
              "          element.appendChild(docLink);\n",
              "        }\n",
              "      </script>\n",
              "    </div>\n",
              "  </div>\n",
              "  "
            ]
          },
          "metadata": {},
          "execution_count": 8
        }
      ]
    },
    {
      "cell_type": "code",
      "source": [
        "ndcg, _map, recall, precision = retriever.evaluate(qrels, results, retriever.k_values)"
      ],
      "metadata": {
        "id": "LRb_rrpc_X2I"
      },
      "execution_count": 9,
      "outputs": []
    },
    {
      "cell_type": "code",
      "source": [
        "ndcg"
      ],
      "metadata": {
        "colab": {
          "base_uri": "https://localhost:8080/"
        },
        "id": "3hHNeWjzAN4U",
        "outputId": "9320b4bf-6c10-47bb-a72d-c93b748ee5b8"
      },
      "execution_count": 10,
      "outputs": [
        {
          "output_type": "execute_result",
          "data": {
            "text/plain": [
              "{'NDCG@1': 0.31424,\n",
              " 'NDCG@3': 0.26734,\n",
              " 'NDCG@5': 0.24832,\n",
              " 'NDCG@10': 0.22291,\n",
              " 'NDCG@100': 0.21449,\n",
              " 'NDCG@1000': 0.30686}"
            ]
          },
          "metadata": {},
          "execution_count": 10
        }
      ]
    },
    {
      "cell_type": "code",
      "source": [
        "_map"
      ],
      "metadata": {
        "colab": {
          "base_uri": "https://localhost:8080/"
        },
        "id": "ngojYqkCAPUk",
        "outputId": "94d66dae-0561-463f-efd2-861e764ee3d4"
      },
      "execution_count": 11,
      "outputs": [
        {
          "output_type": "execute_result",
          "data": {
            "text/plain": [
              "{'MAP@1': 0.0326,\n",
              " 'MAP@3': 0.05217,\n",
              " 'MAP@5': 0.06111,\n",
              " 'MAP@10': 0.07113,\n",
              " 'MAP@100': 0.08904,\n",
              " 'MAP@1000': 0.09989}"
            ]
          },
          "metadata": {},
          "execution_count": 11
        }
      ]
    },
    {
      "cell_type": "code",
      "source": [
        "recall"
      ],
      "metadata": {
        "colab": {
          "base_uri": "https://localhost:8080/"
        },
        "id": "cZW7pNQCAcfp",
        "outputId": "e686fe3e-689a-4577-cd58-808bd12b9287"
      },
      "execution_count": 12,
      "outputs": [
        {
          "output_type": "execute_result",
          "data": {
            "text/plain": [
              "{'Recall@1': 0.0326,\n",
              " 'Recall@3': 0.06202,\n",
              " 'Recall@5': 0.08132,\n",
              " 'Recall@10': 0.10277,\n",
              " 'Recall@100': 0.24231,\n",
              " 'Recall@1000': 0.56055}"
            ]
          },
          "metadata": {},
          "execution_count": 12
        }
      ]
    },
    {
      "cell_type": "code",
      "source": [
        "precision"
      ],
      "metadata": {
        "colab": {
          "base_uri": "https://localhost:8080/"
        },
        "id": "BLS0bvS7AfiN",
        "outputId": "d93d4b3a-92bb-4f0a-9205-ffaacbbd18c2"
      },
      "execution_count": 13,
      "outputs": [
        {
          "output_type": "execute_result",
          "data": {
            "text/plain": [
              "{'P@1': 0.33127,\n",
              " 'P@3': 0.2549,\n",
              " 'P@5': 0.21734,\n",
              " 'P@10': 0.16656,\n",
              " 'P@100': 0.05375,\n",
              " 'P@1000': 0.01802}"
            ]
          },
          "metadata": {},
          "execution_count": 13
        }
      ]
    },
    {
      "cell_type": "code",
      "source": [
        "import random\n",
        "random.seed(250)\n",
        "\n",
        "#### Print top-k documents retrieved ####\n",
        "top_k = 5\n",
        "\n",
        "query_id, ranking_scores = random.choice(list(results.items()))\n"
      ],
      "metadata": {
        "id": "CK37sk3NAgGU"
      },
      "execution_count": 14,
      "outputs": []
    },
    {
      "cell_type": "code",
      "source": [
        "query_id"
      ],
      "metadata": {
        "colab": {
          "base_uri": "https://localhost:8080/",
          "height": 36
        },
        "id": "G5U5zfcRAwRi",
        "outputId": "c7627338-cd22-4042-9a2f-18f705290f9c"
      },
      "execution_count": 15,
      "outputs": [
        {
          "output_type": "execute_result",
          "data": {
            "text/plain": [
              "'PLAIN-2177'"
            ],
            "application/vnd.google.colaboratory.intrinsic+json": {
              "type": "string"
            }
          },
          "metadata": {},
          "execution_count": 15
        }
      ]
    },
    {
      "cell_type": "code",
      "source": [
        "len(ranking_scores)"
      ],
      "metadata": {
        "colab": {
          "base_uri": "https://localhost:8080/"
        },
        "id": "gxNEJtBDBXvI",
        "outputId": "ad0cbfd6-07f2-4d53-8f2f-aad655d07360"
      },
      "execution_count": 16,
      "outputs": [
        {
          "output_type": "execute_result",
          "data": {
            "text/plain": [
              "1001"
            ]
          },
          "metadata": {},
          "execution_count": 16
        }
      ]
    },
    {
      "cell_type": "code",
      "source": [
        "scores_sorted = sorted(ranking_scores.items(), key=lambda item: item[1], reverse=True)\n",
        "print(\"Query : %s\\n\" % queries[query_id])\n",
        "\n",
        "for rank in range(min(top_k, len(ranking_scores))):\n",
        "    doc_id = scores_sorted[rank][0]\n",
        "    # Format: Rank x: ID [Title] Body\n",
        "    print(\"Rank %d: %s [%s] - %s\\n\" % (rank+1, doc_id, corpus[doc_id].get(\"title\"), corpus[doc_id].get(\"text\")))"
      ],
      "metadata": {
        "colab": {
          "base_uri": "https://localhost:8080/"
        },
        "id": "YRlfrq5dAsZh",
        "outputId": "1da5a23a-6e34-4089-8c20-4052b2036c9c"
      },
      "execution_count": 17,
      "outputs": [
        {
          "output_type": "stream",
          "name": "stdout",
          "text": [
            "Query : sulfur\n",
            "\n",
            "Rank 1: MED-1185 [Sulfite sensitivity: significance in human health.] - Endogenous sulfite is generated as a consequence of the body's normal processing of sulfur-containing amino acids. Sulfites occur as a consequence of fermentation and also occur naturally in a number of foods and beverages. As food additives, sulfiting agents were first used in 1664 and approved in the United States as long ago as the 1800s. With such long experience with their use, it is easy to understand why these substances have been regarded as safe. They are currently used for a variety of preservative properties, including controlling microbial growth, preventing browning and spoilage, and bleaching some foods. It is estimated that up to 500,000 (< .05% of the population) sulfite-sensitive individuals live in the United States. Sulfite sensitivity occurs most often in asthmatic adults--predominantly women; it is uncommonly reported in preschool children. Adverse reactions to sulfites in nonasthmatics are extremely rare. Asthmatics who are steroid-dependent or who have a higher degree of airway hyperreactivity may be at greater risk of experiencing a reaction to sulfite-containing foods. Even within this limited population, sulfite sensitivity reactions vary widely, ranging from no reaction to severe. The majority of reactions are mild. These manifestations may include dermatologic, respiratory, or gastrointestinal signs and symptoms. Severe nonspecific signs and symptoms occur less commonly. Broncho-constriction is the most common sensitivity response in asthmatics. The precise mechanisms of the sensitivity responses have not been completely elucidated. Inhalation of sulfur dioxide (SO2) generated in the stomach following ingestion of sulfite-containing foods or beverages, a deficiency in a mitochondrial enzyme, and an IgE-mediated immune response have all been implicated.(ABSTRACT TRUNCATED AT 250 WORDS)\n",
            "\n",
            "Rank 2: MED-4176 [Perfluorooctanesulfonate and related fluorochemicals in human blood samples from China.] - Perfluorooctanesulfonylfluoride (POSF)-based compounds have been manufactured and used in a variety of industrial applications. These compounds degrade to perfluorooctanesulfonate (PFOS) which is regarded as a persistent end-stage metabolite and is found to accumulate in tissues of humans and wildlife. PFOS, perfluorohexanesulfonate (PFHxS), perfluorooctanoate (PFOA), and perfluorooctanesulfonamide (PFOSA) have been found in human sera from the United States. In this study, concentrations of PFHxS, perfluorobutanesulfonate (PFBS), PFOS, perfluorohexanoic acid (PFHxA), PFOA, perfluorononanoic acid (PFNA), perfluorodecanoic acid (PFDA), perfluoroundecanoic acid (PFUnDA), perfluorododecanoic acid (PFDoDA), and PFOSA were measured in 85 samples of whole human blood collected from nine cities (eight provinces) in China, including Shenyang (Liaoning), Beijing (Hebei), Zhengzhou (Henan), Jintan (Jiangsu), Wuhan (Hubei), Zhoushan (Zhejiang), Guiyang (Guizhou), Xiamen (Fujian), and Fuzhou (Fujian). Among the 10 perfluorinated compounds (PFCs) measured, PFOS was the predominant compound. The mean concentration of PFOS was greatest in samples collected from Shenyang (79.2 ng/mL) and least in samples from Jintan (3.72 ng/mL). PFHxS was the next most abundant perfluorochemical in the samples. No age-related differences in the concentrations of PFOA, PFOS, PFOSA, and PFHxS were observed. Gender-related differences were found,with males higher for PFOS and PFHxS, and females higher in PFUnDA. Concentrations of PFHxS were positively correlated with those of PFOS, while concentrations of PFNA, PFDA, and PFUnDA were positively correlated with those of PFOA. There were differences in the concentration profiles (percentage composition) of various PFCs in the samples among the nine cities.\n",
            "\n",
            "Rank 3: MED-2489 [Agricultural policies, food and public health] - A historical view on how our agricultural systems evolved and how they are contributing to obesity and disease.\n",
            "\n",
            "Rank 4: MED-4995 [Salicylic Acid sans Aspirin in Animals and Man: Persistence in Fasting and Biosynthesis from Benzoic Acid] - Salicylic acid (SA), which is central to defense mechanisms in plants and the principal metabolite of aspirin, occurs naturally in man with higher levels of SA and its urinary metabolite salicyluric acid (SU) in vegetarians overlapping with levels in patients on low-dose aspirin regimens. SA is widely distributed in animal blood. Fasting for major colorectal surgery did not cause disappearance of SA from plasma, even in patients following total proctocolectomy. A 13C6 benzoic acid load ingested by six volunteers led, between 8 and 16 h, to a median 33.9% labeling of urinary salicyluric acid. The overall contribution of benzoic acid (and its salts) to the turnover of circulating SA thus requires further assessment. However, that SA appears to be, at least partially, an endogenous compound should lead to reassessment of its role in human (and animal) pathophysiology.\n",
            "\n",
            "Rank 5: MED-2997 [The Etiological Significance of Related Diseases] - If disease patterns emerge which show that certain diseases can be related, this is a valuable pointer to a common cause. This article traces the principle of interpreting disease relationships, illustrated by several common conditions of western civilization, for which the common cause is postulated as being removal of fiber from the diet.\n",
            "\n"
          ]
        }
      ]
    }
  ]
}