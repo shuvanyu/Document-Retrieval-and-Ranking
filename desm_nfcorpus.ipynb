{
  "nbformat": 4,
  "nbformat_minor": 0,
  "metadata": {
    "colab": {
      "provenance": [],
      "collapsed_sections": [
        "Yu34CR5hk0KS",
        "-0GqfppK_1wH"
      ],
      "mount_file_id": "1GRe05f6BJsyqm0AqPyTJniJ0XNHjmIqc",
      "authorship_tag": "ABX9TyOa+gx0YlCBPt3nejJ9/5CQ",
      "include_colab_link": true
    },
    "kernelspec": {
      "name": "python3",
      "display_name": "Python 3"
    },
    "language_info": {
      "name": "python"
    },
    "widgets": {
      "application/vnd.jupyter.widget-state+json": {
        "cac57293b17e4018899219e900150619": {
          "model_module": "@jupyter-widgets/controls",
          "model_name": "HBoxModel",
          "model_module_version": "1.5.0",
          "state": {
            "_dom_classes": [],
            "_model_module": "@jupyter-widgets/controls",
            "_model_module_version": "1.5.0",
            "_model_name": "HBoxModel",
            "_view_count": null,
            "_view_module": "@jupyter-widgets/controls",
            "_view_module_version": "1.5.0",
            "_view_name": "HBoxView",
            "box_style": "",
            "children": [
              "IPY_MODEL_e258be68d355497fb3282a041b87313b",
              "IPY_MODEL_7067843cc4c4438c99f01a29df681336",
              "IPY_MODEL_bed4147f54114206b976806ed98725b2"
            ],
            "layout": "IPY_MODEL_51be3550e10643e784e49ef02cb2cab9"
          }
        },
        "e258be68d355497fb3282a041b87313b": {
          "model_module": "@jupyter-widgets/controls",
          "model_name": "HTMLModel",
          "model_module_version": "1.5.0",
          "state": {
            "_dom_classes": [],
            "_model_module": "@jupyter-widgets/controls",
            "_model_module_version": "1.5.0",
            "_model_name": "HTMLModel",
            "_view_count": null,
            "_view_module": "@jupyter-widgets/controls",
            "_view_module_version": "1.5.0",
            "_view_name": "HTMLView",
            "description": "",
            "description_tooltip": null,
            "layout": "IPY_MODEL_a31cb4deb6c64922a45f795cd9d6b0cb",
            "placeholder": "​",
            "style": "IPY_MODEL_b14284f0d6c64425be2e82bc43fbf20f",
            "value": "100%"
          }
        },
        "7067843cc4c4438c99f01a29df681336": {
          "model_module": "@jupyter-widgets/controls",
          "model_name": "FloatProgressModel",
          "model_module_version": "1.5.0",
          "state": {
            "_dom_classes": [],
            "_model_module": "@jupyter-widgets/controls",
            "_model_module_version": "1.5.0",
            "_model_name": "FloatProgressModel",
            "_view_count": null,
            "_view_module": "@jupyter-widgets/controls",
            "_view_module_version": "1.5.0",
            "_view_name": "ProgressView",
            "bar_style": "success",
            "description": "",
            "description_tooltip": null,
            "layout": "IPY_MODEL_88808a6486794fc4ba11005eb7b98a2d",
            "max": 3633,
            "min": 0,
            "orientation": "horizontal",
            "style": "IPY_MODEL_1c847b41d63a46d483167b676a7aa35d",
            "value": 3633
          }
        },
        "bed4147f54114206b976806ed98725b2": {
          "model_module": "@jupyter-widgets/controls",
          "model_name": "HTMLModel",
          "model_module_version": "1.5.0",
          "state": {
            "_dom_classes": [],
            "_model_module": "@jupyter-widgets/controls",
            "_model_module_version": "1.5.0",
            "_model_name": "HTMLModel",
            "_view_count": null,
            "_view_module": "@jupyter-widgets/controls",
            "_view_module_version": "1.5.0",
            "_view_name": "HTMLView",
            "description": "",
            "description_tooltip": null,
            "layout": "IPY_MODEL_847b7a868cc747b09a0a09d51c30d6c8",
            "placeholder": "​",
            "style": "IPY_MODEL_5377424b7bc249809cfefa741752d2d1",
            "value": " 3633/3633 [00:00&lt;00:00, 40596.09it/s]"
          }
        },
        "51be3550e10643e784e49ef02cb2cab9": {
          "model_module": "@jupyter-widgets/base",
          "model_name": "LayoutModel",
          "model_module_version": "1.2.0",
          "state": {
            "_model_module": "@jupyter-widgets/base",
            "_model_module_version": "1.2.0",
            "_model_name": "LayoutModel",
            "_view_count": null,
            "_view_module": "@jupyter-widgets/base",
            "_view_module_version": "1.2.0",
            "_view_name": "LayoutView",
            "align_content": null,
            "align_items": null,
            "align_self": null,
            "border": null,
            "bottom": null,
            "display": null,
            "flex": null,
            "flex_flow": null,
            "grid_area": null,
            "grid_auto_columns": null,
            "grid_auto_flow": null,
            "grid_auto_rows": null,
            "grid_column": null,
            "grid_gap": null,
            "grid_row": null,
            "grid_template_areas": null,
            "grid_template_columns": null,
            "grid_template_rows": null,
            "height": null,
            "justify_content": null,
            "justify_items": null,
            "left": null,
            "margin": null,
            "max_height": null,
            "max_width": null,
            "min_height": null,
            "min_width": null,
            "object_fit": null,
            "object_position": null,
            "order": null,
            "overflow": null,
            "overflow_x": null,
            "overflow_y": null,
            "padding": null,
            "right": null,
            "top": null,
            "visibility": null,
            "width": null
          }
        },
        "a31cb4deb6c64922a45f795cd9d6b0cb": {
          "model_module": "@jupyter-widgets/base",
          "model_name": "LayoutModel",
          "model_module_version": "1.2.0",
          "state": {
            "_model_module": "@jupyter-widgets/base",
            "_model_module_version": "1.2.0",
            "_model_name": "LayoutModel",
            "_view_count": null,
            "_view_module": "@jupyter-widgets/base",
            "_view_module_version": "1.2.0",
            "_view_name": "LayoutView",
            "align_content": null,
            "align_items": null,
            "align_self": null,
            "border": null,
            "bottom": null,
            "display": null,
            "flex": null,
            "flex_flow": null,
            "grid_area": null,
            "grid_auto_columns": null,
            "grid_auto_flow": null,
            "grid_auto_rows": null,
            "grid_column": null,
            "grid_gap": null,
            "grid_row": null,
            "grid_template_areas": null,
            "grid_template_columns": null,
            "grid_template_rows": null,
            "height": null,
            "justify_content": null,
            "justify_items": null,
            "left": null,
            "margin": null,
            "max_height": null,
            "max_width": null,
            "min_height": null,
            "min_width": null,
            "object_fit": null,
            "object_position": null,
            "order": null,
            "overflow": null,
            "overflow_x": null,
            "overflow_y": null,
            "padding": null,
            "right": null,
            "top": null,
            "visibility": null,
            "width": null
          }
        },
        "b14284f0d6c64425be2e82bc43fbf20f": {
          "model_module": "@jupyter-widgets/controls",
          "model_name": "DescriptionStyleModel",
          "model_module_version": "1.5.0",
          "state": {
            "_model_module": "@jupyter-widgets/controls",
            "_model_module_version": "1.5.0",
            "_model_name": "DescriptionStyleModel",
            "_view_count": null,
            "_view_module": "@jupyter-widgets/base",
            "_view_module_version": "1.2.0",
            "_view_name": "StyleView",
            "description_width": ""
          }
        },
        "88808a6486794fc4ba11005eb7b98a2d": {
          "model_module": "@jupyter-widgets/base",
          "model_name": "LayoutModel",
          "model_module_version": "1.2.0",
          "state": {
            "_model_module": "@jupyter-widgets/base",
            "_model_module_version": "1.2.0",
            "_model_name": "LayoutModel",
            "_view_count": null,
            "_view_module": "@jupyter-widgets/base",
            "_view_module_version": "1.2.0",
            "_view_name": "LayoutView",
            "align_content": null,
            "align_items": null,
            "align_self": null,
            "border": null,
            "bottom": null,
            "display": null,
            "flex": null,
            "flex_flow": null,
            "grid_area": null,
            "grid_auto_columns": null,
            "grid_auto_flow": null,
            "grid_auto_rows": null,
            "grid_column": null,
            "grid_gap": null,
            "grid_row": null,
            "grid_template_areas": null,
            "grid_template_columns": null,
            "grid_template_rows": null,
            "height": null,
            "justify_content": null,
            "justify_items": null,
            "left": null,
            "margin": null,
            "max_height": null,
            "max_width": null,
            "min_height": null,
            "min_width": null,
            "object_fit": null,
            "object_position": null,
            "order": null,
            "overflow": null,
            "overflow_x": null,
            "overflow_y": null,
            "padding": null,
            "right": null,
            "top": null,
            "visibility": null,
            "width": null
          }
        },
        "1c847b41d63a46d483167b676a7aa35d": {
          "model_module": "@jupyter-widgets/controls",
          "model_name": "ProgressStyleModel",
          "model_module_version": "1.5.0",
          "state": {
            "_model_module": "@jupyter-widgets/controls",
            "_model_module_version": "1.5.0",
            "_model_name": "ProgressStyleModel",
            "_view_count": null,
            "_view_module": "@jupyter-widgets/base",
            "_view_module_version": "1.2.0",
            "_view_name": "StyleView",
            "bar_color": null,
            "description_width": ""
          }
        },
        "847b7a868cc747b09a0a09d51c30d6c8": {
          "model_module": "@jupyter-widgets/base",
          "model_name": "LayoutModel",
          "model_module_version": "1.2.0",
          "state": {
            "_model_module": "@jupyter-widgets/base",
            "_model_module_version": "1.2.0",
            "_model_name": "LayoutModel",
            "_view_count": null,
            "_view_module": "@jupyter-widgets/base",
            "_view_module_version": "1.2.0",
            "_view_name": "LayoutView",
            "align_content": null,
            "align_items": null,
            "align_self": null,
            "border": null,
            "bottom": null,
            "display": null,
            "flex": null,
            "flex_flow": null,
            "grid_area": null,
            "grid_auto_columns": null,
            "grid_auto_flow": null,
            "grid_auto_rows": null,
            "grid_column": null,
            "grid_gap": null,
            "grid_row": null,
            "grid_template_areas": null,
            "grid_template_columns": null,
            "grid_template_rows": null,
            "height": null,
            "justify_content": null,
            "justify_items": null,
            "left": null,
            "margin": null,
            "max_height": null,
            "max_width": null,
            "min_height": null,
            "min_width": null,
            "object_fit": null,
            "object_position": null,
            "order": null,
            "overflow": null,
            "overflow_x": null,
            "overflow_y": null,
            "padding": null,
            "right": null,
            "top": null,
            "visibility": null,
            "width": null
          }
        },
        "5377424b7bc249809cfefa741752d2d1": {
          "model_module": "@jupyter-widgets/controls",
          "model_name": "DescriptionStyleModel",
          "model_module_version": "1.5.0",
          "state": {
            "_model_module": "@jupyter-widgets/controls",
            "_model_module_version": "1.5.0",
            "_model_name": "DescriptionStyleModel",
            "_view_count": null,
            "_view_module": "@jupyter-widgets/base",
            "_view_module_version": "1.2.0",
            "_view_name": "StyleView",
            "description_width": ""
          }
        },
        "90a5663128024689b9162d189db862ba": {
          "model_module": "@jupyter-widgets/controls",
          "model_name": "HBoxModel",
          "model_module_version": "1.5.0",
          "state": {
            "_dom_classes": [],
            "_model_module": "@jupyter-widgets/controls",
            "_model_module_version": "1.5.0",
            "_model_name": "HBoxModel",
            "_view_count": null,
            "_view_module": "@jupyter-widgets/controls",
            "_view_module_version": "1.5.0",
            "_view_name": "HBoxView",
            "box_style": "",
            "children": [
              "IPY_MODEL_923a022287134b14919472222045c7bc",
              "IPY_MODEL_bc5ec76a27424210a79eb6cbb8f4dbbc",
              "IPY_MODEL_e46f1e85e5b04ac09bae3a123bc12102"
            ],
            "layout": "IPY_MODEL_e7ed06c8e6b94dfb988248350bbaa9f9"
          }
        },
        "923a022287134b14919472222045c7bc": {
          "model_module": "@jupyter-widgets/controls",
          "model_name": "HTMLModel",
          "model_module_version": "1.5.0",
          "state": {
            "_dom_classes": [],
            "_model_module": "@jupyter-widgets/controls",
            "_model_module_version": "1.5.0",
            "_model_name": "HTMLModel",
            "_view_count": null,
            "_view_module": "@jupyter-widgets/controls",
            "_view_module_version": "1.5.0",
            "_view_name": "HTMLView",
            "description": "",
            "description_tooltip": null,
            "layout": "IPY_MODEL_47a59c8603854af5a24a74536143bd26",
            "placeholder": "​",
            "style": "IPY_MODEL_fdc35fae0b3f4b15bcccaf3e5820305d",
            "value": "100%"
          }
        },
        "bc5ec76a27424210a79eb6cbb8f4dbbc": {
          "model_module": "@jupyter-widgets/controls",
          "model_name": "FloatProgressModel",
          "model_module_version": "1.5.0",
          "state": {
            "_dom_classes": [],
            "_model_module": "@jupyter-widgets/controls",
            "_model_module_version": "1.5.0",
            "_model_name": "FloatProgressModel",
            "_view_count": null,
            "_view_module": "@jupyter-widgets/controls",
            "_view_module_version": "1.5.0",
            "_view_name": "ProgressView",
            "bar_style": "success",
            "description": "",
            "description_tooltip": null,
            "layout": "IPY_MODEL_0a823a3bafb04771a64680146586eb24",
            "max": 3633,
            "min": 0,
            "orientation": "horizontal",
            "style": "IPY_MODEL_3154641696124770b58674a6728f9db7",
            "value": 3633
          }
        },
        "e46f1e85e5b04ac09bae3a123bc12102": {
          "model_module": "@jupyter-widgets/controls",
          "model_name": "HTMLModel",
          "model_module_version": "1.5.0",
          "state": {
            "_dom_classes": [],
            "_model_module": "@jupyter-widgets/controls",
            "_model_module_version": "1.5.0",
            "_model_name": "HTMLModel",
            "_view_count": null,
            "_view_module": "@jupyter-widgets/controls",
            "_view_module_version": "1.5.0",
            "_view_name": "HTMLView",
            "description": "",
            "description_tooltip": null,
            "layout": "IPY_MODEL_5be609fe06ae44a6bdb22b755a34db51",
            "placeholder": "​",
            "style": "IPY_MODEL_3b539d763bb549f9881c64ecd4ccf3dc",
            "value": " 3633/3633 [00:00&lt;00:00, 40284.11it/s]"
          }
        },
        "e7ed06c8e6b94dfb988248350bbaa9f9": {
          "model_module": "@jupyter-widgets/base",
          "model_name": "LayoutModel",
          "model_module_version": "1.2.0",
          "state": {
            "_model_module": "@jupyter-widgets/base",
            "_model_module_version": "1.2.0",
            "_model_name": "LayoutModel",
            "_view_count": null,
            "_view_module": "@jupyter-widgets/base",
            "_view_module_version": "1.2.0",
            "_view_name": "LayoutView",
            "align_content": null,
            "align_items": null,
            "align_self": null,
            "border": null,
            "bottom": null,
            "display": null,
            "flex": null,
            "flex_flow": null,
            "grid_area": null,
            "grid_auto_columns": null,
            "grid_auto_flow": null,
            "grid_auto_rows": null,
            "grid_column": null,
            "grid_gap": null,
            "grid_row": null,
            "grid_template_areas": null,
            "grid_template_columns": null,
            "grid_template_rows": null,
            "height": null,
            "justify_content": null,
            "justify_items": null,
            "left": null,
            "margin": null,
            "max_height": null,
            "max_width": null,
            "min_height": null,
            "min_width": null,
            "object_fit": null,
            "object_position": null,
            "order": null,
            "overflow": null,
            "overflow_x": null,
            "overflow_y": null,
            "padding": null,
            "right": null,
            "top": null,
            "visibility": null,
            "width": null
          }
        },
        "47a59c8603854af5a24a74536143bd26": {
          "model_module": "@jupyter-widgets/base",
          "model_name": "LayoutModel",
          "model_module_version": "1.2.0",
          "state": {
            "_model_module": "@jupyter-widgets/base",
            "_model_module_version": "1.2.0",
            "_model_name": "LayoutModel",
            "_view_count": null,
            "_view_module": "@jupyter-widgets/base",
            "_view_module_version": "1.2.0",
            "_view_name": "LayoutView",
            "align_content": null,
            "align_items": null,
            "align_self": null,
            "border": null,
            "bottom": null,
            "display": null,
            "flex": null,
            "flex_flow": null,
            "grid_area": null,
            "grid_auto_columns": null,
            "grid_auto_flow": null,
            "grid_auto_rows": null,
            "grid_column": null,
            "grid_gap": null,
            "grid_row": null,
            "grid_template_areas": null,
            "grid_template_columns": null,
            "grid_template_rows": null,
            "height": null,
            "justify_content": null,
            "justify_items": null,
            "left": null,
            "margin": null,
            "max_height": null,
            "max_width": null,
            "min_height": null,
            "min_width": null,
            "object_fit": null,
            "object_position": null,
            "order": null,
            "overflow": null,
            "overflow_x": null,
            "overflow_y": null,
            "padding": null,
            "right": null,
            "top": null,
            "visibility": null,
            "width": null
          }
        },
        "fdc35fae0b3f4b15bcccaf3e5820305d": {
          "model_module": "@jupyter-widgets/controls",
          "model_name": "DescriptionStyleModel",
          "model_module_version": "1.5.0",
          "state": {
            "_model_module": "@jupyter-widgets/controls",
            "_model_module_version": "1.5.0",
            "_model_name": "DescriptionStyleModel",
            "_view_count": null,
            "_view_module": "@jupyter-widgets/base",
            "_view_module_version": "1.2.0",
            "_view_name": "StyleView",
            "description_width": ""
          }
        },
        "0a823a3bafb04771a64680146586eb24": {
          "model_module": "@jupyter-widgets/base",
          "model_name": "LayoutModel",
          "model_module_version": "1.2.0",
          "state": {
            "_model_module": "@jupyter-widgets/base",
            "_model_module_version": "1.2.0",
            "_model_name": "LayoutModel",
            "_view_count": null,
            "_view_module": "@jupyter-widgets/base",
            "_view_module_version": "1.2.0",
            "_view_name": "LayoutView",
            "align_content": null,
            "align_items": null,
            "align_self": null,
            "border": null,
            "bottom": null,
            "display": null,
            "flex": null,
            "flex_flow": null,
            "grid_area": null,
            "grid_auto_columns": null,
            "grid_auto_flow": null,
            "grid_auto_rows": null,
            "grid_column": null,
            "grid_gap": null,
            "grid_row": null,
            "grid_template_areas": null,
            "grid_template_columns": null,
            "grid_template_rows": null,
            "height": null,
            "justify_content": null,
            "justify_items": null,
            "left": null,
            "margin": null,
            "max_height": null,
            "max_width": null,
            "min_height": null,
            "min_width": null,
            "object_fit": null,
            "object_position": null,
            "order": null,
            "overflow": null,
            "overflow_x": null,
            "overflow_y": null,
            "padding": null,
            "right": null,
            "top": null,
            "visibility": null,
            "width": null
          }
        },
        "3154641696124770b58674a6728f9db7": {
          "model_module": "@jupyter-widgets/controls",
          "model_name": "ProgressStyleModel",
          "model_module_version": "1.5.0",
          "state": {
            "_model_module": "@jupyter-widgets/controls",
            "_model_module_version": "1.5.0",
            "_model_name": "ProgressStyleModel",
            "_view_count": null,
            "_view_module": "@jupyter-widgets/base",
            "_view_module_version": "1.2.0",
            "_view_name": "StyleView",
            "bar_color": null,
            "description_width": ""
          }
        },
        "5be609fe06ae44a6bdb22b755a34db51": {
          "model_module": "@jupyter-widgets/base",
          "model_name": "LayoutModel",
          "model_module_version": "1.2.0",
          "state": {
            "_model_module": "@jupyter-widgets/base",
            "_model_module_version": "1.2.0",
            "_model_name": "LayoutModel",
            "_view_count": null,
            "_view_module": "@jupyter-widgets/base",
            "_view_module_version": "1.2.0",
            "_view_name": "LayoutView",
            "align_content": null,
            "align_items": null,
            "align_self": null,
            "border": null,
            "bottom": null,
            "display": null,
            "flex": null,
            "flex_flow": null,
            "grid_area": null,
            "grid_auto_columns": null,
            "grid_auto_flow": null,
            "grid_auto_rows": null,
            "grid_column": null,
            "grid_gap": null,
            "grid_row": null,
            "grid_template_areas": null,
            "grid_template_columns": null,
            "grid_template_rows": null,
            "height": null,
            "justify_content": null,
            "justify_items": null,
            "left": null,
            "margin": null,
            "max_height": null,
            "max_width": null,
            "min_height": null,
            "min_width": null,
            "object_fit": null,
            "object_position": null,
            "order": null,
            "overflow": null,
            "overflow_x": null,
            "overflow_y": null,
            "padding": null,
            "right": null,
            "top": null,
            "visibility": null,
            "width": null
          }
        },
        "3b539d763bb549f9881c64ecd4ccf3dc": {
          "model_module": "@jupyter-widgets/controls",
          "model_name": "DescriptionStyleModel",
          "model_module_version": "1.5.0",
          "state": {
            "_model_module": "@jupyter-widgets/controls",
            "_model_module_version": "1.5.0",
            "_model_name": "DescriptionStyleModel",
            "_view_count": null,
            "_view_module": "@jupyter-widgets/base",
            "_view_module_version": "1.2.0",
            "_view_name": "StyleView",
            "description_width": ""
          }
        }
      }
    }
  },
  "cells": [
    {
      "cell_type": "markdown",
      "metadata": {
        "id": "view-in-github",
        "colab_type": "text"
      },
      "source": [
        "<a href=\"https://colab.research.google.com/github/shuvanyu/Document-Retrieval-and-Ranking/blob/main/desm_nfcorpus.ipynb\" target=\"_parent\"><img src=\"https://colab.research.google.com/assets/colab-badge.svg\" alt=\"Open In Colab\"/></a>"
      ]
    },
    {
      "cell_type": "markdown",
      "source": [
        "# Prerequisites"
      ],
      "metadata": {
        "id": "Yu34CR5hk0KS"
      }
    },
    {
      "cell_type": "code",
      "execution_count": 1,
      "metadata": {
        "colab": {
          "base_uri": "https://localhost:8080/"
        },
        "id": "lFBTtaBpg-u4",
        "outputId": "fc1a12e1-0e9f-4611-c502-73884ddf9cb0"
      },
      "outputs": [
        {
          "output_type": "stream",
          "name": "stdout",
          "text": [
            "Looking in indexes: https://pypi.org/simple, https://us-python.pkg.dev/colab-wheels/public/simple/\n",
            "Collecting tensorflow_text\n",
            "  Downloading tensorflow_text-2.12.1-cp310-cp310-manylinux_2_17_x86_64.manylinux2014_x86_64.whl (6.0 MB)\n",
            "\u001b[2K     \u001b[90m━━━━━━━━━━━━━━━━━━━━━━━━━━━━━━━━━━━━━━━━\u001b[0m \u001b[32m6.0/6.0 MB\u001b[0m \u001b[31m91.1 MB/s\u001b[0m eta \u001b[36m0:00:00\u001b[0m\n",
            "\u001b[?25hRequirement already satisfied: tensorflow-hub>=0.8.0 in /usr/local/lib/python3.10/dist-packages (from tensorflow_text) (0.13.0)\n",
            "Requirement already satisfied: tensorflow<2.13,>=2.12.0 in /usr/local/lib/python3.10/dist-packages (from tensorflow_text) (2.12.0)\n",
            "Requirement already satisfied: tensorboard<2.13,>=2.12 in /usr/local/lib/python3.10/dist-packages (from tensorflow<2.13,>=2.12.0->tensorflow_text) (2.12.2)\n",
            "Requirement already satisfied: libclang>=13.0.0 in /usr/local/lib/python3.10/dist-packages (from tensorflow<2.13,>=2.12.0->tensorflow_text) (16.0.0)\n",
            "Requirement already satisfied: absl-py>=1.0.0 in /usr/local/lib/python3.10/dist-packages (from tensorflow<2.13,>=2.12.0->tensorflow_text) (1.4.0)\n",
            "Requirement already satisfied: packaging in /usr/local/lib/python3.10/dist-packages (from tensorflow<2.13,>=2.12.0->tensorflow_text) (23.1)\n",
            "Requirement already satisfied: six>=1.12.0 in /usr/local/lib/python3.10/dist-packages (from tensorflow<2.13,>=2.12.0->tensorflow_text) (1.16.0)\n",
            "Requirement already satisfied: numpy<1.24,>=1.22 in /usr/local/lib/python3.10/dist-packages (from tensorflow<2.13,>=2.12.0->tensorflow_text) (1.22.4)\n",
            "Requirement already satisfied: tensorflow-estimator<2.13,>=2.12.0 in /usr/local/lib/python3.10/dist-packages (from tensorflow<2.13,>=2.12.0->tensorflow_text) (2.12.0)\n",
            "Requirement already satisfied: keras<2.13,>=2.12.0 in /usr/local/lib/python3.10/dist-packages (from tensorflow<2.13,>=2.12.0->tensorflow_text) (2.12.0)\n",
            "Requirement already satisfied: tensorflow-io-gcs-filesystem>=0.23.1 in /usr/local/lib/python3.10/dist-packages (from tensorflow<2.13,>=2.12.0->tensorflow_text) (0.32.0)\n",
            "Requirement already satisfied: wrapt<1.15,>=1.11.0 in /usr/local/lib/python3.10/dist-packages (from tensorflow<2.13,>=2.12.0->tensorflow_text) (1.14.1)\n",
            "Requirement already satisfied: gast<=0.4.0,>=0.2.1 in /usr/local/lib/python3.10/dist-packages (from tensorflow<2.13,>=2.12.0->tensorflow_text) (0.4.0)\n",
            "Requirement already satisfied: protobuf!=4.21.0,!=4.21.1,!=4.21.2,!=4.21.3,!=4.21.4,!=4.21.5,<5.0.0dev,>=3.20.3 in /usr/local/lib/python3.10/dist-packages (from tensorflow<2.13,>=2.12.0->tensorflow_text) (3.20.3)\n",
            "Requirement already satisfied: termcolor>=1.1.0 in /usr/local/lib/python3.10/dist-packages (from tensorflow<2.13,>=2.12.0->tensorflow_text) (2.3.0)\n",
            "Requirement already satisfied: jax>=0.3.15 in /usr/local/lib/python3.10/dist-packages (from tensorflow<2.13,>=2.12.0->tensorflow_text) (0.4.8)\n",
            "Requirement already satisfied: h5py>=2.9.0 in /usr/local/lib/python3.10/dist-packages (from tensorflow<2.13,>=2.12.0->tensorflow_text) (3.8.0)\n",
            "Requirement already satisfied: astunparse>=1.6.0 in /usr/local/lib/python3.10/dist-packages (from tensorflow<2.13,>=2.12.0->tensorflow_text) (1.6.3)\n",
            "Requirement already satisfied: typing-extensions>=3.6.6 in /usr/local/lib/python3.10/dist-packages (from tensorflow<2.13,>=2.12.0->tensorflow_text) (4.5.0)\n",
            "Requirement already satisfied: setuptools in /usr/local/lib/python3.10/dist-packages (from tensorflow<2.13,>=2.12.0->tensorflow_text) (67.7.2)\n",
            "Requirement already satisfied: google-pasta>=0.1.1 in /usr/local/lib/python3.10/dist-packages (from tensorflow<2.13,>=2.12.0->tensorflow_text) (0.2.0)\n",
            "Requirement already satisfied: grpcio<2.0,>=1.24.3 in /usr/local/lib/python3.10/dist-packages (from tensorflow<2.13,>=2.12.0->tensorflow_text) (1.54.0)\n",
            "Requirement already satisfied: flatbuffers>=2.0 in /usr/local/lib/python3.10/dist-packages (from tensorflow<2.13,>=2.12.0->tensorflow_text) (23.3.3)\n",
            "Requirement already satisfied: opt-einsum>=2.3.2 in /usr/local/lib/python3.10/dist-packages (from tensorflow<2.13,>=2.12.0->tensorflow_text) (3.3.0)\n",
            "Requirement already satisfied: wheel<1.0,>=0.23.0 in /usr/local/lib/python3.10/dist-packages (from astunparse>=1.6.0->tensorflow<2.13,>=2.12.0->tensorflow_text) (0.40.0)\n",
            "Requirement already satisfied: scipy>=1.7 in /usr/local/lib/python3.10/dist-packages (from jax>=0.3.15->tensorflow<2.13,>=2.12.0->tensorflow_text) (1.10.1)\n",
            "Requirement already satisfied: ml-dtypes>=0.0.3 in /usr/local/lib/python3.10/dist-packages (from jax>=0.3.15->tensorflow<2.13,>=2.12.0->tensorflow_text) (0.1.0)\n",
            "Requirement already satisfied: google-auth-oauthlib<1.1,>=0.5 in /usr/local/lib/python3.10/dist-packages (from tensorboard<2.13,>=2.12->tensorflow<2.13,>=2.12.0->tensorflow_text) (1.0.0)\n",
            "Requirement already satisfied: tensorboard-data-server<0.8.0,>=0.7.0 in /usr/local/lib/python3.10/dist-packages (from tensorboard<2.13,>=2.12->tensorflow<2.13,>=2.12.0->tensorflow_text) (0.7.0)\n",
            "Requirement already satisfied: werkzeug>=1.0.1 in /usr/local/lib/python3.10/dist-packages (from tensorboard<2.13,>=2.12->tensorflow<2.13,>=2.12.0->tensorflow_text) (2.3.0)\n",
            "Requirement already satisfied: tensorboard-plugin-wit>=1.6.0 in /usr/local/lib/python3.10/dist-packages (from tensorboard<2.13,>=2.12->tensorflow<2.13,>=2.12.0->tensorflow_text) (1.8.1)\n",
            "Requirement already satisfied: requests<3,>=2.21.0 in /usr/local/lib/python3.10/dist-packages (from tensorboard<2.13,>=2.12->tensorflow<2.13,>=2.12.0->tensorflow_text) (2.27.1)\n",
            "Requirement already satisfied: google-auth<3,>=1.6.3 in /usr/local/lib/python3.10/dist-packages (from tensorboard<2.13,>=2.12->tensorflow<2.13,>=2.12.0->tensorflow_text) (2.17.3)\n",
            "Requirement already satisfied: markdown>=2.6.8 in /usr/local/lib/python3.10/dist-packages (from tensorboard<2.13,>=2.12->tensorflow<2.13,>=2.12.0->tensorflow_text) (3.4.3)\n",
            "Requirement already satisfied: rsa<5,>=3.1.4 in /usr/local/lib/python3.10/dist-packages (from google-auth<3,>=1.6.3->tensorboard<2.13,>=2.12->tensorflow<2.13,>=2.12.0->tensorflow_text) (4.9)\n",
            "Requirement already satisfied: pyasn1-modules>=0.2.1 in /usr/local/lib/python3.10/dist-packages (from google-auth<3,>=1.6.3->tensorboard<2.13,>=2.12->tensorflow<2.13,>=2.12.0->tensorflow_text) (0.3.0)\n",
            "Requirement already satisfied: cachetools<6.0,>=2.0.0 in /usr/local/lib/python3.10/dist-packages (from google-auth<3,>=1.6.3->tensorboard<2.13,>=2.12->tensorflow<2.13,>=2.12.0->tensorflow_text) (5.3.0)\n",
            "Requirement already satisfied: requests-oauthlib>=0.7.0 in /usr/local/lib/python3.10/dist-packages (from google-auth-oauthlib<1.1,>=0.5->tensorboard<2.13,>=2.12->tensorflow<2.13,>=2.12.0->tensorflow_text) (1.3.1)\n",
            "Requirement already satisfied: certifi>=2017.4.17 in /usr/local/lib/python3.10/dist-packages (from requests<3,>=2.21.0->tensorboard<2.13,>=2.12->tensorflow<2.13,>=2.12.0->tensorflow_text) (2022.12.7)\n",
            "Requirement already satisfied: urllib3<1.27,>=1.21.1 in /usr/local/lib/python3.10/dist-packages (from requests<3,>=2.21.0->tensorboard<2.13,>=2.12->tensorflow<2.13,>=2.12.0->tensorflow_text) (1.26.15)\n",
            "Requirement already satisfied: idna<4,>=2.5 in /usr/local/lib/python3.10/dist-packages (from requests<3,>=2.21.0->tensorboard<2.13,>=2.12->tensorflow<2.13,>=2.12.0->tensorflow_text) (3.4)\n",
            "Requirement already satisfied: charset-normalizer~=2.0.0 in /usr/local/lib/python3.10/dist-packages (from requests<3,>=2.21.0->tensorboard<2.13,>=2.12->tensorflow<2.13,>=2.12.0->tensorflow_text) (2.0.12)\n",
            "Requirement already satisfied: MarkupSafe>=2.1.1 in /usr/local/lib/python3.10/dist-packages (from werkzeug>=1.0.1->tensorboard<2.13,>=2.12->tensorflow<2.13,>=2.12.0->tensorflow_text) (2.1.2)\n",
            "Requirement already satisfied: pyasn1<0.6.0,>=0.4.6 in /usr/local/lib/python3.10/dist-packages (from pyasn1-modules>=0.2.1->google-auth<3,>=1.6.3->tensorboard<2.13,>=2.12->tensorflow<2.13,>=2.12.0->tensorflow_text) (0.5.0)\n",
            "Requirement already satisfied: oauthlib>=3.0.0 in /usr/local/lib/python3.10/dist-packages (from requests-oauthlib>=0.7.0->google-auth-oauthlib<1.1,>=0.5->tensorboard<2.13,>=2.12->tensorflow<2.13,>=2.12.0->tensorflow_text) (3.2.2)\n",
            "Installing collected packages: tensorflow_text\n",
            "Successfully installed tensorflow_text-2.12.1\n"
          ]
        }
      ],
      "source": [
        "!pip install tensorflow_text"
      ]
    },
    {
      "cell_type": "code",
      "source": [
        "!pip install beir\n"
      ],
      "metadata": {
        "colab": {
          "base_uri": "https://localhost:8080/"
        },
        "id": "-atM-1yIjVPC",
        "outputId": "58b66621-1dad-48ca-99ad-f2e5b7a7be19"
      },
      "execution_count": 2,
      "outputs": [
        {
          "output_type": "stream",
          "name": "stdout",
          "text": [
            "Looking in indexes: https://pypi.org/simple, https://us-python.pkg.dev/colab-wheels/public/simple/\n",
            "Collecting beir\n",
            "  Downloading beir-1.0.1.tar.gz (50 kB)\n",
            "\u001b[2K     \u001b[90m━━━━━━━━━━━━━━━━━━━━━━━━━━━━━━━━━━━━━━━━\u001b[0m \u001b[32m50.3/50.3 kB\u001b[0m \u001b[31m5.9 MB/s\u001b[0m eta \u001b[36m0:00:00\u001b[0m\n",
            "\u001b[?25h  Preparing metadata (setup.py) ... \u001b[?25l\u001b[?25hdone\n",
            "Collecting sentence-transformers\n",
            "  Downloading sentence-transformers-2.2.2.tar.gz (85 kB)\n",
            "\u001b[2K     \u001b[90m━━━━━━━━━━━━━━━━━━━━━━━━━━━━━━━━━━━━━━━━\u001b[0m \u001b[32m86.0/86.0 kB\u001b[0m \u001b[31m9.9 MB/s\u001b[0m eta \u001b[36m0:00:00\u001b[0m\n",
            "\u001b[?25h  Preparing metadata (setup.py) ... \u001b[?25l\u001b[?25hdone\n",
            "Collecting pytrec_eval\n",
            "  Downloading pytrec_eval-0.5.tar.gz (15 kB)\n",
            "  Preparing metadata (setup.py) ... \u001b[?25l\u001b[?25hdone\n",
            "Collecting faiss_cpu\n",
            "  Downloading faiss_cpu-1.7.4-cp310-cp310-manylinux_2_17_x86_64.manylinux2014_x86_64.whl (17.6 MB)\n",
            "\u001b[2K     \u001b[90m━━━━━━━━━━━━━━━━━━━━━━━━━━━━━━━━━━━━━━━━\u001b[0m \u001b[32m17.6/17.6 MB\u001b[0m \u001b[31m63.6 MB/s\u001b[0m eta \u001b[36m0:00:00\u001b[0m\n",
            "\u001b[?25hCollecting elasticsearch==7.9.1\n",
            "  Downloading elasticsearch-7.9.1-py2.py3-none-any.whl (219 kB)\n",
            "\u001b[2K     \u001b[90m━━━━━━━━━━━━━━━━━━━━━━━━━━━━━━━━━━━━━━\u001b[0m \u001b[32m219.2/219.2 kB\u001b[0m \u001b[31m18.4 MB/s\u001b[0m eta \u001b[36m0:00:00\u001b[0m\n",
            "\u001b[?25hCollecting datasets\n",
            "  Downloading datasets-2.12.0-py3-none-any.whl (474 kB)\n",
            "\u001b[2K     \u001b[90m━━━━━━━━━━━━━━━━━━━━━━━━━━━━━━━━━━━━━━\u001b[0m \u001b[32m474.6/474.6 kB\u001b[0m \u001b[31m38.4 MB/s\u001b[0m eta \u001b[36m0:00:00\u001b[0m\n",
            "\u001b[?25hRequirement already satisfied: certifi in /usr/local/lib/python3.10/dist-packages (from elasticsearch==7.9.1->beir) (2022.12.7)\n",
            "Requirement already satisfied: urllib3>=1.21.1 in /usr/local/lib/python3.10/dist-packages (from elasticsearch==7.9.1->beir) (1.26.15)\n",
            "Collecting aiohttp\n",
            "  Downloading aiohttp-3.8.4-cp310-cp310-manylinux_2_17_x86_64.manylinux2014_x86_64.whl (1.0 MB)\n",
            "\u001b[2K     \u001b[90m━━━━━━━━━━━━━━━━━━━━━━━━━━━━━━━━━━━━━━━━\u001b[0m \u001b[32m1.0/1.0 MB\u001b[0m \u001b[31m61.3 MB/s\u001b[0m eta \u001b[36m0:00:00\u001b[0m\n",
            "\u001b[?25hRequirement already satisfied: tqdm>=4.62.1 in /usr/local/lib/python3.10/dist-packages (from datasets->beir) (4.65.0)\n",
            "Collecting xxhash\n",
            "  Downloading xxhash-3.2.0-cp310-cp310-manylinux_2_17_x86_64.manylinux2014_x86_64.whl (212 kB)\n",
            "\u001b[2K     \u001b[90m━━━━━━━━━━━━━━━━━━━━━━━━━━━━━━━━━━━━━━\u001b[0m \u001b[32m212.5/212.5 kB\u001b[0m \u001b[31m23.0 MB/s\u001b[0m eta \u001b[36m0:00:00\u001b[0m\n",
            "\u001b[?25hRequirement already satisfied: pyarrow>=8.0.0 in /usr/local/lib/python3.10/dist-packages (from datasets->beir) (9.0.0)\n",
            "Requirement already satisfied: requests>=2.19.0 in /usr/local/lib/python3.10/dist-packages (from datasets->beir) (2.27.1)\n",
            "Requirement already satisfied: pandas in /usr/local/lib/python3.10/dist-packages (from datasets->beir) (1.5.3)\n",
            "Requirement already satisfied: fsspec[http]>=2021.11.1 in /usr/local/lib/python3.10/dist-packages (from datasets->beir) (2023.4.0)\n",
            "Collecting multiprocess\n",
            "  Downloading multiprocess-0.70.14-py310-none-any.whl (134 kB)\n",
            "\u001b[2K     \u001b[90m━━━━━━━━━━━━━━━━━━━━━━━━━━━━━━━━━━━━━━\u001b[0m \u001b[32m134.3/134.3 kB\u001b[0m \u001b[31m17.1 MB/s\u001b[0m eta \u001b[36m0:00:00\u001b[0m\n",
            "\u001b[?25hRequirement already satisfied: packaging in /usr/local/lib/python3.10/dist-packages (from datasets->beir) (23.1)\n",
            "Requirement already satisfied: pyyaml>=5.1 in /usr/local/lib/python3.10/dist-packages (from datasets->beir) (6.0)\n",
            "Collecting responses<0.19\n",
            "  Downloading responses-0.18.0-py3-none-any.whl (38 kB)\n",
            "Collecting dill<0.3.7,>=0.3.0\n",
            "  Downloading dill-0.3.6-py3-none-any.whl (110 kB)\n",
            "\u001b[2K     \u001b[90m━━━━━━━━━━━━━━━━━━━━━━━━━━━━━━━━━━━━━━\u001b[0m \u001b[32m110.5/110.5 kB\u001b[0m \u001b[31m14.2 MB/s\u001b[0m eta \u001b[36m0:00:00\u001b[0m\n",
            "\u001b[?25hRequirement already satisfied: numpy>=1.17 in /usr/local/lib/python3.10/dist-packages (from datasets->beir) (1.22.4)\n",
            "Collecting huggingface-hub<1.0.0,>=0.11.0\n",
            "  Downloading huggingface_hub-0.14.1-py3-none-any.whl (224 kB)\n",
            "\u001b[2K     \u001b[90m━━━━━━━━━━━━━━━━━━━━━━━━━━━━━━━━━━━━━━━\u001b[0m \u001b[32m224.5/224.5 kB\u001b[0m \u001b[31m9.0 MB/s\u001b[0m eta \u001b[36m0:00:00\u001b[0m\n",
            "\u001b[?25hCollecting transformers<5.0.0,>=4.6.0\n",
            "  Downloading transformers-4.28.1-py3-none-any.whl (7.0 MB)\n",
            "\u001b[2K     \u001b[90m━━━━━━━━━━━━━━━━━━━━━━━━━━━━━━━━━━━━━━━━\u001b[0m \u001b[32m7.0/7.0 MB\u001b[0m \u001b[31m42.3 MB/s\u001b[0m eta \u001b[36m0:00:00\u001b[0m\n",
            "\u001b[?25hRequirement already satisfied: torch>=1.6.0 in /usr/local/lib/python3.10/dist-packages (from sentence-transformers->beir) (2.0.0+cu118)\n",
            "Requirement already satisfied: torchvision in /usr/local/lib/python3.10/dist-packages (from sentence-transformers->beir) (0.15.1+cu118)\n",
            "Requirement already satisfied: scikit-learn in /usr/local/lib/python3.10/dist-packages (from sentence-transformers->beir) (1.2.2)\n",
            "Requirement already satisfied: scipy in /usr/local/lib/python3.10/dist-packages (from sentence-transformers->beir) (1.10.1)\n",
            "Requirement already satisfied: nltk in /usr/local/lib/python3.10/dist-packages (from sentence-transformers->beir) (3.8.1)\n",
            "Collecting sentencepiece\n",
            "  Downloading sentencepiece-0.1.98-cp310-cp310-manylinux_2_17_x86_64.manylinux2014_x86_64.whl (1.3 MB)\n",
            "\u001b[2K     \u001b[90m━━━━━━━━━━━━━━━━━━━━━━━━━━━━━━━━━━━━━━━━\u001b[0m \u001b[32m1.3/1.3 MB\u001b[0m \u001b[31m31.8 MB/s\u001b[0m eta \u001b[36m0:00:00\u001b[0m\n",
            "\u001b[?25hCollecting async-timeout<5.0,>=4.0.0a3\n",
            "  Downloading async_timeout-4.0.2-py3-none-any.whl (5.8 kB)\n",
            "Collecting frozenlist>=1.1.1\n",
            "  Downloading frozenlist-1.3.3-cp310-cp310-manylinux_2_5_x86_64.manylinux1_x86_64.manylinux_2_17_x86_64.manylinux2014_x86_64.whl (149 kB)\n",
            "\u001b[2K     \u001b[90m━━━━━━━━━━━━━━━━━━━━━━━━━━━━━━━━━━━━━━\u001b[0m \u001b[32m149.6/149.6 kB\u001b[0m \u001b[31m17.3 MB/s\u001b[0m eta \u001b[36m0:00:00\u001b[0m\n",
            "\u001b[?25hCollecting multidict<7.0,>=4.5\n",
            "  Downloading multidict-6.0.4-cp310-cp310-manylinux_2_17_x86_64.manylinux2014_x86_64.whl (114 kB)\n",
            "\u001b[2K     \u001b[90m━━━━━━━━━━━━━━━━━━━━━━━━━━━━━━━━━━━━━━\u001b[0m \u001b[32m114.5/114.5 kB\u001b[0m \u001b[31m13.9 MB/s\u001b[0m eta \u001b[36m0:00:00\u001b[0m\n",
            "\u001b[?25hRequirement already satisfied: attrs>=17.3.0 in /usr/local/lib/python3.10/dist-packages (from aiohttp->datasets->beir) (23.1.0)\n",
            "Collecting yarl<2.0,>=1.0\n",
            "  Downloading yarl-1.9.2-cp310-cp310-manylinux_2_17_x86_64.manylinux2014_x86_64.whl (268 kB)\n",
            "\u001b[2K     \u001b[90m━━━━━━━━━━━━━━━━━━━━━━━━━━━━━━━━━━━━━━\u001b[0m \u001b[32m268.8/268.8 kB\u001b[0m \u001b[31m19.3 MB/s\u001b[0m eta \u001b[36m0:00:00\u001b[0m\n",
            "\u001b[?25hCollecting aiosignal>=1.1.2\n",
            "  Downloading aiosignal-1.3.1-py3-none-any.whl (7.6 kB)\n",
            "Requirement already satisfied: charset-normalizer<4.0,>=2.0 in /usr/local/lib/python3.10/dist-packages (from aiohttp->datasets->beir) (2.0.12)\n",
            "Requirement already satisfied: typing-extensions>=3.7.4.3 in /usr/local/lib/python3.10/dist-packages (from huggingface-hub<1.0.0,>=0.11.0->datasets->beir) (4.5.0)\n",
            "Requirement already satisfied: filelock in /usr/local/lib/python3.10/dist-packages (from huggingface-hub<1.0.0,>=0.11.0->datasets->beir) (3.12.0)\n",
            "Requirement already satisfied: idna<4,>=2.5 in /usr/local/lib/python3.10/dist-packages (from requests>=2.19.0->datasets->beir) (3.4)\n",
            "Requirement already satisfied: jinja2 in /usr/local/lib/python3.10/dist-packages (from torch>=1.6.0->sentence-transformers->beir) (3.1.2)\n",
            "Requirement already satisfied: sympy in /usr/local/lib/python3.10/dist-packages (from torch>=1.6.0->sentence-transformers->beir) (1.11.1)\n",
            "Requirement already satisfied: triton==2.0.0 in /usr/local/lib/python3.10/dist-packages (from torch>=1.6.0->sentence-transformers->beir) (2.0.0)\n",
            "Requirement already satisfied: networkx in /usr/local/lib/python3.10/dist-packages (from torch>=1.6.0->sentence-transformers->beir) (3.1)\n",
            "Requirement already satisfied: lit in /usr/local/lib/python3.10/dist-packages (from triton==2.0.0->torch>=1.6.0->sentence-transformers->beir) (16.0.2)\n",
            "Requirement already satisfied: cmake in /usr/local/lib/python3.10/dist-packages (from triton==2.0.0->torch>=1.6.0->sentence-transformers->beir) (3.25.2)\n",
            "Requirement already satisfied: regex!=2019.12.17 in /usr/local/lib/python3.10/dist-packages (from transformers<5.0.0,>=4.6.0->sentence-transformers->beir) (2022.10.31)\n",
            "Collecting tokenizers!=0.11.3,<0.14,>=0.11.1\n",
            "  Downloading tokenizers-0.13.3-cp310-cp310-manylinux_2_17_x86_64.manylinux2014_x86_64.whl (7.8 MB)\n",
            "\u001b[2K     \u001b[90m━━━━━━━━━━━━━━━━━━━━━━━━━━━━━━━━━━━━━━━━\u001b[0m \u001b[32m7.8/7.8 MB\u001b[0m \u001b[31m122.1 MB/s\u001b[0m eta \u001b[36m0:00:00\u001b[0m\n",
            "\u001b[?25hRequirement already satisfied: click in /usr/local/lib/python3.10/dist-packages (from nltk->sentence-transformers->beir) (8.1.3)\n",
            "Requirement already satisfied: joblib in /usr/local/lib/python3.10/dist-packages (from nltk->sentence-transformers->beir) (1.2.0)\n",
            "Requirement already satisfied: pytz>=2020.1 in /usr/local/lib/python3.10/dist-packages (from pandas->datasets->beir) (2022.7.1)\n",
            "Requirement already satisfied: python-dateutil>=2.8.1 in /usr/local/lib/python3.10/dist-packages (from pandas->datasets->beir) (2.8.2)\n",
            "Requirement already satisfied: threadpoolctl>=2.0.0 in /usr/local/lib/python3.10/dist-packages (from scikit-learn->sentence-transformers->beir) (3.1.0)\n",
            "Requirement already satisfied: pillow!=8.3.*,>=5.3.0 in /usr/local/lib/python3.10/dist-packages (from torchvision->sentence-transformers->beir) (8.4.0)\n",
            "Requirement already satisfied: six>=1.5 in /usr/local/lib/python3.10/dist-packages (from python-dateutil>=2.8.1->pandas->datasets->beir) (1.16.0)\n",
            "Requirement already satisfied: MarkupSafe>=2.0 in /usr/local/lib/python3.10/dist-packages (from jinja2->torch>=1.6.0->sentence-transformers->beir) (2.1.2)\n",
            "Requirement already satisfied: mpmath>=0.19 in /usr/local/lib/python3.10/dist-packages (from sympy->torch>=1.6.0->sentence-transformers->beir) (1.3.0)\n",
            "Building wheels for collected packages: beir, pytrec_eval, sentence-transformers\n",
            "  Building wheel for beir (setup.py) ... \u001b[?25l\u001b[?25hdone\n",
            "  Created wheel for beir: filename=beir-1.0.1-py3-none-any.whl size=62516 sha256=f6323886437a0cc4431b9ab31835ea54a2a8f7c370a3af44fd65e21b95fe8def\n",
            "  Stored in directory: /root/.cache/pip/wheels/db/39/65/c3e53a900805045248fd6bed1b8ce0cc271bac7b3c9dd0f138\n",
            "  Building wheel for pytrec_eval (setup.py) ... \u001b[?25l\u001b[?25hdone\n",
            "  Created wheel for pytrec_eval: filename=pytrec_eval-0.5-cp310-cp310-linux_x86_64.whl size=293487 sha256=f0267b6c1eb62d6edd81cf8535824714650cd688ff4e55e28f39fafd931ea647\n",
            "  Stored in directory: /root/.cache/pip/wheels/51/3a/cd/dcc1ddfc763987d5cb237165d8ac249aa98a23ab90f67317a8\n",
            "  Building wheel for sentence-transformers (setup.py) ... \u001b[?25l\u001b[?25hdone\n",
            "  Created wheel for sentence-transformers: filename=sentence_transformers-2.2.2-py3-none-any.whl size=125942 sha256=e2981a1e8c4091edd29689a8ce2fbae3d2804a7a3148afc6a5fa1f82d2090cb3\n",
            "  Stored in directory: /root/.cache/pip/wheels/62/f2/10/1e606fd5f02395388f74e7462910fe851042f97238cbbd902f\n",
            "Successfully built beir pytrec_eval sentence-transformers\n",
            "Installing collected packages: tokenizers, sentencepiece, faiss_cpu, xxhash, pytrec_eval, multidict, frozenlist, elasticsearch, dill, async-timeout, yarl, responses, multiprocess, huggingface-hub, aiosignal, transformers, aiohttp, datasets, sentence-transformers, beir\n",
            "Successfully installed aiohttp-3.8.4 aiosignal-1.3.1 async-timeout-4.0.2 beir-1.0.1 datasets-2.12.0 dill-0.3.6 elasticsearch-7.9.1 faiss_cpu-1.7.4 frozenlist-1.3.3 huggingface-hub-0.14.1 multidict-6.0.4 multiprocess-0.70.14 pytrec_eval-0.5 responses-0.18.0 sentence-transformers-2.2.2 sentencepiece-0.1.98 tokenizers-0.13.3 transformers-4.28.1 xxhash-3.2.0 yarl-1.9.2\n"
          ]
        }
      ]
    },
    {
      "cell_type": "markdown",
      "source": [
        "# Training"
      ],
      "metadata": {
        "id": "-0GqfppK_1wH"
      }
    },
    {
      "cell_type": "code",
      "source": [
        "path = 'drive/MyDrive/retrain_nfc/'"
      ],
      "metadata": {
        "id": "Ah0pEhHk__iv"
      },
      "execution_count": 20,
      "outputs": []
    },
    {
      "cell_type": "code",
      "source": [
        "from beir import util\n",
        "from beir.datasets.data_loader import GenericDataLoader\n",
        "import pathlib, sys, os, glob, pickle, math, shutil\n",
        "import nltk\n",
        "import numpy as np\n",
        "nltk.download('punkt')\n",
        "import gensim\n",
        "from operator import itemgetter\n",
        "import re\n",
        "dataset = \"nfcorpus\"\n",
        "url = \"https://public.ukp.informatik.tu-darmstadt.de/thakur/BEIR/datasets/{}.zip\".format(dataset)\n",
        "out_dir = os.path.join(path, 'nfcorpus')\n"
      ],
      "metadata": {
        "colab": {
          "base_uri": "https://localhost:8080/"
        },
        "id": "mMFjjt8A_3X4",
        "outputId": "d957b2af-0e8f-4cb3-d23e-69acbb0b9de1"
      },
      "execution_count": 21,
      "outputs": [
        {
          "output_type": "stream",
          "name": "stderr",
          "text": [
            "[nltk_data] Downloading package punkt to /root/nltk_data...\n",
            "[nltk_data]   Package punkt is already up-to-date!\n"
          ]
        }
      ]
    },
    {
      "cell_type": "code",
      "source": [
        "def create_working_directory():           \n",
        "    CONTENT_PATH = os.path.join(path, 'inputs/contents/')\n",
        "    TOKENS_PATH = os.path.join(path, 'inputs/tokens/')\n",
        "    CENTROIDS_PATH = os.path.join(path, 'inputs/centroids/')\n",
        "    DOC_NUMBER_PATH = os.path.join(path, 'inputs/doc_num/')\n",
        "    MODEL_PATH = os.path.join(path, 'model')\n",
        "            \n",
        "    if os.path.exists(CONTENT_PATH):\n",
        "        shutil.rmtree(CONTENT_PATH)\n",
        "    os.makedirs(CONTENT_PATH)\n",
        "\n",
        "    if os.path.exists(TOKENS_PATH):\n",
        "        shutil.rmtree(TOKENS_PATH)\n",
        "    os.makedirs(TOKENS_PATH)\n",
        "\n",
        "    if os.path.exists(CENTROIDS_PATH):\n",
        "        shutil.rmtree(CENTROIDS_PATH)\n",
        "    os.makedirs(CENTROIDS_PATH)\n",
        "\n",
        "    if os.path.exists(DOC_NUMBER_PATH):\n",
        "        shutil.rmtree(DOC_NUMBER_PATH)\n",
        "    os.makedirs(DOC_NUMBER_PATH)\n",
        "\n",
        "    if os.path.exists(MODEL_PATH):\n",
        "        shutil.rmtree(MODEL_PATH)\n",
        "    os.makedirs(MODEL_PATH)\n",
        "        \n",
        "    return [CONTENT_PATH, TOKENS_PATH, CENTROIDS_PATH, DOC_NUMBER_PATH, MODEL_PATH]"
      ],
      "metadata": {
        "id": "Kn4c6RgrAVYQ"
      },
      "execution_count": 22,
      "outputs": []
    },
    {
      "cell_type": "code",
      "source": [
        "def preprocessing(preprocess):\n",
        "    PATH = create_working_directory()\n",
        "    data_path = util.download_and_unzip(url, out_dir)\n",
        "    corpus, queries, qrels = GenericDataLoader(data_path).load(split=\"train\")\n",
        "\n",
        "    count = 0\n",
        "    if preprocess:\n",
        "        CONTENT_PATH = PATH[0]\n",
        "        TOKENS_PATH = PATH[1]\n",
        "        CENTROIDS_PATH = PATH[2]\n",
        "        DOC_NUMBER_PATH = PATH[3]\n",
        "\n",
        "        for key in corpus.keys():\n",
        "            content = corpus[key]['text']\n",
        "            countWords = len(content.split())\n",
        "            \n",
        "            if countWords >= 30:\n",
        "                title = corpus[key]['title']\n",
        "                doc_num = key  \n",
        "                count = count + 1\n",
        "                content_name = CONTENT_PATH + str(count) + '.txt'\n",
        "                token_name = TOKENS_PATH + str(count) + '.tokens'\n",
        "                doc_name = DOC_NUMBER_PATH + str(count) + '.txt'\n",
        "\n",
        "                cf = open(content_name, 'w', encoding=\"utf-8\")\n",
        "                cf.write(content)\n",
        "                cf.close()\n",
        "\n",
        "                df = open(doc_name, 'w', encoding=\"utf-8\")\n",
        "                df.write(doc_num)\n",
        "                df.close()\n",
        "\n",
        "                tf = open(token_name, 'w', encoding=\"utf-8\")\n",
        "                sentence_tokens = nltk.sent_tokenize(content)\n",
        "                for sentence in sentence_tokens:\n",
        "                    sentence = sentence.lower()\n",
        "                    sentence = re.sub(r'[^\\w\\s]', '', sentence)\n",
        "                    tf.write(sentence)\n",
        "                tf.close()\n",
        "\n",
        "    print(\"Total Document count is: \", count)\n"
      ],
      "metadata": {
        "id": "NXv48YPDAR4L"
      },
      "execution_count": 23,
      "outputs": []
    },
    {
      "cell_type": "code",
      "source": [
        "def Train(model_path, path):\n",
        "  sent_iterator = gensim.models.word2vec.PathLineSentences(path)\n",
        "  model = gensim.models.Word2Vec(sent_iterator, \n",
        "                                  vector_size=200,\n",
        "                                  min_count=1, \n",
        "                                  workers=6)\n",
        "\n",
        "  model.save(os.path.join(model_path, 'model/w2v-lc.model'))\n",
        "  model.wv.save_word2vec_format(os.path.join(model_path, 'model/w2v-lc.model.bin'), binary=True)\n",
        "\n",
        "  return model"
      ],
      "metadata": {
        "id": "jtW9cxtpCyoF"
      },
      "execution_count": 24,
      "outputs": []
    },
    {
      "cell_type": "code",
      "source": [
        "preprocessing(True)"
      ],
      "metadata": {
        "colab": {
          "base_uri": "https://localhost:8080/",
          "height": 67,
          "referenced_widgets": [
            "cac57293b17e4018899219e900150619",
            "e258be68d355497fb3282a041b87313b",
            "7067843cc4c4438c99f01a29df681336",
            "bed4147f54114206b976806ed98725b2",
            "51be3550e10643e784e49ef02cb2cab9",
            "a31cb4deb6c64922a45f795cd9d6b0cb",
            "b14284f0d6c64425be2e82bc43fbf20f",
            "88808a6486794fc4ba11005eb7b98a2d",
            "1c847b41d63a46d483167b676a7aa35d",
            "847b7a868cc747b09a0a09d51c30d6c8",
            "5377424b7bc249809cfefa741752d2d1"
          ]
        },
        "id": "WEv6MJJwiZyv",
        "outputId": "5f5cfbc4-345a-4e28-a834-c4a96fdef0ec"
      },
      "execution_count": 25,
      "outputs": [
        {
          "output_type": "display_data",
          "data": {
            "text/plain": [
              "  0%|          | 0/3633 [00:00<?, ?it/s]"
            ],
            "application/vnd.jupyter.widget-view+json": {
              "version_major": 2,
              "version_minor": 0,
              "model_id": "cac57293b17e4018899219e900150619"
            }
          },
          "metadata": {}
        },
        {
          "output_type": "stream",
          "name": "stdout",
          "text": [
            "Total Document count is:  3624\n"
          ]
        }
      ]
    },
    {
      "cell_type": "code",
      "source": [
        "path"
      ],
      "metadata": {
        "colab": {
          "base_uri": "https://localhost:8080/",
          "height": 35
        },
        "id": "LSald58VmDqN",
        "outputId": "d0855c36-3ffb-419a-c548-714f66fa3f75"
      },
      "execution_count": 26,
      "outputs": [
        {
          "output_type": "execute_result",
          "data": {
            "text/plain": [
              "'drive/MyDrive/retrain_nfc/'"
            ],
            "application/vnd.google.colaboratory.intrinsic+json": {
              "type": "string"
            }
          },
          "metadata": {},
          "execution_count": 26
        }
      ]
    },
    {
      "cell_type": "code",
      "source": [
        "model = Train('drive/MyDrive/retrain_nfc/', 'drive/MyDrive/retrain_nfc/inputs/tokens/')"
      ],
      "metadata": {
        "id": "POSI-_W2ivTP"
      },
      "execution_count": 28,
      "outputs": []
    },
    {
      "cell_type": "markdown",
      "source": [
        "# Testing beir"
      ],
      "metadata": {
        "id": "JaUoiciZmO2D"
      }
    },
    {
      "cell_type": "code",
      "source": [
        "!tar -xf drive/MyDrive/nlp_datashare/Document_retrieval_and_ranking.tar"
      ],
      "metadata": {
        "id": "WOjKpekolivg"
      },
      "execution_count": 3,
      "outputs": []
    },
    {
      "cell_type": "code",
      "source": [
        "!ls Document-Retrieval-and-Ranking/Dual-Space-Embedding-Model-nfcorpus/model"
      ],
      "metadata": {
        "colab": {
          "base_uri": "https://localhost:8080/"
        },
        "id": "rBVR5UQYl5BQ",
        "outputId": "dcd6189e-17e3-4e5d-8778-bb488dfa5171"
      },
      "execution_count": 4,
      "outputs": [
        {
          "output_type": "stream",
          "name": "stdout",
          "text": [
            "w2v-lc.model\t  w2v-lc.model.syn1neg.npy\n",
            "w2v-lc.model.bin  w2v-lc.model.wv.vectors.npy\n"
          ]
        }
      ]
    },
    {
      "cell_type": "code",
      "source": [
        "open('Document-Retrieval-and-Ranking/Dual-Space-Embedding-Model-nfcorpus/inputs/doc_num/1357.txt', 'r').read()"
      ],
      "metadata": {
        "colab": {
          "base_uri": "https://localhost:8080/",
          "height": 35
        },
        "id": "_fWuDIH3wyWT",
        "outputId": "5418fa9f-df60-430a-b77f-d2fce2fae9ea"
      },
      "execution_count": 5,
      "outputs": [
        {
          "output_type": "execute_result",
          "data": {
            "text/plain": [
              "'MED-2412'"
            ],
            "application/vnd.google.colaboratory.intrinsic+json": {
              "type": "string"
            }
          },
          "metadata": {},
          "execution_count": 5
        }
      ]
    },
    {
      "cell_type": "code",
      "source": [
        "def rename_doc_num(k):\n",
        "  num = k.split('/')[-1].split('.')[0]\n",
        "  return open(f'Document-Retrieval-and-Ranking/Dual-Space-Embedding-Model-nfcorpus/inputs/doc_num/{num}.txt', 'r').read()\n",
        "\n",
        "import numpy as np\n",
        "clean_centroid_dict = np.load('Document-Retrieval-and-Ranking/Dual-Space-Embedding-Model-nfcorpus/clean_centroid_dict.npy', allow_pickle=True)\n",
        "clean_centroid_dict = dict(enumerate(clean_centroid_dict.flatten(), 1))[1]\n",
        "clean_centroid_dict_in_in = {rename_doc_num(k): v[0] for k,v in clean_centroid_dict.items()}\n",
        "clean_centroid_dict_in_out = {rename_doc_num(k): v[1] for k,v in clean_centroid_dict.items()}"
      ],
      "metadata": {
        "id": "RzJEkwJwojHv"
      },
      "execution_count": 6,
      "outputs": []
    },
    {
      "cell_type": "code",
      "source": [
        "from beir import util, LoggingHandler\n",
        "from beir.retrieval import models\n",
        "from beir.datasets.data_loader import GenericDataLoader\n",
        "from beir.retrieval.evaluation import EvaluateRetrieval\n",
        "from beir.retrieval.search.dense import DenseRetrievalExactSearch as DRES\n",
        "\n",
        "import logging\n",
        "import pathlib, os\n",
        "\n",
        "#### Just some code to print debug information to stdout\n",
        "logging.basicConfig(format='%(asctime)s - %(message)s',\n",
        "                    datefmt='%Y-%m-%d %H:%M:%S',\n",
        "                    level=logging.INFO,\n",
        "                    handlers=[LoggingHandler()])\n",
        "#### /print debug information to stdout\n",
        "\n",
        "#### Download scifact.zip dataset and unzip the dataset\n",
        "dataset = \"nfcorpus\"\n",
        "url = \"https://public.ukp.informatik.tu-darmstadt.de/thakur/BEIR/datasets/{}.zip\".format(dataset)\n",
        "out_dir = os.path.join('drive', 'MyDrive',  \"nlp_datashare\")"
      ],
      "metadata": {
        "id": "_fIXiccNk6PU",
        "colab": {
          "base_uri": "https://localhost:8080/"
        },
        "outputId": "2e9cf3a7-1ae9-48d8-a583-2802ea0ed27f"
      },
      "execution_count": 7,
      "outputs": [
        {
          "output_type": "stream",
          "name": "stderr",
          "text": [
            "/usr/local/lib/python3.10/dist-packages/beir/util.py:2: TqdmExperimentalWarning: Using `tqdm.autonotebook.tqdm` in notebook mode. Use `tqdm.tqdm` instead to force console mode (e.g. in jupyter console)\n",
            "  from tqdm.autonotebook import tqdm\n"
          ]
        }
      ]
    },
    {
      "cell_type": "code",
      "source": [
        "data_path = util.download_and_unzip(url, out_dir)\n",
        "corpus, queries, qrels = GenericDataLoader(data_path).load(split=\"test\") # or split = \"train\" or \"dev\"\n"
      ],
      "metadata": {
        "colab": {
          "base_uri": "https://localhost:8080/",
          "height": 49,
          "referenced_widgets": [
            "90a5663128024689b9162d189db862ba",
            "923a022287134b14919472222045c7bc",
            "bc5ec76a27424210a79eb6cbb8f4dbbc",
            "e46f1e85e5b04ac09bae3a123bc12102",
            "e7ed06c8e6b94dfb988248350bbaa9f9",
            "47a59c8603854af5a24a74536143bd26",
            "fdc35fae0b3f4b15bcccaf3e5820305d",
            "0a823a3bafb04771a64680146586eb24",
            "3154641696124770b58674a6728f9db7",
            "5be609fe06ae44a6bdb22b755a34db51",
            "3b539d763bb549f9881c64ecd4ccf3dc"
          ]
        },
        "id": "dq_ZPp93gOY4",
        "outputId": "0de6ee26-299f-49da-e3db-4f115b190050"
      },
      "execution_count": 8,
      "outputs": [
        {
          "output_type": "display_data",
          "data": {
            "text/plain": [
              "  0%|          | 0/3633 [00:00<?, ?it/s]"
            ],
            "application/vnd.jupyter.widget-view+json": {
              "version_major": 2,
              "version_minor": 0,
              "model_id": "90a5663128024689b9162d189db862ba"
            }
          },
          "metadata": {}
        }
      ]
    },
    {
      "cell_type": "code",
      "source": [
        "list(qrels.keys())[0]"
      ],
      "metadata": {
        "colab": {
          "base_uri": "https://localhost:8080/",
          "height": 35
        },
        "id": "8fa_96z3tVWn",
        "outputId": "1ffd5041-f8c2-4a6c-aaba-a3d1e55d43e1"
      },
      "execution_count": 9,
      "outputs": [
        {
          "output_type": "execute_result",
          "data": {
            "text/plain": [
              "'PLAIN-2'"
            ],
            "application/vnd.google.colaboratory.intrinsic+json": {
              "type": "string"
            }
          },
          "metadata": {},
          "execution_count": 9
        }
      ]
    },
    {
      "cell_type": "code",
      "source": [
        "list(corpus.keys())[0]"
      ],
      "metadata": {
        "colab": {
          "base_uri": "https://localhost:8080/",
          "height": 35
        },
        "id": "vkT4ws3Ytnx6",
        "outputId": "dad5a36b-0d39-4476-db5c-032b949b7887"
      },
      "execution_count": 10,
      "outputs": [
        {
          "output_type": "execute_result",
          "data": {
            "text/plain": [
              "'MED-10'"
            ],
            "application/vnd.google.colaboratory.intrinsic+json": {
              "type": "string"
            }
          },
          "metadata": {},
          "execution_count": 10
        }
      ]
    },
    {
      "cell_type": "code",
      "source": [
        "corpus_ids = sorted(corpus, key=lambda k: len(corpus[k].get(\"title\", \"\") + corpus[k].get(\"text\", \"\")), reverse=True)"
      ],
      "metadata": {
        "id": "3rQHdwjcqMIA"
      },
      "execution_count": 11,
      "outputs": []
    },
    {
      "cell_type": "code",
      "source": [
        "type(corpus_ids)"
      ],
      "metadata": {
        "colab": {
          "base_uri": "https://localhost:8080/"
        },
        "id": "u8cHRd72qkwT",
        "outputId": "e5e01862-c30f-48fe-9031-a81834ee8b24"
      },
      "execution_count": 12,
      "outputs": [
        {
          "output_type": "execute_result",
          "data": {
            "text/plain": [
              "list"
            ]
          },
          "metadata": {},
          "execution_count": 12
        }
      ]
    },
    {
      "cell_type": "code",
      "source": [
        "corpus_ids[0]"
      ],
      "metadata": {
        "colab": {
          "base_uri": "https://localhost:8080/",
          "height": 35
        },
        "id": "2KWsHd01qm9k",
        "outputId": "aee70cf5-c507-4fd7-953d-14f71cd339d2"
      },
      "execution_count": 13,
      "outputs": [
        {
          "output_type": "execute_result",
          "data": {
            "text/plain": [
              "'MED-957'"
            ],
            "application/vnd.google.colaboratory.intrinsic+json": {
              "type": "string"
            }
          },
          "metadata": {},
          "execution_count": 13
        }
      ]
    },
    {
      "cell_type": "code",
      "source": [
        "for id in corpus_ids:\n",
        "  if id not in clean_centroid_dict_in_in:\n",
        "    corpus.pop(id, None)"
      ],
      "metadata": {
        "id": "pIS2wHmkqaNV"
      },
      "execution_count": 14,
      "outputs": []
    },
    {
      "cell_type": "code",
      "source": [
        "corpus_ids = sorted(corpus, key=lambda k: len(corpus[k].get(\"title\", \"\") + corpus[k].get(\"text\", \"\")), reverse=True)"
      ],
      "metadata": {
        "id": "p0_gffXXrK8D"
      },
      "execution_count": 15,
      "outputs": []
    },
    {
      "cell_type": "code",
      "source": [
        "clean_centroid_dict_in_in_list = [clean_centroid_dict_in_in[id] for id in corpus_ids]\n",
        "clean_centroid_dict_in_out_list = [clean_centroid_dict_in_out[id] for id in corpus_ids]"
      ],
      "metadata": {
        "id": "T4nE69ZqrJGp"
      },
      "execution_count": 16,
      "outputs": []
    },
    {
      "cell_type": "code",
      "source": [
        "import sys, os, csv, glob, json, uuid, pickle, math\n",
        "import gensim, logging\n",
        "import numpy as np, scipy, pandas as pd\n",
        "import nltk\n",
        "nltk.download('punkt')\n",
        "from operator import itemgetter\n",
        "import re, json\n",
        "\n",
        "class DESM:\n",
        "    def __init__(self, model_path, corpus_embedding, **kwargs):\n",
        "      self.model = gensim.models.word2vec.Word2Vec.load(model_path)\n",
        "      self.corpus_embedding = corpus_embedding\n",
        "\n",
        "\n",
        "    def get_embedding(self, x, vector_size, model, out=False):\n",
        "      if x in model.wv and out == True:\n",
        "          return model.syn1neg[model.wv.key_to_index[x]]\n",
        "      \n",
        "      elif x in model.wv and out == False:\n",
        "          return model.wv[x]\n",
        "      \n",
        "      else:\n",
        "          return np.zeros(vector_size)\n",
        "    \n",
        "    def encode_corpus(self, corpus, **kwargs):\n",
        "      return np.array(self.corpus_embedding)\n",
        "\n",
        "    def encode_queries(self, queries, **kwargs):\n",
        "      list_embed = []\n",
        "      for query in queries:\n",
        "        query_tokens = nltk.word_tokenize(query.lower())\n",
        "        list_embed.append([self.get_embedding(x, self.model.vector_size, self.model)\n",
        "              for x in query_tokens])\n",
        "      return list_embed\n",
        "\n"
      ],
      "metadata": {
        "colab": {
          "base_uri": "https://localhost:8080/"
        },
        "id": "pG6ZBoL_gPgD",
        "outputId": "9705f1d3-3f13-4278-e1fd-c195b2f32de2"
      },
      "execution_count": 60,
      "outputs": [
        {
          "output_type": "stream",
          "name": "stderr",
          "text": [
            "[nltk_data] Downloading package punkt to /root/nltk_data...\n",
            "[nltk_data]   Package punkt is already up-to-date!\n"
          ]
        }
      ]
    },
    {
      "cell_type": "code",
      "source": [
        "ls drive/MyDrive/retrain_nfc/model/"
      ],
      "metadata": {
        "colab": {
          "base_uri": "https://localhost:8080/"
        },
        "id": "xceOVlVXnkPB",
        "outputId": "499ecf0d-559c-4e1e-afaf-c108333bb6e1"
      },
      "execution_count": 18,
      "outputs": [
        {
          "output_type": "stream",
          "name": "stdout",
          "text": [
            "w2v-lc.model      w2v-lc.model.syn1neg.npy\n",
            "w2v-lc.model.bin  w2v-lc.model.wv.vectors.npy\n"
          ]
        }
      ]
    },
    {
      "cell_type": "code",
      "source": [
        "d = DESM('drive/MyDrive/retrain_nfc/model/w2v-lc.model', clean_centroid_dict_in_in_list)\n",
        "\n",
        "q_e = d.encode_queries(['Is veal bad?'])"
      ],
      "metadata": {
        "id": "Rt8wn3R_47lQ"
      },
      "execution_count": 61,
      "outputs": []
    },
    {
      "cell_type": "code",
      "source": [
        "type(q_e)"
      ],
      "metadata": {
        "colab": {
          "base_uri": "https://localhost:8080/"
        },
        "id": "yiH3VHy46uVb",
        "outputId": "0347efff-18f8-4ef4-f06d-2ddf5ce1a11b"
      },
      "execution_count": 62,
      "outputs": [
        {
          "output_type": "execute_result",
          "data": {
            "text/plain": [
              "list"
            ]
          },
          "metadata": {},
          "execution_count": 62
        }
      ]
    },
    {
      "cell_type": "code",
      "source": [
        "len(q_e)"
      ],
      "metadata": {
        "colab": {
          "base_uri": "https://localhost:8080/"
        },
        "id": "rPLx6z1tofN4",
        "outputId": "7bd4dea6-dceb-4e9c-fae5-32de8e54dbe7"
      },
      "execution_count": 63,
      "outputs": [
        {
          "output_type": "execute_result",
          "data": {
            "text/plain": [
              "1"
            ]
          },
          "metadata": {},
          "execution_count": 63
        }
      ]
    },
    {
      "cell_type": "code",
      "source": [
        "len(q_e[0])"
      ],
      "metadata": {
        "colab": {
          "base_uri": "https://localhost:8080/"
        },
        "id": "FMxqgJe2pCuB",
        "outputId": "a4f981c6-cdb6-4f7f-df57-ca4dbe19403b"
      },
      "execution_count": 64,
      "outputs": [
        {
          "output_type": "execute_result",
          "data": {
            "text/plain": [
              "4"
            ]
          },
          "metadata": {},
          "execution_count": 64
        }
      ]
    },
    {
      "cell_type": "code",
      "source": [
        "c_e = d.encode_corpus(corpus)"
      ],
      "metadata": {
        "id": "bohXER7DoBt-"
      },
      "execution_count": 66,
      "outputs": []
    },
    {
      "cell_type": "code",
      "source": [
        "c_e.shape"
      ],
      "metadata": {
        "colab": {
          "base_uri": "https://localhost:8080/"
        },
        "id": "TEes0YFOoFZU",
        "outputId": "843a1d1e-a9f6-4938-b235-bc9cd32cd18c"
      },
      "execution_count": 56,
      "outputs": [
        {
          "output_type": "execute_result",
          "data": {
            "text/plain": [
              "(3624, 200)"
            ]
          },
          "metadata": {},
          "execution_count": 56
        }
      ]
    },
    {
      "cell_type": "markdown",
      "source": [
        "generate dictionary that is top 1000 results for each query with the score. pass to pytrec_eval"
      ],
      "metadata": {
        "id": "LwNRhmXXwfU9"
      }
    },
    {
      "cell_type": "code",
      "source": [
        "from tqdm import tqdm"
      ],
      "metadata": {
        "id": "U2Ob2GkBr4Vw"
      },
      "execution_count": 75,
      "outputs": []
    },
    {
      "cell_type": "code",
      "source": [
        "len(queries)"
      ],
      "metadata": {
        "colab": {
          "base_uri": "https://localhost:8080/"
        },
        "id": "R7zGPu6br7tT",
        "outputId": "46405995-c4f9-498b-8913-e03acc0f9d1a"
      },
      "execution_count": 76,
      "outputs": [
        {
          "output_type": "execute_result",
          "data": {
            "text/plain": [
              "323"
            ]
          },
          "metadata": {},
          "execution_count": 76
        }
      ]
    },
    {
      "cell_type": "code",
      "source": [
        "corpus['MED-2468']"
      ],
      "metadata": {
        "id": "uiitmAXsyB-c"
      },
      "execution_count": null,
      "outputs": []
    },
    {
      "cell_type": "code",
      "source": [
        "def score_document(query_embed, doc_centroid):\n",
        "    cos_similarity = [(1 - scipy.spatial.distance.cosine(qin, doc_centroid)) \n",
        "                        for qin in query_embed]\n",
        "    \n",
        "    return (sum(cos_similarity)/len(query_embed))\n",
        "\n",
        "scores_in_in_results = {}\n",
        "scores_in_out_results = {}\n",
        "\n",
        "for query_key, query_val in tqdm(queries.items(), total = 323):\n",
        "  q_e = d.encode_queries([query_val])\n",
        "\n",
        "  scores_in_in = []\n",
        "  scores_in_out = []\n",
        "\n",
        "  for k,v in clean_centroid_dict_in_in.items():\n",
        "      scores_in_in.append((k, score_document(q_e[0], v)))\n",
        "  for k,v in clean_centroid_dict_in_out.items():\n",
        "      scores_in_out.append((k, score_document(q_e[0], v)))\n",
        "\n",
        "  scores_in_in = dict(sorted(scores_in_in, key=itemgetter(1), reverse=True)[:1000])\n",
        "  scores_in_out = dict(sorted(scores_in_out, key=itemgetter(1), reverse=True)[:1000])\n",
        "\n",
        "  scores_in_in_results[query_key] = scores_in_in\n",
        "  scores_in_out_results[query_key] = scores_in_out"
      ],
      "metadata": {
        "colab": {
          "base_uri": "https://localhost:8080/"
        },
        "id": "r2S4eSyulZW7",
        "outputId": "d2cf2419-6d54-4caa-d42a-e3915154575a"
      },
      "execution_count": 77,
      "outputs": [
        {
          "output_type": "stream",
          "name": "stderr",
          "text": [
            "\r  0%|          | 0/323 [00:00<?, ?it/s]/usr/local/lib/python3.10/dist-packages/scipy/spatial/distance.py:622: RuntimeWarning: invalid value encountered in double_scalars\n",
            "  dist = 1.0 - uv / np.sqrt(uu * vv)\n",
            "100%|██████████| 323/323 [06:24<00:00,  1.19s/it]\n"
          ]
        }
      ]
    },
    {
      "cell_type": "code",
      "source": [
        "import pytrec_eval\n"
      ],
      "metadata": {
        "id": "LLZyCPWGvL9Q"
      },
      "execution_count": 78,
      "outputs": []
    },
    {
      "cell_type": "code",
      "source": [
        "query_val = 'veal'\n",
        "scores_in_in = []\n",
        "q_e = d.encode_queries([query_val])\n",
        "for k,v in clean_centroid_dict_in_in.items():\n",
        "  scores_in_in.append((k, score_document(q_e[0], v)))\n",
        "\n",
        "scores_in_in = sorted(scores_in_in, key=itemgetter(1), reverse=True)[:1000]\n",
        "\n",
        "query_val = 'veal'\n",
        "scores_in_out = []\n",
        "q_e = d.encode_queries([query_val])\n",
        "for k,v in clean_centroid_dict_in_in.items():\n",
        "  scores_in_out.append((k, score_document(q_e[0], v)))\n",
        "\n",
        "scores_in_out = sorted(scores_in_out, key=itemgetter(1), reverse=True)[:1000]"
      ],
      "metadata": {
        "id": "Hc52f27SwcPC"
      },
      "execution_count": 85,
      "outputs": []
    },
    {
      "cell_type": "code",
      "source": [
        "path"
      ],
      "metadata": {
        "colab": {
          "base_uri": "https://localhost:8080/",
          "height": 35
        },
        "id": "hgv3rHaaxNpy",
        "outputId": "65b66037-e2fe-45ed-c0a5-95b7dc028a11"
      },
      "execution_count": 82,
      "outputs": [
        {
          "output_type": "execute_result",
          "data": {
            "text/plain": [
              "'drive/MyDrive/retrain_nfc/'"
            ],
            "application/vnd.google.colaboratory.intrinsic+json": {
              "type": "string"
            }
          },
          "metadata": {},
          "execution_count": 82
        }
      ]
    },
    {
      "cell_type": "code",
      "source": [
        "def view_files(doc_list):\n",
        "    for path in doc_list:\n",
        "        print('\\033[1m' + 'DOCUMENT NUMBER: ' + '\\033[0m', path)\n",
        "        \n",
        "        print(corpus[path])"
      ],
      "metadata": {
        "id": "Hp1JofYRxJZU"
      },
      "execution_count": 93,
      "outputs": []
    },
    {
      "cell_type": "code",
      "source": [
        "top_5_in_in = [x[0] for x in scores_in_in[:5]]\n",
        "\n",
        "in_in_top5 = []\n",
        "\n",
        "for fname in top_5_in_in:\n",
        "    in_in_top5.append(fname)\n",
        "\n",
        "view_files(in_in_top5)"
      ],
      "metadata": {
        "colab": {
          "base_uri": "https://localhost:8080/"
        },
        "id": "ZafV26kjw_iu",
        "outputId": "2dd1cd45-d387-4ddb-fa24-c07fb5c1a083"
      },
      "execution_count": 94,
      "outputs": [
        {
          "output_type": "stream",
          "name": "stdout",
          "text": [
            "\u001b[1mDOCUMENT NUMBER: \u001b[0m MED-2468\n",
            "{'text': 'BACKGROUND AND METHODS: We estimated the prevalence of self-reported asthma in adult Indians and examined several risk factors influencing disease prevalence. Analysis is based on 99 574 women and 56 742 men aged 20–49 years included in India’s third National Family Health Survey, 2005–2006. Multiple logistic regression analysis was used to estimate the prevalence odds ratios for asthma, adjusting for various risk factors. RESULTS: The prevalence of self-reported asthma was 1.8% (95%CI 1.6–2.0) among men and 1.9% (95%CI 1.8–2.0) among women, with higher rates in rural than in urban areas and marked geographic differences. After adjustment for known asthma risk factors, women were 1.2 times more likely to have asthma than men. Daily/weekly consumption of milk/milk products, green leafy vegetables and fruits were associated with a lower asthma risk, whereas consumption of chicken/meat, a lower body mass index (BMI; <16 kg/m2, OR 2.08, 95%CI 1.73–2.50) as well as a higher BMI (>30 kg/m2, OR 1.67, 95%CI 1.36–2.06), current tobacco smoking (OR 1.30, 95%CI 1.12–1.50) and ever use of alcohol (OR 1.21, 95%CI 1.05–1.39) were associated with an increased asthma risk. CONCLUSIONS: There are wide regional variations in the prevalence of asthma in India. With the exception of the findings for BMI, however, most of the associations of asthma with the risk factors are relatively weak and account for only a small proportion of cases. RÉSUMÉ CONTEXTE ET MÉTHODES: Nous avons estimé la prévalence auto-rapportée de l’asthme chez les Indiens adultes et examiné plusieurs facteurs de risque influençant la prévalence de la maladie. L’analyse repose sur 99 574 femmes et 56 742 hommes âgés de 20 à 49 ans et inclus dans la troisième Enquête Nationale des Familles en Inde, 2005–2006. On a utilisé l’analyse de régression logistique multiple pour estimer les odds ratio de prévalence pour l’asthme, après ajustement pour divers facteurs de risque. RÉSULTATS: La prévalence auto-rapportée de l’asthme est de 1,8% (IC95% 1,6–2,0) parmi les hommes et de 1,9% (IC95% 1,8–2,0) parmi les femmes, les taux étant plus élevés dans les zones rurales que dans les zones urbaines, et les différences géographiques étant marquées. Après ajustement pour les facteurs de risque d’asthme connus, les femmes sont 1,2 fois plus susceptibles de souffrir de l’asthme que les hommes. La consommation quotidienne ou hebdomadaire de lait/produits laitiers, de légumes à feuilles vertes et de fruits est en association avec un risque plus faible d’asthme alors que la consommation de poulet ou de viande, un index de masse corporelle (BMI) plus bas (<16 kg/m2, OR 2,08 ; IC95% 1,73–2,50) ainsi qu’un BMI plus élevé (>30 kg/m2, OR 1,67 ; IC95% 1,36–2,06), le fait de fumer du tabac actuellement (OR 1,30 ; IC95% 1,12–1,50) et l’utilisation de l’alcool à un moment quelconque (OR 1,21 ; IC95% 1,05–1,39) sont en association avec un risque accru d’asthme. La prévalence de l’asthme en Inde varie largement selon les régions. Toutefois, à l’exception des observations sur le BMI, l’association de l’asthme avec les facteurs de risque est relativement faible et ne rend compte que d’une petite proportion des cas seulement. RESUMEN MARCO DE REFERENCIA Y MÉTODOS: Se calculó la prevalencia de asma autorreferida en los adultos en la India y se evaluaron varios factores de riesgo que influyen sobre la prevalencia de la enfermedad. El estudio se basó en las 99 574 mujeres y los 56 742 hombres de 20 a 49 años de edad que participaron en la tercera Encuesta Nacional sobre la Salud de la Familia en la India entre el 2005 y el 2006. Mediante un análisis de regresión logística multifactorial se calculó la prevalencia de asma y el cociente de posibilidades de padecerla, al corregir diversos factores de riesgo. RESULTADOS: La prevalencia de asma autorreferida fue 1,8% en los hombres (intervalo de confianza [IC] del 95% 1,6 a 2,0) y 1,9% en las mujeres (IC95% 1,8 a 2,0); se observaron tasas más altas en las zonas rurales que en las zonas urbanas y se presentaron diferencias geográficas considerables. Tras corregir en función de algunos factores de riesgo de padecer asma conocidos, las mujeres presentaron una probabilidad 1,2 veces superior a los hombres de sufrir la enfermedad. El consumo diario o semanal de leche o productos lácteos, hortalizas de hojas verdes y frutas se asoció con un menor riesgo de asma y el consumo de carne de pollo o de res, un bajo índice de masa corporal (<16 kg/m2; OR 2,08; IC95% 1,73 a 2,50) igual que un alto índice de masa corporal (>30 kg/m2; OR 1,67; IC95% 1,36 a 2,06), el tabaquismo actual (OR 1,30; IC95% 1,12 a 1,50) y el consumo de alcohol en algún momento de la vida (OR 1,21; IC95% 1,05 a 1,39) se asociaron con un mayor riesgo de padecer la enfermedad. CONCLUSIÓN: Existen amplias variaciones geográficas en la prevalencia de asma en la India. Sin embargo, con la excepción del índice de masa corporal, la mayor parte de las asociaciones del asma con los factores de riesgo fueron débiles y explican solo una pequeña proporción de los casos.', 'title': 'Prevalence and risk factors for self-reported asthma in an adult Indian population: a cross-sectional survey'}\n",
            "\u001b[1mDOCUMENT NUMBER: \u001b[0m MED-834\n",
            "{'text': 'Polycystic ovarian syndrome (PCOS) affects 18–22% of women at reproductive age. We conducted a systematic review and meta-analysis evaluating the expected benefits of lifestyle (exercise plus diet) interventions on the reproductive endocrine profile in women with PCOS. Potential studies were identified by systematically searching PubMed, CINAHL and the Cochrane Controlled Trials Registry (1966–April 30, 2013) systematically using key concepts of PCOS. Significant improvements were seen in women receiving lifestyle intervention vs usual care in follicle-stimulating hormone (FSH) levels, mean difference (MD) 0.39\\u200aIU/l (95% CI 0.09 to 0.70, P=0.01), sex hormone-binding globulin (SHBG) levels, MD 2.37\\u200anmol/l (95% CI 1.27 to 3.47, P<0.0001), total testosterone levels, MD −0.13\\u200anmol/l (95% CI −0.22 to −0.03, P=0.008), androstenedione levels, MD −0.09\\u200ang/dl (95% CI −0.15 to −0.03, P=0.005), free androgen index (FAI) levels, MD −1.64 (95% CI −2.94 to −0.35, P=0.01) and Ferriman–Gallwey (FG) score, MD −1.01 (95% CI −1.54 to −0.48, P=0.0002). Significant improvements were also observed in women who received exercise-alone intervention vs usual care in FSH levels, MD 0.42\\u200aIU/l (95% CI 0.11 to 0.73, P=0.009), SHBG levels, MD 3.42\\u200anmol/l (95% CI 0.11 to 6.73, P=0.04), total testosterone levels, MD −0.16\\u200anmol/l (95% CI −0.29 to −0.04, P=0.01), androstenedione levels, MD −0.09\\u200ang/dl (95% CI −0.16 to −0.03, P=0.004) and FG score, MD −1.13 (95% CI −1.88 to −0.38, P=0.003). Our analyses suggest that lifestyle (diet and exercise) intervention improves levels of FSH, SHBG, total testosterone, androstenedione and FAI, and FG score in women with PCOS.', 'title': 'Effect of lifestyle intervention on the reproductive endocrine profile in women with polycystic ovarian syndrome: a systematic review and meta-analysis'}\n",
            "\u001b[1mDOCUMENT NUMBER: \u001b[0m MED-5080\n",
            "{'text': 'Bioactivity-guided fractionation of black bean (Phaseolus vulgaris) seed coats was used to determine the chemical identity of bioactive constituents, which showed potent antiproliferative and antioxidative activities. Twenty-four compounds including 12 triterpenoids, 7 flavonoids, and 5 other phytochemicals were isolated using gradient solvent fractionation, silica gel and ODS columns, and semipreparative and preparative HPLC. Their chemical structures were identified using MS, NMR, and X-ray diffraction analysis. Antiproliferative activities of isolated compounds against Caco-2 human colon cancer cells, HepG2 human liver cancer cells, and MCF-7 human breast cancer cells were evaluated. Among the compounds isolated, compounds 1, 2, 6, 7, 8, 13, 14, 15, 16, 19, and 20 showed potent inhibitory activities against the proliferation of HepG2 cells, with EC50 values of 238.8 +/- 19.2, 120.6 +/- 7.3, 94.4 +/- 3.4, 98.9 +/- 3.3, 32.1 +/- 6.3, 306.4 +/- 131.3, 156.9 +/- 11.8, 410.3 +/- 17.4, 435.9 +/- 47.7, 202.3 +/- 42.9, and 779.3 +/- 37.4 microM, respectively. Compounds 1, 2, 3, 5, 6, 7, 8, 9, 10, 11, 14, 15, 19, and 20 showed potent antiproliferative activities against Caco-2 cell growth, with EC50 values of 179.9 +/- 16.9, 128.8 +/- 11.6, 197.8 +/- 4.2, 105.9 +/- 4.7, 13.9 +/- 2.8, 35.1 +/- 2.9, 31.2 +/- 0.5, 71.1 +/- 11.9, 40.8 +/- 4.1, 55.7 +/- 8.1, 299.8 +/- 17.3, 533.3 +/- 126.0, 291.2 +/- 1.0, and 717.2 +/- 104.8 microM, respectively. Compounds 5, 7, 8, 9, 11, 19, 20 showed potent antiproliferative activities against MCF-7 cell growth in a dose-dependent manner, with EC50 values of 129.4 +/- 9.0, 79.5 +/- 1.0, 140.1 +/- 31.8, 119.0 +/- 7.2, 84.6 +/- 1.7, 186.6 +/- 21.1, and 1308 +/- 69.9 microM, respectively. Six flavonoids (compounds 14-19) showed potent antioxidant activity. These results showed the phytochemical extracts of black bean seed coats have potent antioxidant and antiproliferative activities.', 'title': 'Phytochemicals of black bean seed coats: isolation, structure elucidation, and their antiproliferative and antioxidative activities.'}\n",
            "\u001b[1mDOCUMENT NUMBER: \u001b[0m MED-3714\n",
            "{'text': \"The present study was conducted to determine differences in antioxidant levels of fresh, frozen, and freeze-dried strawberries, and strawberry jam. Hydrophilic antioxidant activity (HAA) and lipophilic antioxidant activity (LAA) were measured using the ABTS/H₂O₂/HRP decoloration method. HAA and LAA were then summed to calculate the total antioxidant activity (TAA). Mean differences in HAA and LAA were analyzed using one-way analysis of variance and Dunnett's T3 pairwise comparisons. The mean TAA for freeze-dried strawberries based on an 'as consumed' weight (95% confidence interval [CI]: 29.58, 30.58) was significantly higher than for fresh (95% CI: 3.18, 3.66), frozen (95% CI: 2.58, 2.79), and jam (95% CI: 1.10, 1.22). The mean TAA based on dry weight for fresh strawberries (95% CI: 40.48, 46.67) was significantly higher than for freeze-dried (95% CI: 29.58, 30.58), frozen (95% CI: 24.62, 26.59), and jam (95% CI: 1.48, 1.64). Results agree with previous studies reporting that strawberries are a valuable source of antioxidants for consumers.\", 'title': 'Differences in antioxidant levels of fresh, frozen and freeze-dried strawberries and strawberry jam.'}\n",
            "\u001b[1mDOCUMENT NUMBER: \u001b[0m MED-2896\n",
            "{'text': \"The relation between dietary antioxidant intake and primary open-angle glaucoma risk was examined in participants aged over 40 years in the Nurses' Health Study (n = 76,200) and the Health Professionals Follow-up Study (n = 40,284). They were followed biennially from 1980 and 1986, respectively, to 1996, during periods when they received an eye examination. Dietary intakes were measured repeatedly from 1980 in the Nurses' Health Study and from 1986 in the Health Professionals Follow-up Study using validated food frequency questionnaires. The authors analyzed 474 self-reported glaucoma cases confirmed by medical chart review to have primary open-angle glaucoma with visual field loss. The authors used Cox proportional hazards models for cohort-specific multivariate analyses, and results were pooled using random effects models. The pooled multivariate rate ratios for primary open-angle glaucoma comparing the highest versus lowest quintile of cumulative updated intake were 1.17 (95% confidence interval (CI): 0.87, 1.58) for alpha-carotene, 1.10 (95% CI: 0.82, 1.48) for beta-carotene, 0.95 (95% CI: 0.70, 1.29) for beta-cryptoxanthin, 0.82 (95% CI: 0.60, 1.12) for lycopene, 0.92 (95% CI: 0.69, 1.24) for lutein/zeaxanthin, 1.05 (95% CI: 0.59, 1.89) for vitamin C, 0.97 (95% CI: 0.62, 1.52) for vitamin E, and 1.11 (95% CI: 0.82, 1.51) for vitamin A. In conclusion, the authors did not observe any strong associations between antioxidant consumption and the risk of primary open-angle glaucoma.\", 'title': 'Antioxidant intake and primary open-angle glaucoma: a prospective study.'}\n"
          ]
        }
      ]
    },
    {
      "cell_type": "code",
      "source": [
        "in_in_top5[0]"
      ],
      "metadata": {
        "colab": {
          "base_uri": "https://localhost:8080/",
          "height": 35
        },
        "id": "KVJcsLZnxI7Z",
        "outputId": "4c23dcc6-43ba-402f-bdfd-3f60df1f94eb"
      },
      "execution_count": 87,
      "outputs": [
        {
          "output_type": "execute_result",
          "data": {
            "text/plain": [
              "'MED-2468'"
            ],
            "application/vnd.google.colaboratory.intrinsic+json": {
              "type": "string"
            }
          },
          "metadata": {},
          "execution_count": 87
        }
      ]
    },
    {
      "cell_type": "code",
      "source": [
        "path + '/inputs/contents/'"
      ],
      "metadata": {
        "colab": {
          "base_uri": "https://localhost:8080/",
          "height": 35
        },
        "id": "5h3e6AAmxlsn",
        "outputId": "3e235aed-114d-4624-eb1c-ec9de8be8bb7"
      },
      "execution_count": 88,
      "outputs": [
        {
          "output_type": "execute_result",
          "data": {
            "text/plain": [
              "'drive/MyDrive/retrain_nfc//inputs/contents/'"
            ],
            "application/vnd.google.colaboratory.intrinsic+json": {
              "type": "string"
            }
          },
          "metadata": {},
          "execution_count": 88
        }
      ]
    },
    {
      "cell_type": "code",
      "source": [
        "ls drive/MyDrive/retrain_nfc/inputs/contents/"
      ],
      "metadata": {
        "id": "ny7a8HiXxjb9"
      },
      "execution_count": null,
      "outputs": []
    },
    {
      "cell_type": "code",
      "source": [
        "k_values = [1,3,5,10,100,1000]\n",
        "\n",
        "ndcg = {}\n",
        "_map = {}\n",
        "recall = {}\n",
        "precision = {}\n",
        "\n",
        "for k in k_values:\n",
        "    ndcg[f\"NDCG@{k}\"] = 0.0\n",
        "    _map[f\"MAP@{k}\"] = 0.0\n",
        "    recall[f\"Recall@{k}\"] = 0.0\n",
        "    precision[f\"P@{k}\"] = 0.0\n",
        "\n",
        "map_string = \"map_cut.\" + \",\".join([str(k) for k in k_values])\n",
        "ndcg_string = \"ndcg_cut.\" + \",\".join([str(k) for k in k_values])\n",
        "recall_string = \"recall.\" + \",\".join([str(k) for k in k_values])\n",
        "precision_string = \"P.\" + \",\".join([str(k) for k in k_values])\n",
        "evaluator = pytrec_eval.RelevanceEvaluator(qrels, {map_string, ndcg_string, recall_string, precision_string})\n",
        "scores_in_in = evaluator.evaluate(scores_in_in_results)\n",
        "\n",
        "for query_id in scores_in_in.keys():\n",
        "    for k in k_values:\n",
        "        ndcg[f\"NDCG@{k}\"] += scores_in_in[query_id][\"ndcg_cut_\" + str(k)]\n",
        "        _map[f\"MAP@{k}\"] += scores_in_in[query_id][\"map_cut_\" + str(k)]\n",
        "        recall[f\"Recall@{k}\"] += scores_in_in[query_id][\"recall_\" + str(k)]\n",
        "        precision[f\"P@{k}\"] += scores_in_in[query_id][\"P_\"+ str(k)]\n",
        "\n",
        "for k in k_values:\n",
        "    ndcg[f\"NDCG@{k}\"] = round(ndcg[f\"NDCG@{k}\"]/len(scores_in_in), 5)\n",
        "    _map[f\"MAP@{k}\"] = round(_map[f\"MAP@{k}\"]/len(scores_in_in), 5)\n",
        "    recall[f\"Recall@{k}\"] = round(recall[f\"Recall@{k}\"]/len(scores_in_in), 5)\n",
        "    precision[f\"P@{k}\"] = round(precision[f\"P@{k}\"]/len(scores_in_in), 5)\n",
        "\n",
        "for eval in [ndcg, _map, recall, precision]:\n",
        "    print(\"\\n\")\n",
        "    for k in eval.keys():\n",
        "        print(\"{}: {:.4f}\".format(k, eval[k]))\n"
      ],
      "metadata": {
        "id": "rllnsZwTt6fc"
      },
      "execution_count": null,
      "outputs": []
    },
    {
      "cell_type": "code",
      "source": [
        "k_values = [1,3,5,10,100,1000]\n",
        "\n",
        "ndcg = {}\n",
        "_map = {}\n",
        "recall = {}\n",
        "precision = {}\n",
        "\n",
        "for k in k_values:\n",
        "    ndcg[f\"NDCG@{k}\"] = 0.0\n",
        "    _map[f\"MAP@{k}\"] = 0.0\n",
        "    recall[f\"Recall@{k}\"] = 0.0\n",
        "    precision[f\"P@{k}\"] = 0.0\n",
        "\n",
        "map_string = \"map_cut.\" + \",\".join([str(k) for k in k_values])\n",
        "ndcg_string = \"ndcg_cut.\" + \",\".join([str(k) for k in k_values])\n",
        "recall_string = \"recall.\" + \",\".join([str(k) for k in k_values])\n",
        "precision_string = \"P.\" + \",\".join([str(k) for k in k_values])\n",
        "evaluator = pytrec_eval.RelevanceEvaluator(qrels, {map_string, ndcg_string, recall_string, precision_string})\n",
        "scores_in_out = evaluator.evaluate(scores_in_out_results)\n",
        "\n",
        "for query_id in scores_in_out.keys():\n",
        "    for k in k_values:\n",
        "        ndcg[f\"NDCG@{k}\"] += scores_in_out[query_id][\"ndcg_cut_\" + str(k)]\n",
        "        _map[f\"MAP@{k}\"] += scores_in_out[query_id][\"map_cut_\" + str(k)]\n",
        "        recall[f\"Recall@{k}\"] += scores_in_out[query_id][\"recall_\" + str(k)]\n",
        "        precision[f\"P@{k}\"] += scores_in_out[query_id][\"P_\"+ str(k)]\n",
        "\n",
        "for k in k_values:\n",
        "    ndcg[f\"NDCG@{k}\"] = round(ndcg[f\"NDCG@{k}\"]/len(scores_in_out), 5)\n",
        "    _map[f\"MAP@{k}\"] = round(_map[f\"MAP@{k}\"]/len(scores_in_out), 5)\n",
        "    recall[f\"Recall@{k}\"] = round(recall[f\"Recall@{k}\"]/len(scores_in_out), 5)\n",
        "    precision[f\"P@{k}\"] = round(precision[f\"P@{k}\"]/len(scores_in_out), 5)\n",
        "\n",
        "for eval in [ndcg, _map, recall, precision]:\n",
        "    print(\"\\n\")\n",
        "    for k in eval.keys():\n",
        "        print(\"{}: {:.4f}\".format(k, eval[k]))"
      ],
      "metadata": {
        "id": "t9j39kwDujjY"
      },
      "execution_count": null,
      "outputs": []
    },
    {
      "cell_type": "code",
      "source": [],
      "metadata": {
        "id": "pVoYtNg6vK5Y"
      },
      "execution_count": null,
      "outputs": []
    }
  ]
}